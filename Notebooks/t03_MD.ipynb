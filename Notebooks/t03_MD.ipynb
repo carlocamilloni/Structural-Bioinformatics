{
  "nbformat": 4,
  "nbformat_minor": 0,
  "metadata": {
    "colab": {
      "provenance": [],
      "collapsed_sections": [
        "V89XNV04n0e8",
        "cKKAau5tn60c",
        "qIsKpmjyptpV"
      ],
      "authorship_tag": "ABX9TyMPP5XOpjkdiknup8b9t3sP",
      "include_colab_link": true
    },
    "kernelspec": {
      "name": "python3",
      "display_name": "Python 3"
    },
    "language_info": {
      "name": "python"
    }
  },
  "cells": [
    {
      "cell_type": "markdown",
      "metadata": {
        "id": "view-in-github",
        "colab_type": "text"
      },
      "source": [
        "<a href=\"https://colab.research.google.com/github/carlocamilloni/Structural-Bioinformatics/blob/main/Notebooks/t03_MD.ipynb\" target=\"_parent\"><img src=\"https://colab.research.google.com/assets/colab-badge.svg\" alt=\"Open In Colab\"/></a>"
      ]
    },
    {
      "cell_type": "markdown",
      "source": [
        "# Molecular Dynamics simulation with GROMACS"
      ],
      "metadata": {
        "id": "aqZ8keDNLwKD"
      }
    },
    {
      "cell_type": "markdown",
      "source": [
        "The aim of this experience is to run  Molecular Dynamics simulations of simple systems and analyze them, we will focus on water and alanine dipeptide.\n",
        "\n",
        "The reference lectures are:\n",
        "\n",
        "*   https://github.com/carlocamilloni/Structural-Bioinformatics/blob/main/Notes/02_StochasticMolecules.pdf\n",
        "*   https://github.com/carlocamilloni/Structural-Bioinformatics/blob/main/Notes/03_MolecularDynamics.pdf\n",
        "\n"
      ],
      "metadata": {
        "id": "bohgSeSVOR5G"
      }
    },
    {
      "cell_type": "markdown",
      "source": [
        "## Preliminary setup"
      ],
      "metadata": {
        "id": "fLNYe0QPOPb6"
      }
    },
    {
      "cell_type": "markdown",
      "source": [
        "Before running this tasl it is helpfull to be sure that we have access to a GPU."
      ],
      "metadata": {
        "id": "thljgW4wsnw3"
      }
    },
    {
      "cell_type": "code",
      "source": [
        "!nvidia-smi"
      ],
      "metadata": {
        "id": "uX0H-UFisu_Q"
      },
      "execution_count": null,
      "outputs": []
    },
    {
      "cell_type": "markdown",
      "source": [
        "if the above command is not found, then\n",
        "`Runtime->change runtime` and select T4-GPU. Once it is ready test the above cell again."
      ],
      "metadata": {
        "id": "dC2qpX0nsw1n"
      }
    },
    {
      "cell_type": "code",
      "source": [
        "# install gromacs requirements\n",
        "!apt update -qq\n",
        "!apt install -y cmake build-essential libfftw3-dev wget"
      ],
      "metadata": {
        "id": "iA8ys6v__KcV"
      },
      "execution_count": null,
      "outputs": []
    },
    {
      "cell_type": "code",
      "source": [
        "# install gromacs\n",
        "!wget https://ftp.gromacs.org/gromacs/gromacs-2025.3.tar.gz\n",
        "!tar -xzf gromacs-2025.3.tar.gz\n",
        "%cd gromacs-2025.3\n",
        "%mkdir build\n",
        "%cd build\n",
        "!cmake .. -DCMAKE_BUILD_TYPE=Release -DGMX_GPU=CUDA\n",
        "!make -j4\n",
        "!make install\n",
        "!ln -s /usr/local/gromacs/bin/gmx /usr/bin/gmx"
      ],
      "metadata": {
        "id": "SydGP0H3sJ3x"
      },
      "execution_count": null,
      "outputs": []
    },
    {
      "cell_type": "code",
      "execution_count": null,
      "metadata": {
        "id": "2mzzmISjKvHY"
      },
      "outputs": [],
      "source": [
        "# mount google drive\n",
        "from google.colab import drive\n",
        "drive.mount('/content/drive')\n",
        "%cd /content/drive/MyDrive"
      ]
    },
    {
      "cell_type": "markdown",
      "source": [
        "Make a new folder for this task using the menus on the left side: for example in /drive/MyDrive/Structural_Bioinformatics make a folder named Task3."
      ],
      "metadata": {
        "id": "oajnnDYnA4AZ"
      }
    },
    {
      "cell_type": "code",
      "source": [
        "# set the path to your local task folder\n",
        "local_path='/content/drive/MyDrive/Structural_Bioinformatics/Task3'\n",
        "%cd {local_path}"
      ],
      "metadata": {
        "id": "iERV06tGMLjh"
      },
      "execution_count": null,
      "outputs": []
    },
    {
      "cell_type": "code",
      "source": [
        "# make a copy of the GitHub structural bioinformatics repository\n",
        "%cd {local_path}\n",
        "%cd ..\n",
        "%rm -rf sb\n",
        "!git clone https://github.com/carlocamilloni/Structural-Bioinformatics.git sb --depth 1\n",
        "%cd {local_path}"
      ],
      "metadata": {
        "id": "8c40dtBITm23"
      },
      "execution_count": null,
      "outputs": []
    },
    {
      "cell_type": "markdown",
      "source": [
        "All GROMACS tools are modules of a binary named `gmx`. To get help about any GROMACS module, you can invoke either of the following commands:\n",
        "```\n",
        "gmx help (module)\n",
        "```\n",
        "or\n",
        "```\n",
        "gmx (module) -h\n",
        "```\n",
        "where `(module)` is replaced by the actual name of the command you're trying to issue. A full list of GROMACS modules can be printed by\n",
        "```\n",
        "gmx help commands\n",
        "```\n",
        "###Units\n",
        "\n",
        "Basic units in GROMACS are\n",
        "```\n",
        "Time: ps\n",
        "Space: nm\n",
        "Energy: kJ/mol\n",
        "```"
      ],
      "metadata": {
        "id": "HWrRjAZyQLRC"
      }
    },
    {
      "cell_type": "markdown",
      "source": [
        "## Molecular Dynamics of Lysozyme in solution"
      ],
      "metadata": {
        "id": "R1ydJn5eyBKM"
      }
    },
    {
      "cell_type": "markdown",
      "source": [
        "Here you will setup a simulation for hen egg-white lysozyme, a widely study system in structural biology. Its crystal structure can be find on the PDB as 1AKI"
      ],
      "metadata": {
        "id": "zo3shiuCyJ-u"
      }
    },
    {
      "cell_type": "markdown",
      "source": [
        "### Initial setup"
      ],
      "metadata": {
        "id": "AJnmRQLU44Fr"
      }
    },
    {
      "cell_type": "code",
      "source": [
        "# Download the structure from the PDB\n",
        "%cd {local_path}\n",
        "!wget https://files.rcsb.org/view/1AKI.pdb"
      ],
      "metadata": {
        "id": "Qs3ax122zVPw"
      },
      "execution_count": null,
      "outputs": []
    },
    {
      "cell_type": "code",
      "source": [
        "# Remove structural waters\n",
        "!grep -v HOH 1AKI.pdb > 1AKI_clean.pdb"
      ],
      "metadata": {
        "id": "znce4-mJzmpA"
      },
      "execution_count": null,
      "outputs": []
    },
    {
      "cell_type": "markdown",
      "source": [
        "At this point one has to select the force field and the water model to be used in the simulation and prepare what is called the topology of the system, that is a file describing all the interactions as they appear in our system of interest. In GROMACS this is done using `pdb2gmx` and selecting some options. Becasue it is not possible to select options in `colab` we will need to provide them as flags:"
      ],
      "metadata": {
        "id": "MwYOFAcWz0i8"
      }
    },
    {
      "cell_type": "code",
      "source": [
        "# here we use charmm27 as a force field and tip3p as the water model\n",
        "# we do not set protonation states so that by default we use pH 7\n",
        "!gmx pdb2gmx -f 1AKI_clean.pdb -o 1AKI_processed.gro -ignh -water tip3p -ff \"charmm27\""
      ],
      "metadata": {
        "id": "NbQOp8h-0Nxm"
      },
      "execution_count": null,
      "outputs": []
    },
    {
      "cell_type": "code",
      "source": [
        "# some new files have been created, in particular:\n",
        "# topol.top is the TOPOLOGY file\n",
        "# 1AKI_processed.gro is the initial structure in default GROMACS format\n",
        "%ls"
      ],
      "metadata": {
        "id": "4AxQJFfx1FD-"
      },
      "execution_count": null,
      "outputs": []
    },
    {
      "cell_type": "markdown",
      "source": [
        "The following step is to place the structure in a BOX that should be large enough to avoid self-interactions of the molecule through the sides but small enough to maximise performances. We set the box using `editconf`."
      ],
      "metadata": {
        "id": "YEbakVPf02sw"
      }
    },
    {
      "cell_type": "code",
      "source": [
        "# set a dodecahedron like box whose distance from the protein is at least 1.2 nm\n",
        "!gmx editconf -f 1AKI_processed.gro -bt dodecahedron -d 1.2 -o 1AKI_box.gro"
      ],
      "metadata": {
        "id": "O9VtJyO41wuf"
      },
      "execution_count": null,
      "outputs": []
    },
    {
      "cell_type": "markdown",
      "source": [
        "Then we can solvate the protein using `solvate`:"
      ],
      "metadata": {
        "id": "9pYUtUPo2I1t"
      }
    },
    {
      "cell_type": "code",
      "source": [
        "# here we use spc216.gro coordinates of the solvent that are equivalent to tip3p\n",
        "!gmx solvate -cp 1AKI_box -cs spc216.gro -p topol.top -o 1AKI_solv.gro"
      ],
      "metadata": {
        "id": "QSm6Stfp2NL0"
      },
      "execution_count": null,
      "outputs": []
    },
    {
      "cell_type": "markdown",
      "source": [
        "You should see from the log something like 8700 water molecule that have been added to the system."
      ],
      "metadata": {
        "id": "8GQJ3rdlztiy"
      }
    },
    {
      "cell_type": "markdown",
      "source": [
        "Next step is to add salts, to do this we need to calculate eletrostatic interactions and so we need to process the topology and structure and generate a GROMACS MD simulation input file. This is done using `grompp` and a molecular dynamics paratemers `.mdp` file. The the resulting file `ions.tpr` is used with the `genion` tool."
      ],
      "metadata": {
        "id": "tvZVrQbn2uci"
      }
    },
    {
      "cell_type": "code",
      "source": [
        "# copy an .mdp file from the downloaded structural bioinformatics repository\n",
        "%cp ../sb/Data/md/mdps/0-em-steep.mdp .\n",
        "# prepare a gromacs MD file combining structure, topolgy and parameters\n",
        "!gmx grompp -f 0-em-steep.mdp -c 1AKI_solv.gro -p topol.top -o ions.tpr -maxwarn 1\n",
        "# add ions to neutralize the systems at a concentration of 100 mM\n",
        "# this tool is also interactive and we give in input \"12\" that means we substitue solvent molecules with salt molecules\n",
        "!echo -e \"13\\n\" | gmx genion -s ions -conc 0.1 -neutral -p topol.top -o 1AKI_ions"
      ],
      "metadata": {
        "id": "RDI7iASn3Gjf"
      },
      "execution_count": null,
      "outputs": []
    },
    {
      "cell_type": "markdown",
      "source": [
        "From the log you should see that some Na and Cl atoms have been added to the system."
      ],
      "metadata": {
        "id": "gkTVCcp54uyn"
      }
    },
    {
      "cell_type": "markdown",
      "source": [
        "### Energy minimisation and starting conditions"
      ],
      "metadata": {
        "id": "bLex9SNH4zoA"
      }
    },
    {
      "cell_type": "markdown",
      "source": [
        "Before starting an MD simulation the system needs to be in a low energy configuration to avoid too large forces that would made the simulation unstable. This is done preparing a gromacs input file that uses the `steepest descent` algorithm to minimize the energy:"
      ],
      "metadata": {
        "id": "cPMVPi0n47Gt"
      }
    },
    {
      "cell_type": "code",
      "source": [
        "%cd {local_path}\n",
        "!gmx grompp -f 0-em-steep.mdp -c 1AKI_ions.gro -p topol.top -o em.tpr"
      ],
      "metadata": {
        "id": "QiHUMvJn5OPL"
      },
      "execution_count": null,
      "outputs": []
    },
    {
      "cell_type": "markdown",
      "source": [
        "and then running the simulation using `mdrun`:"
      ],
      "metadata": {
        "id": "yqRISYiG5RnK"
      }
    },
    {
      "cell_type": "code",
      "source": [
        "!gmx mdrun -deffnm em -v"
      ],
      "metadata": {
        "id": "buJbJZWP5UdB"
      },
      "execution_count": null,
      "outputs": []
    },
    {
      "cell_type": "markdown",
      "source": [
        "The simulation takes less than a minute and will stop once some criteria are meet."
      ],
      "metadata": {
        "id": "DOr9PdyT5l-d"
      }
    },
    {
      "cell_type": "code",
      "source": [
        "# there are more files now including: em.gro the configuration after the energy minimization\n",
        "%ls"
      ],
      "metadata": {
        "id": "NP1Ju43Z5s0Y"
      },
      "execution_count": null,
      "outputs": []
    },
    {
      "cell_type": "markdown",
      "source": [
        "Now we need to bring the system to the desired temperature and pressure, for this we run our first MD simulation but keeping the protein restraint to its starting configuration, while we let the water reach the correct temperature and density. The protein will also move and reach the correct temperature but avoiding to change its configuration too much."
      ],
      "metadata": {
        "id": "t0nfPX4R58Xs"
      }
    },
    {
      "cell_type": "code",
      "source": [
        "%cd {local_path}\n",
        "%cp ../sb/Data/md/mdps/3-pr-npt.mdp ."
      ],
      "metadata": {
        "id": "Dz4mZtRS5ie-"
      },
      "execution_count": null,
      "outputs": []
    },
    {
      "cell_type": "markdown",
      "source": [
        "You can check the `mdp` file we are gonna use:\n",
        "\n",
        "```\n",
        "integrator               = md; we do MD\n",
        "dt                       = 0.002 ; with a 0.002 ps time step\n",
        "nsteps                   = 25000 ; for 25000x0.002 = 50 ps (this is too short for real cases)\n",
        "ref_t                    = 298 ; at 27 C\n",
        "ref_p                    = 1 ; and 1 bar\n",
        "```\n",
        "\n",
        "a more thorough explanation is available here: https://manual.gromacs.org/2025.3/user-guide/mdp-options.html\n",
        "\n",
        "\n",
        "\n"
      ],
      "metadata": {
        "id": "QC5bKvOz8M0e"
      }
    },
    {
      "cell_type": "code",
      "source": [
        "%ls\n",
        "%cat 3-pr-npt.mdp"
      ],
      "metadata": {
        "id": "1YzoVQLw8N_c"
      },
      "execution_count": null,
      "outputs": []
    },
    {
      "cell_type": "code",
      "source": [
        "%cd {local_path}\n",
        "!gmx grompp -f 3-pr-npt.mdp -c em.gro -r em.gro -p topol.top -o relax.tpr"
      ],
      "metadata": {
        "id": "qE4mdWIa-I91"
      },
      "execution_count": null,
      "outputs": []
    },
    {
      "cell_type": "code",
      "source": [
        "# ready to run it\n",
        "# CONSIDER THAT IT WILL TAKE 20 MINUTES, be carefull because COLAB can disconnect and stop it\n",
        "# if you leave your session unattended and the laptop goes to sleep\n",
        "!gmx mdrun -deffnm relax -v"
      ],
      "metadata": {
        "id": "UFbf5Pmn-TqO"
      },
      "execution_count": null,
      "outputs": []
    },
    {
      "cell_type": "markdown",
      "source": [
        "Now the system is ready to be simulated for production.\n",
        "In practice we cannot run long MD simulations using the COLAB free plan. The simulation we plan to run is only 200 ps long and still will take more than 1 hour. On a modern workstation with an optimised setup we should get around"
      ],
      "metadata": {
        "id": "AZaijeCbDrr4"
      }
    },
    {
      "cell_type": "code",
      "source": [
        "%cd {local_path}\n",
        "%cp ../sb/Data/md/mdps/5-npt.mdp ."
      ],
      "metadata": {
        "id": "MZfOWr1AD5VG"
      },
      "execution_count": null,
      "outputs": []
    },
    {
      "cell_type": "code",
      "source": [
        "!gmx grompp -f 5-npt.mdp -c relax.gro -p topol.top -o npt.tpr"
      ],
      "metadata": {
        "id": "A1CNhvSWD9tR"
      },
      "execution_count": null,
      "outputs": []
    },
    {
      "cell_type": "code",
      "source": [
        "#run it\n",
        "# CONSIDER THAT IT WILL TAKE MORE THAN 60 MINUTES, be carefull because COLAB can disconnect and stop it\n",
        "# if you leave your session unattended and the laptop goes to sleep\n",
        "!gmx mdrun -deffnm npt -v"
      ],
      "metadata": {
        "id": "TxjTApXGEE5A"
      },
      "execution_count": null,
      "outputs": []
    },
    {
      "cell_type": "markdown",
      "source": [
        "### Visualisation"
      ],
      "metadata": {
        "id": "E4s27ud_ZEzK"
      }
    },
    {
      "cell_type": "markdown",
      "source": [
        "Once the simulation is ended you should have few more files:"
      ],
      "metadata": {
        "id": "RLI8dJPKbvnw"
      }
    },
    {
      "cell_type": "code",
      "source": [
        "%ls"
      ],
      "metadata": {
        "id": "Pi5dRF5fbw9z",
        "colab": {
          "base_uri": "https://localhost:8080/"
        },
        "outputId": "17738e37-ea99-4727-d225-eafc3f8b703b"
      },
      "execution_count": 25,
      "outputs": [
        {
          "output_type": "stream",
          "name": "stdout",
          "text": [
            " 3-pr-npt.mdp             npt_prev.cpt     relax.log       '#relax.trr.2#'\n",
            " 5-npt.mdp                npt.tpr         '#relax.log.1#'  '#relax.trr.3#'\n",
            " condacolab_install.log   npt.trr         '#relax.log.2#'   relax.xtc\n",
            " em.gro                   npt.xtc         '#relax.log.3#'  '#relax.xtc.1#'\n",
            " ener.edr                 posre.itp        relax_prev.cpt  '#relax.xtc.2#'\n",
            " md.log                   relax.cpt        relax.tpr       '#relax.xtc.3#'\n",
            " mdout.mdp                relax.edr       '#relax.tpr.1#'   state.cpt\n",
            " npt.cpt                 '#relax.edr.1#'  '#relax.tpr.2#'   topol.top\n",
            " npt.edr                 '#relax.edr.2#'  '#relax.tpr.3#'   traj_comp.xtc\n",
            " npt.gro                 '#relax.edr.3#'   relax.trr        traj.trr\n",
            " npt.log                  relax.gro       '#relax.trr.1#'\n"
          ]
        }
      ]
    },
    {
      "cell_type": "markdown",
      "source": [
        "*   npt.xtc: trajectory file generally including only solute\n",
        "*   npt.trr: trajectory file including all atoms\n",
        "*   npt.edr: energy file including all the information about energy\n",
        "*   npt.gro: last frame of the trajectory\n",
        "*   npt.cpt: checkpoint file for exact restart\n",
        "\n",
        "You can look at the trajectory using VMD on your laptop, first load a `1AKI_box.gro` then from the menu FILE choose *Load Data Into Molecule* and select the `npt.xtc` file, this will add all the trajectory frames. You may see something like this:"
      ],
      "metadata": {
        "id": "0ntFCYetbzpN"
      }
    },
    {
      "cell_type": "markdown",
      "source": [
        "![Screenshot 2025-10-27 at 18.36.34.png](data:image/png;base64,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)"
      ],
      "metadata": {
        "id": "Ka9dV20VcuDd"
      }
    },
    {
      "cell_type": "markdown",
      "source": [
        "You remember the “PERIODIC BOUNDARY CONDITIONS”? A molecule be cut across the sides of the box. For the purpose of visualisation, we can remove this effect:"
      ],
      "metadata": {
        "id": "BeUSIebqcwdH"
      }
    },
    {
      "cell_type": "code",
      "source": [
        "# here trjconv takes in input npt.xtc (-f) and the simulation ready file (-s npt.tpr)\n",
        "# fix molecules to always be whole through covalent interactions (-pbc mol)\n",
        "# write a corrected trajctory (-o npt-nopbc.xtc)\n",
        "!echo -e \"1\\n\" | gmx trjconv -f npt.xtc -s npt.tpr -pbc mol -o npt-nobpc.xtc"
      ],
      "metadata": {
        "id": "-b5eQzJBc0KB",
        "colab": {
          "base_uri": "https://localhost:8080/"
        },
        "outputId": "d9ab06b8-99a1-4140-f28c-1f830e4d4a97"
      },
      "execution_count": 26,
      "outputs": [
        {
          "output_type": "stream",
          "name": "stdout",
          "text": [
            "               :-) GROMACS - gmx trjconv, 2025.3-conda_forge (-:\n",
            "\n",
            "Executable:   /usr/local/bin.AVX2_256/gmx\n",
            "Data prefix:  /usr/local\n",
            "Working dir:  /content/drive/MyDrive/Structural_Bioinformatics/Task3\n",
            "Command line:\n",
            "  gmx trjconv -f npt.xtc -s npt.tpr -pbc mol -o npt-nobpc.xtc\n",
            "\n",
            "Note that major changes are planned in future for trjconv, to improve usability and utility.\n",
            "Will write xtc: Compressed trajectory (portable xdr format): xtc\n",
            "Reading file npt.tpr, VERSION 2025.3-conda_forge (single precision)\n",
            "Reading file npt.tpr, VERSION 2025.3-conda_forge (single precision)\n",
            "Select group for output\n",
            "Group     0 (         System) has 28003 elements\n",
            "Group     1 (        Protein) has  1960 elements\n",
            "Group     2 (      Protein-H) has  1001 elements\n",
            "Group     3 (        C-alpha) has   129 elements\n",
            "Group     4 (       Backbone) has   387 elements\n",
            "Group     5 (      MainChain) has   515 elements\n",
            "Group     6 (   MainChain+Cb) has   632 elements\n",
            "Group     7 (    MainChain+H) has   644 elements\n",
            "Group     8 (      SideChain) has  1316 elements\n",
            "Group     9 (    SideChain-H) has   486 elements\n",
            "Group    10 (    Prot-Masses) has  1960 elements\n",
            "Group    11 (    non-Protein) has 26043 elements\n",
            "Group    12 (          Water) has 26001 elements\n",
            "Group    13 (            SOL) has 26001 elements\n",
            "Group    14 (      non-Water) has  2002 elements\n",
            "Group    15 (            Ion) has    42 elements\n",
            "Group    16 ( Water_and_ions) has 26043 elements\n",
            "Select a group: Selected 1: 'Protein'\n",
            "\rReading frame       0 time    0.000   \n",
            "Precision of npt.xtc is 0.001 (nm)\n",
            "Using output precision of 0.001 (nm)\n",
            "\rReading frame       1 time   10.000    ->  frame      0 time    0.000      \r\rReading frame       2 time   20.000    ->  frame      1 time   10.000      \r\rReading frame       3 time   30.000    ->  frame      2 time   20.000      \r\rReading frame       4 time   40.000    ->  frame      3 time   30.000      \r\rReading frame       5 time   50.000    ->  frame      4 time   40.000      \r\rReading frame       6 time   60.000    ->  frame      5 time   50.000      \r\rReading frame       7 time   70.000    ->  frame      6 time   60.000      \r\rReading frame       8 time   80.000    ->  frame      7 time   70.000      \r\rReading frame       9 time   90.000    ->  frame      8 time   80.000      \r\rReading frame      10 time  100.000    ->  frame      9 time   90.000      \r\rReading frame      11 time  110.000    ->  frame     10 time  100.000      \r\rReading frame      12 time  120.000    ->  frame     11 time  110.000      \r\rReading frame      13 time  130.000    ->  frame     12 time  120.000      \r\rReading frame      14 time  140.000    ->  frame     13 time  130.000      \r\rReading frame      15 time  150.000    ->  frame     14 time  140.000      \r\rReading frame      16 time  160.000    ->  frame     15 time  150.000      \r\rReading frame      17 time  170.000    ->  frame     16 time  160.000      \r\rReading frame      18 time  180.000    ->  frame     17 time  170.000      \r\rReading frame      19 time  190.000    ->  frame     18 time  180.000      \r\rReading frame      20 time  200.000    ->  frame     19 time  190.000      \r\rLast frame         20 time  200.000   \n",
            " ->  frame     20 time  200.000      \r\n",
            "Last written: frame     20 time  200.000\n",
            "\n",
            "\n",
            "GROMACS reminds you: \"If You're So Special Why aren't You Dead ?\" (The Breeders)\n",
            "\n"
          ]
        }
      ]
    },
    {
      "cell_type": "markdown",
      "source": [
        "Now you have one more file `npt-nopbc.xtc` that is the trajectory with molecules that are not broken across PBC. Close VMD and reopen it loading this new trajectory file. Now we can start to analyse the trajectory"
      ],
      "metadata": {
        "id": "zk2AxyJMdEGc"
      }
    },
    {
      "cell_type": "markdown",
      "source": [
        "### Analysis"
      ],
      "metadata": {
        "id": "BmgetWClOixe"
      }
    },
    {
      "cell_type": "markdown",
      "source": [
        "1. Root Mean Square Deviation"
      ],
      "metadata": {
        "id": "pL5cDyiXOlPR"
      }
    },
    {
      "cell_type": "code",
      "source": [
        "!echo -e \"4\\n4\\n\" | gmx rms -f npt-nobpc.xtc -s npt.tpr -o rmsd.xvg"
      ],
      "metadata": {
        "id": "7ke5eNFVv_US",
        "outputId": "0f18fb40-b73c-4742-d6a4-4888c9fe59c8",
        "colab": {
          "base_uri": "https://localhost:8080/"
        }
      },
      "execution_count": 34,
      "outputs": [
        {
          "output_type": "stream",
          "name": "stdout",
          "text": [
            "                 :-) GROMACS - gmx rms, 2025.3-conda_forge (-:\n",
            "\n",
            "Executable:   /usr/local/bin.AVX2_256/gmx\n",
            "Data prefix:  /usr/local\n",
            "Working dir:  /content/drive/MyDrive/Structural_Bioinformatics/Task3\n",
            "Command line:\n",
            "  gmx rms -f npt-nobpc.xtc -s npt.tpr -o rmsd.xvg\n",
            "\n",
            "Reading file npt.tpr, VERSION 2025.3-conda_forge (single precision)\n",
            "Reading file npt.tpr, VERSION 2025.3-conda_forge (single precision)\n",
            "Select group for least squares fit\n",
            "Group     0 (         System) has 28003 elements\n",
            "Group     1 (        Protein) has  1960 elements\n",
            "Group     2 (      Protein-H) has  1001 elements\n",
            "Group     3 (        C-alpha) has   129 elements\n",
            "Group     4 (       Backbone) has   387 elements\n",
            "Group     5 (      MainChain) has   515 elements\n",
            "Group     6 (   MainChain+Cb) has   632 elements\n",
            "Group     7 (    MainChain+H) has   644 elements\n",
            "Group     8 (      SideChain) has  1316 elements\n",
            "Group     9 (    SideChain-H) has   486 elements\n",
            "Group    10 (    Prot-Masses) has  1960 elements\n",
            "Group    11 (    non-Protein) has 26043 elements\n",
            "Group    12 (          Water) has 26001 elements\n",
            "Group    13 (            SOL) has 26001 elements\n",
            "Group    14 (      non-Water) has  2002 elements\n",
            "Group    15 (            Ion) has    42 elements\n",
            "Group    16 ( Water_and_ions) has 26043 elements\n",
            "Select a group: Selected 4: 'Backbone'\n",
            "Select group for RMSD calculation\n",
            "Group     0 (         System) has 28003 elements\n",
            "Group     1 (        Protein) has  1960 elements\n",
            "Group     2 (      Protein-H) has  1001 elements\n",
            "Group     3 (        C-alpha) has   129 elements\n",
            "Group     4 (       Backbone) has   387 elements\n",
            "Group     5 (      MainChain) has   515 elements\n",
            "Group     6 (   MainChain+Cb) has   632 elements\n",
            "Group     7 (    MainChain+H) has   644 elements\n",
            "Group     8 (      SideChain) has  1316 elements\n",
            "Group     9 (    SideChain-H) has   486 elements\n",
            "Group    10 (    Prot-Masses) has  1960 elements\n",
            "Group    11 (    non-Protein) has 26043 elements\n",
            "Group    12 (          Water) has 26001 elements\n",
            "Group    13 (            SOL) has 26001 elements\n",
            "Group    14 (      non-Water) has  2002 elements\n",
            "Group    15 (            Ion) has    42 elements\n",
            "Group    16 ( Water_and_ions) has 26043 elements\n",
            "Select a group: Selected 4: 'Backbone'\n",
            "\rReading frame       0 time    0.000   \n",
            "WARNING: topology has 28003 atoms, whereas trajectory has 1960\n",
            "\rReading frame       1 time   10.000   \rReading frame       2 time   20.000   \rReading frame       3 time   30.000   \rReading frame       4 time   40.000   \rReading frame       5 time   50.000   \rReading frame       6 time   60.000   \rReading frame       7 time   70.000   \rReading frame       8 time   80.000   \rReading frame       9 time   90.000   \rReading frame      10 time  100.000   \rReading frame      11 time  110.000   \rReading frame      12 time  120.000   \rReading frame      13 time  130.000   \rReading frame      14 time  140.000   \rReading frame      15 time  150.000   \rReading frame      16 time  160.000   \rReading frame      17 time  170.000   \rReading frame      18 time  180.000   \rReading frame      19 time  190.000   \rReading frame      20 time  200.000   \rLast frame         20 time  200.000   \n",
            "\n",
            "GROMACS reminds you: \"Furious activity is no substitute for understanding.\" (H.H. Williams)\n",
            "\n"
          ]
        }
      ]
    },
    {
      "cell_type": "markdown",
      "source": [
        "2. Root Mean Square Fluctuations"
      ],
      "metadata": {
        "id": "aJD3slFuOuHM"
      }
    },
    {
      "cell_type": "code",
      "source": [
        "!echo -e \"1\\n\" | gmx rmsf -f npt-nobpc.xtc -s npt.tpr -o rmsf.xvg -res"
      ],
      "metadata": {
        "id": "9J_TkOaHwrSx",
        "outputId": "a11afbf7-9eeb-41d8-a249-891b88327544",
        "colab": {
          "base_uri": "https://localhost:8080/"
        }
      },
      "execution_count": 33,
      "outputs": [
        {
          "output_type": "stream",
          "name": "stdout",
          "text": [
            "                 :-) GROMACS - gmx rmsf, 2025.3-conda_forge (-:\n",
            "\n",
            "Executable:   /usr/local/bin.AVX2_256/gmx\n",
            "Data prefix:  /usr/local\n",
            "Working dir:  /content/drive/MyDrive/Structural_Bioinformatics/Task3\n",
            "Command line:\n",
            "  gmx rmsf -f npt-nobpc.xtc -s npt.tpr -o rmsf.xvg -res\n",
            "\n",
            "Reading file npt.tpr, VERSION 2025.3-conda_forge (single precision)\n",
            "Reading file npt.tpr, VERSION 2025.3-conda_forge (single precision)\n",
            "Select group(s) for root mean square calculation\n",
            "Group     0 (         System) has 28003 elements\n",
            "Group     1 (        Protein) has  1960 elements\n",
            "Group     2 (      Protein-H) has  1001 elements\n",
            "Group     3 (        C-alpha) has   129 elements\n",
            "Group     4 (       Backbone) has   387 elements\n",
            "Group     5 (      MainChain) has   515 elements\n",
            "Group     6 (   MainChain+Cb) has   632 elements\n",
            "Group     7 (    MainChain+H) has   644 elements\n",
            "Group     8 (      SideChain) has  1316 elements\n",
            "Group     9 (    SideChain-H) has   486 elements\n",
            "Group    10 (    Prot-Masses) has  1960 elements\n",
            "Group    11 (    non-Protein) has 26043 elements\n",
            "Group    12 (          Water) has 26001 elements\n",
            "Group    13 (            SOL) has 26001 elements\n",
            "Group    14 (      non-Water) has  2002 elements\n",
            "Group    15 (            Ion) has    42 elements\n",
            "Group    16 ( Water_and_ions) has 26043 elements\n",
            "Select a group: Selected 1: 'Protein'\n",
            "\rReading frame       0 time    0.000   \rReading frame       1 time   10.000   \rReading frame       2 time   20.000   \rReading frame       3 time   30.000   \rReading frame       4 time   40.000   \rReading frame       5 time   50.000   \rReading frame       6 time   60.000   \rReading frame       7 time   70.000   \rReading frame       8 time   80.000   \rReading frame       9 time   90.000   \rReading frame      10 time  100.000   \rReading frame      11 time  110.000   \rReading frame      12 time  120.000   \rReading frame      13 time  130.000   \rReading frame      14 time  140.000   \rReading frame      15 time  150.000   \rReading frame      16 time  160.000   \rReading frame      17 time  170.000   \rReading frame      18 time  180.000   \rReading frame      19 time  190.000   \rReading frame      20 time  200.000   \rLast frame         20 time  200.000   \n",
            "\n",
            "GROMACS reminds you: \"Science, my lad, is made up of mistakes, but they are mistakes which it is useful to make, because they lead little by little to the truth.\" (Jules Verne)\n",
            "\n"
          ]
        }
      ]
    },
    {
      "cell_type": "markdown",
      "source": [
        "3. Radius of Gyration"
      ],
      "metadata": {
        "id": "0bKsggyzOxEl"
      }
    },
    {
      "cell_type": "code",
      "source": [
        "!echo -e \"1\\n\" | gmx gyrate -f npt-nobpc.xtc -s npt.tpr -o gyrate.xvg"
      ],
      "metadata": {
        "id": "LpLPVpEMxE3X",
        "outputId": "a364fbac-7230-4d15-b362-b8fc599c5311",
        "colab": {
          "base_uri": "https://localhost:8080/"
        }
      },
      "execution_count": 35,
      "outputs": [
        {
          "output_type": "stream",
          "name": "stdout",
          "text": [
            "                :-) GROMACS - gmx gyrate, 2025.3-conda_forge (-:\n",
            "\n",
            "Executable:   /usr/local/bin.AVX2_256/gmx\n",
            "Data prefix:  /usr/local\n",
            "Working dir:  /content/drive/MyDrive/Structural_Bioinformatics/Task3\n",
            "Command line:\n",
            "  gmx gyrate -f npt-nobpc.xtc -s npt.tpr -o gyrate.xvg\n",
            "\n",
            "Reading file npt.tpr, VERSION 2025.3-conda_forge (single precision)\n",
            "Reading file npt.tpr, VERSION 2025.3-conda_forge (single precision)\n",
            "\rReading frame       0 time    0.000   \rReading frame       1 time   10.000   \rReading frame       2 time   20.000   \rReading frame       3 time   30.000   \rReading frame       4 time   40.000   \rReading frame       5 time   50.000   \rReading frame       6 time   60.000   \rReading frame       7 time   70.000   \rReading frame       8 time   80.000   \rReading frame       9 time   90.000   \rReading frame      10 time  100.000   \rReading frame      11 time  110.000   \rReading frame      12 time  120.000   \rReading frame      13 time  130.000   \rReading frame      14 time  140.000   \rReading frame      15 time  150.000   \rReading frame      16 time  160.000   \rReading frame      17 time  170.000   \rReading frame      18 time  180.000   \rReading frame      19 time  190.000   \rReading frame      20 time  200.000   \rLast frame         20 time  200.000   \n",
            "Analyzed 21 frames, last time 200.000\n",
            "\n",
            "GROMACS reminds you: \"California, R.I.P.\" (Red Hot Chili Peppars)\n",
            "\n"
          ]
        }
      ]
    },
    {
      "cell_type": "markdown",
      "source": [
        "4. Secondary structures"
      ],
      "metadata": {
        "id": "87YVJtyMOylI"
      }
    },
    {
      "cell_type": "code",
      "source": [
        "!echo -e \"1\\n\" | gmx dssp -f npt-nobpc.xtc -s npt.tpr -num secondary.xvg"
      ],
      "metadata": {
        "colab": {
          "base_uri": "https://localhost:8080/"
        },
        "id": "2rNc7y1eFJVV",
        "outputId": "f3f2f5ab-d7fb-4780-bb20-a85b77c30152"
      },
      "execution_count": 37,
      "outputs": [
        {
          "output_type": "stream",
          "name": "stdout",
          "text": [
            "                 :-) GROMACS - gmx dssp, 2025.3-conda_forge (-:\n",
            "\n",
            "Executable:   /usr/local/bin.AVX2_256/gmx\n",
            "Data prefix:  /usr/local\n",
            "Working dir:  /content/drive/MyDrive/Structural_Bioinformatics/Task3\n",
            "Command line:\n",
            "  gmx dssp -f npt-nobpc.xtc -s npt.tpr -num secondary.xvg\n",
            "\n",
            "Reading file npt.tpr, VERSION 2025.3-conda_forge (single precision)\n",
            "Reading file npt.tpr, VERSION 2025.3-conda_forge (single precision)\n",
            "\rReading frame       0 time    0.000   \rReading frame       1 time   10.000   \rReading frame       2 time   20.000   \rReading frame       3 time   30.000   \rReading frame       4 time   40.000   \rReading frame       5 time   50.000   \rReading frame       6 time   60.000   \rReading frame       7 time   70.000   \rReading frame       8 time   80.000   \rReading frame       9 time   90.000   \rReading frame      10 time  100.000   \rReading frame      11 time  110.000   \rReading frame      12 time  120.000   \rReading frame      13 time  130.000   \rReading frame      14 time  140.000   \rReading frame      15 time  150.000   \rReading frame      16 time  160.000   \rReading frame      17 time  170.000   \rReading frame      18 time  180.000   \rReading frame      19 time  190.000   \rReading frame      20 time  200.000   \rLast frame         20 time  200.000   \n",
            "Analyzed 21 frames, last time 200.000\n",
            "\n",
            "++++ PLEASE READ AND CITE THE FOLLOWING REFERENCE ++++\n",
            "W. Kabsch, C. Sander\n",
            "Dictionary of protein secondary structure: pattern recognition of\n",
            "hydrogen-bonded and geometrical features\n",
            "Biopolymers (1983)\n",
            "DOI: 10.1002/bip.360221211\n",
            "-------- -------- --- Thank You --- -------- --------\n",
            "\n",
            "\n",
            "++++ PLEASE READ AND CITE THE FOLLOWING REFERENCE ++++\n",
            "S. Gorelov, A. Titov, O. Tolicheva, A. Konevega, A. Shvetsov\n",
            "DSSP in GROMACS: Tool for Defining Secondary Structures of Proteins in\n",
            "Trajectories\n",
            "Journal of Chemical Information and Modeling (2024)\n",
            "DOI: 10.1021/acs.jcim.3c01344\n",
            "-------- -------- --- Thank You --- -------- --------\n",
            "\n",
            "\n",
            "GROMACS reminds you: \"Problems worthy / of attack / prove their worth / by hitting back.\" (Piet Hein)\n",
            "\n"
          ]
        }
      ]
    },
    {
      "cell_type": "code",
      "source": [
        "%ls"
      ],
      "metadata": {
        "id": "zw5fx3KwxNOE",
        "outputId": "cb757aac-8977-417e-9575-884d4bc2e9de",
        "colab": {
          "base_uri": "https://localhost:8080/"
        }
      },
      "execution_count": 38,
      "outputs": [
        {
          "output_type": "stream",
          "name": "stdout",
          "text": [
            " 3-pr-npt.mdp             npt-nobpc.xtc    relax.log        relax.xtc\n",
            " 5-npt.mdp                npt_prev.cpt    '#relax.log.1#'  '#relax.xtc.1#'\n",
            " condacolab_install.log   npt.tpr         '#relax.log.2#'  '#relax.xtc.2#'\n",
            " dssp.dat                 npt.trr         '#relax.log.3#'  '#relax.xtc.3#'\n",
            " em.gro                   npt.xtc          relax_prev.cpt   rmsd.xvg\n",
            " ener.edr                 posre.itp        relax.tpr        rmsf.xvg\n",
            " gyrate.xvg               prova.gro       '#relax.tpr.1#'   secondary.xvg\n",
            " md.log                   relax.cpt       '#relax.tpr.2#'   state.cpt\n",
            " mdout.mdp                relax.edr       '#relax.tpr.3#'   topol.top\n",
            " npt.cpt                 '#relax.edr.1#'   relax.trr        traj_comp.xtc\n",
            " npt.edr                 '#relax.edr.2#'  '#relax.trr.1#'   traj.trr\n",
            " npt.gro                 '#relax.edr.3#'  '#relax.trr.2#'\n",
            " npt.log                  relax.gro       '#relax.trr.3#'\n"
          ]
        }
      ]
    },
    {
      "cell_type": "code",
      "source": [],
      "metadata": {
        "id": "sTKMchwsxRLh"
      },
      "execution_count": null,
      "outputs": []
    }
  ]
}