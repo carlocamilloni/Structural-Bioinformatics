{
  "nbformat": 4,
  "nbformat_minor": 0,
  "metadata": {
    "colab": {
      "name": "report_6_QM.ipynb",
      "provenance": [],
      "collapsed_sections": [
        "NGgiD2OvEvwm",
        "ECdU1rlhEy78"
      ],
      "authorship_tag": "ABX9TyNbZsRg8nCmPS5sSJBPsLG9",
      "include_colab_link": true
    },
    "kernelspec": {
      "name": "python3",
      "display_name": "Python 3"
    },
    "language_info": {
      "name": "python"
    }
  },
  "cells": [
    {
      "cell_type": "markdown",
      "metadata": {
        "id": "view-in-github",
        "colab_type": "text"
      },
      "source": [
        "<a href=\"https://colab.research.google.com/github/carlocamilloni/Structural-Bioinformatics/blob/main/Notebooks/report_6_QM.ipynb\" target=\"_parent\"><img src=\"https://colab.research.google.com/assets/colab-badge.svg\" alt=\"Open In Colab\"/></a>"
      ]
    },
    {
      "cell_type": "markdown",
      "metadata": {
        "id": "kp28Q-awRBCM"
      },
      "source": [
        "# REPORT: Basic Quantum Chemistry calculation using CP2K"
      ]
    },
    {
      "cell_type": "markdown",
      "source": [
        "YOUR NAME"
      ],
      "metadata": {
        "id": "08SEw5jUsM2w"
      }
    },
    {
      "cell_type": "code",
      "source": [
        "from datetime import date\n",
        "\n",
        "today = date.today()\n",
        "print(today)"
      ],
      "metadata": {
        "id": "c4ibisr0sOcs"
      },
      "execution_count": null,
      "outputs": []
    },
    {
      "cell_type": "markdown",
      "metadata": {
        "id": "4WIkxM6BRRlw"
      },
      "source": [
        "## SETUP and PRELIMINARY stuff"
      ]
    },
    {
      "cell_type": "code",
      "metadata": {
        "id": "H6D_9mMoQ5yV"
      },
      "source": [
        "# mount google drive\n",
        "from google.colab import drive\n",
        "drive.mount('/content/drive')"
      ],
      "execution_count": null,
      "outputs": []
    },
    {
      "cell_type": "code",
      "metadata": {
        "id": "wGNcFFgcRzjb"
      },
      "source": [
        "# set the path to your local task folder\n",
        "local_path='/content/drive/MyDrive/Structural_Bioinformatics/Task6'\n",
        "%cd {local_path}"
      ],
      "execution_count": null,
      "outputs": []
    },
    {
      "cell_type": "markdown",
      "metadata": {
        "id": "NGgiD2OvEvwm"
      },
      "source": [
        "## Hydrogen atom"
      ]
    },
    {
      "cell_type": "markdown",
      "source": [
        "**Figure**: add a figure representing the electronic density for a single hydrogen atom"
      ],
      "metadata": {
        "id": "xFb7s329-m0U"
      }
    },
    {
      "cell_type": "markdown",
      "metadata": {
        "id": "ECdU1rlhEy78"
      },
      "source": [
        "## Carbon atom"
      ]
    },
    {
      "cell_type": "markdown",
      "source": [
        "**Figure**: add a figure representing the electronic density for a single carbon atom"
      ],
      "metadata": {
        "id": "PyPQdB3R_ZsA"
      }
    },
    {
      "cell_type": "markdown",
      "metadata": {
        "id": "c92TyXSDFwZr"
      },
      "source": [
        "If you look at how the shape of the carbon density is in space, does this makes sense to you?\n",
        "\n",
        "If you open the log file after the iterative calculation of the density there is an analysis of the molecular orbitals. Alpha orbitals are spin-up and beta spin-down. Remember that 1S is not considered. So the first MO is 2S, then 2Px, 2Py, 2Pz, 3S, … the eigenvalue is the energy of the electron in that orbital and the occupation is what is the probability of finding an electron in that orbital.\n",
        "\n",
        "```\n",
        " ALPHA MO EIGENVALUES AND MO OCCUPATION NUMBERS\n",
        "\n",
        "  MO index          MO eigenvalue [a.u.]            MO occupation\n",
        "         1                     -0.476694                 1.000000\n",
        "         2                     -0.168137                 0.333333\n",
        "         3                     -0.168137                 0.333333\n",
        "         4                     -0.168137                 0.333333\n",
        "         5                      0.326836                 0.000000\n",
        "  Sum                                                    2.000000\n",
        "\n",
        "  Fermi energy:                -0.168796\n",
        "```\n",
        "\n",
        "```\n",
        " BETA MO EIGENVALUES AND MO OCCUPATION NUMBERS\n",
        "\n",
        "   MO index          MO eigenvalue [a.u.]            MO occupation\n",
        "         1                     -0.476694                 1.000000\n",
        "         2                     -0.168137                 0.333333\n",
        "         3                     -0.168137                 0.333333\n",
        "         4                     -0.168137                 0.333333\n",
        "         5                      0.326836                 0.000000\n",
        "  Sum                                                    2.000000\n",
        "```\n",
        "\n",
        "If you think about Boltzmann probability\n",
        "\n",
        "![image.png](data:image/png;base64,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)\n",
        "\n",
        "if two orbitals have the same energy, what is their relative probability?\n"
      ]
    },
    {
      "cell_type": "markdown",
      "source": [
        "**Answer:**"
      ],
      "metadata": {
        "id": "6trDtYx4MPt5"
      }
    },
    {
      "cell_type": "markdown",
      "source": [
        "Can you then explain what you see?"
      ],
      "metadata": {
        "id": "uujL1GwG-9Uq"
      }
    },
    {
      "cell_type": "markdown",
      "source": [
        "Answer:"
      ],
      "metadata": {
        "id": "2CWowLcH_BRQ"
      }
    },
    {
      "cell_type": "markdown",
      "metadata": {
        "id": "7gY3qGn-GW4f"
      },
      "source": [
        "## Methane"
      ]
    },
    {
      "cell_type": "markdown",
      "metadata": {
        "id": "B8LOcvXfHQGv"
      },
      "source": [
        "**Figure**: add a figure representing the electronic density for a methane molecule"
      ]
    },
    {
      "cell_type": "markdown",
      "source": [
        "Can the shape you observe be explained with the orbitals of the carbon atoms? what is the difference from what you observed for the carbon alone?"
      ],
      "metadata": {
        "id": "U1o951cf_qVk"
      }
    },
    {
      "cell_type": "markdown",
      "source": [
        "**Answer:**"
      ],
      "metadata": {
        "id": "3i7SS5ZdMKRK"
      }
    },
    {
      "cell_type": "markdown",
      "metadata": {
        "id": "cumI5x6sHbeC"
      },
      "source": [
        "## Ionic bond between NA and CL"
      ]
    },
    {
      "cell_type": "markdown",
      "metadata": {
        "id": "s3SYCcddICtW"
      },
      "source": [
        "Add a table distance - energy:\n",
        "\n",
        "| Distance  (Ang) | Energy |\n",
        "|:---:|:---:|\n",
        "| 8.0 |  |\n",
        "| 7.5 | |\n",
        "| | |\n",
        "| | |\n",
        "| 2.0 | |\n"
      ]
    },
    {
      "cell_type": "markdown",
      "metadata": {
        "id": "EoLL36zvOsMh"
      },
      "source": [
        "-\tPLOT the ENERGY vs DISTANCE\n",
        "-\tWhat is the energy difference corresponding to the ionic bond?\n",
        "-\tHow does the density look like when the atoms are far and close?\n",
        "-\tHow does it compare with a covalent bond (for example with respect to Methane)?\n",
        "\n"
      ]
    },
    {
      "cell_type": "code",
      "metadata": {
        "id": "QREDexFfPGlA"
      },
      "source": [
        "%cd {local_path}/nacl\n",
        "# the following line will print the energy from all the nacl-xx.out files you produced\n",
        "!for i in nacl*.out; do echo $i; grep ENERGY $i | grep Total; done"
      ],
      "execution_count": null,
      "outputs": []
    },
    {
      "cell_type": "code",
      "metadata": {
        "id": "MNcKf8S9PPzc"
      },
      "source": [
        "import numpy as np\n",
        "import matplotlib.pyplot as plt\n",
        "\n",
        "# write here the distances for which you ran the calculation\n",
        "x=[2.0,2.5,3.0,3.5] # add all the one you need\n",
        "# write here the corresponding energy values\n",
        "e=[-59,-60,-61,-62] # modify and add all the needed values\n",
        "\n",
        "# check the matplotlib plot method to add axis labels and points\n",
        "plt.plot(x, e)\n",
        "plt.show()"
      ],
      "execution_count": null,
      "outputs": []
    },
    {
      "cell_type": "markdown",
      "source": [
        "**Answers:**"
      ],
      "metadata": {
        "id": "uP15zmWyBf3k"
      }
    },
    {
      "cell_type": "markdown",
      "metadata": {
        "id": "6nQ-_081ROzE"
      },
      "source": [
        "## MD of water and Proton Transfer"
      ]
    },
    {
      "cell_type": "markdown",
      "metadata": {
        "id": "fBptj500SDVs"
      },
      "source": [
        "How does the proton transfer happen?\n",
        "Are the water molecules in some special arrangement?\n"
      ]
    },
    {
      "cell_type": "markdown",
      "source": [
        "**Answer:**"
      ],
      "metadata": {
        "id": "sywEOaohMCmg"
      }
    },
    {
      "cell_type": "markdown",
      "source": [
        "Add a figure to help explain your answer"
      ],
      "metadata": {
        "id": "ShybdSlKBlAd"
      }
    },
    {
      "cell_type": "markdown",
      "metadata": {
        "id": "6DV3WFytSFgB"
      },
      "source": [
        "## Electronic density for a small protein"
      ]
    },
    {
      "cell_type": "markdown",
      "source": [
        "Add here a Figure with the electron density of the protein:"
      ],
      "metadata": {
        "id": "xdEBFEq6L4Fl"
      }
    }
  ]
}