{
  "nbformat": 4,
  "nbformat_minor": 0,
  "metadata": {
    "colab": {
      "provenance": [],
      "collapsed_sections": [
        "f5iG-OO4HLGO",
        "ebIk8qfTKdgP",
        "6cQHTJPgMAK3"
      ],
      "mount_file_id": "1_XpgNm81GYaeu4I4W4k45-4l6TwHRxWb",
      "authorship_tag": "ABX9TyPp/50tDvrfsIv1pdbnv16d",
      "include_colab_link": true
    },
    "kernelspec": {
      "name": "python3",
      "display_name": "Python 3"
    },
    "language_info": {
      "name": "python"
    }
  },
  "cells": [
    {
      "cell_type": "markdown",
      "metadata": {
        "id": "view-in-github",
        "colab_type": "text"
      },
      "source": [
        "<a href=\"https://colab.research.google.com/github/carlocamilloni/Structural-Bioinformatics/blob/main/Notebooks/t05_MD_enhanced_martini.ipynb\" target=\"_parent\"><img src=\"https://colab.research.google.com/assets/colab-badge.svg\" alt=\"Open In Colab\"/></a>"
      ]
    },
    {
      "cell_type": "markdown",
      "source": [
        "#Enhanced Sampling and Simplified Models in MD\n"
      ],
      "metadata": {
        "id": "RxKzfua7D-0i"
      }
    },
    {
      "cell_type": "markdown",
      "source": [
        "In this lab experience you will perform two different simulations covering some more advanced topic. Namely:\n",
        "\n",
        "\n",
        "*   A metadynamics simulation of alanine dipeptide;\n",
        "*   A self-assembly and equilibration simulation of a lipid bilayer using the Martini force-field.\n",
        "\n",
        "\n"
      ],
      "metadata": {
        "id": "lGHUJShnEEl_"
      }
    },
    {
      "cell_type": "markdown",
      "source": [
        "## Preliminary Operations"
      ],
      "metadata": {
        "id": "f5iG-OO4HLGO"
      }
    },
    {
      "cell_type": "markdown",
      "source": [
        "To perform the above tasks you first need to install some software, this will require to reinitialise the system."
      ],
      "metadata": {
        "id": "EliFFo4pHN47"
      }
    },
    {
      "cell_type": "markdown",
      "source": [
        "The first step is to install the conda python package manager"
      ],
      "metadata": {
        "id": "ALvH5aBNHcNz"
      }
    },
    {
      "cell_type": "code",
      "source": [
        "!pip install -q condacolab\n",
        "import condacolab\n",
        "condacolab.install()"
      ],
      "metadata": {
        "id": "YWvNlMfED33i"
      },
      "execution_count": null,
      "outputs": []
    },
    {
      "cell_type": "markdown",
      "source": [
        "Now we can install GROMACS (a molecular dynamics package) and PLUMED, that is a library to perform enhanced sampling techniques in combination with multiple MD packages, including gromacs (www.plumed.org). Be patient, the next step can take 5 minutes."
      ],
      "metadata": {
        "id": "8Q3Fu5hPHiNI"
      }
    },
    {
      "cell_type": "code",
      "execution_count": null,
      "metadata": {
        "id": "T8WXE4C8COWZ"
      },
      "outputs": [],
      "source": [
        "!conda install --strict-channel-priority -c plumed/label/masterclass -c conda-forge gromacs"
      ]
    },
    {
      "cell_type": "markdown",
      "source": [
        "Now you are ready to start, so\n",
        "\n",
        "1.   Make a copy of this notebook (File -> Save a copy in Drive)\n",
        "2.   Mount your google drive\n",
        "3.   Make a new folder for this task using the menus on the left side, for example in /drive/MyDrive/Structural_Bioinformatics make a folder named Task5\n",
        "4.   In the Task5 folder make a folder named MTD\n",
        "\n",
        "\n"
      ],
      "metadata": {
        "id": "k9jleXtKH372"
      }
    },
    {
      "cell_type": "code",
      "source": [
        "# mount google drive\n",
        "from google.colab import drive\n",
        "drive.mount('/content/drive')\n",
        "%cd /content/drive/MyDrive"
      ],
      "metadata": {
        "id": "cWWH33ZhDmQL"
      },
      "execution_count": null,
      "outputs": []
    },
    {
      "cell_type": "code",
      "source": [
        "# set the path to your local task folder\n",
        "mtd_path='/content/drive/MyDrive/Structural_Bioinformatics/Task5/MTD'\n",
        "%cd {mtd_path}"
      ],
      "metadata": {
        "id": "CemhtLzPIQLt"
      },
      "execution_count": null,
      "outputs": []
    },
    {
      "cell_type": "code",
      "source": [
        "# test the gromacs executable\n",
        "!gmx mdrun -h"
      ],
      "metadata": {
        "id": "XWoeG6fDJBmN"
      },
      "execution_count": null,
      "outputs": []
    },
    {
      "cell_type": "code",
      "source": [
        "# make a copy of the GitHub structural bioinformatics repository\n",
        "# this containts usefull input files for runnign the simulatoins\n",
        "!if [ -d ../../sb/ ]; then (cd ../../sb/ && git pull); else git clone https://github.com/carlocamilloni/Structural-Bioinformatics.git ../../sb --depth 1; fi"
      ],
      "metadata": {
        "id": "TqptC1NBJG9B"
      },
      "execution_count": null,
      "outputs": []
    },
    {
      "cell_type": "markdown",
      "source": [
        "##Metadynamics simulations on Alanine Dipetide in Vacuum"
      ],
      "metadata": {
        "id": "ebIk8qfTKdgP"
      }
    },
    {
      "cell_type": "markdown",
      "source": [
        "In a previous task you performed a conventional MD simulation of alanine dipeptide in vacuum. Now you can repeat the same simulation but using Metadynamics to enhance the sampling of conformational space with respect to some conformational parameters, in particular we will use the phi and psi angles."
      ],
      "metadata": {
        "id": "yywxuEUILQI5"
      }
    },
    {
      "cell_type": "markdown",
      "source": [
        "###System preparation"
      ],
      "metadata": {
        "id": "6cQHTJPgMAK3"
      }
    },
    {
      "cell_type": "markdown",
      "source": [
        "First of all let's prepare the system as you already done before:"
      ],
      "metadata": {
        "id": "cSBLCJg_Lw2I"
      }
    },
    {
      "cell_type": "code",
      "source": [
        "%cd {mtd_path}\n",
        "%cp ../../sb/Data/md/inputs/aladp.pdb .\n",
        "%cp ../../sb/Data/md/mdps/0-em-steep.mdp em.mdp\n",
        "%cp ../../sb/Data/md/mdps/run.mdp ."
      ],
      "metadata": {
        "id": "oDfZTGCDKh-1"
      },
      "execution_count": null,
      "outputs": []
    },
    {
      "cell_type": "code",
      "source": [
        "# select force-field\n",
        "!gmx pdb2gmx -f aladp.pdb -water none -ff amber03\n",
        "# set the box\n",
        "!gmx editconf -f conf.gro -bt cubic -d 1 -o boxed.gro\n",
        "# energy minimisation\n",
        "!gmx grompp -f em.mdp -c boxed.gro -p topol.top -o em.tpr\n",
        "!gmx mdrun -deffnm em -v"
      ],
      "metadata": {
        "id": "jXbl-UclL48f"
      },
      "execution_count": null,
      "outputs": []
    },
    {
      "cell_type": "code",
      "source": [
        "# From the energy minised file we also make a reference PDB structure that we can use later\n",
        "!gmx editconf -f em.gro -o reference.pdb"
      ],
      "metadata": {
        "id": "TD2dKNkqQpkK"
      },
      "execution_count": null,
      "outputs": []
    },
    {
      "cell_type": "code",
      "source": [
        "#now perform a preliminary 10 ns MD simulation, this will last less than 2 minutes\n",
        "!gmx grompp -f run.mdp -c em.gro -p topol.top -o run.tpr\n",
        "!gmx mdrun -deffnm run -v -ntomp 1"
      ],
      "metadata": {
        "id": "Fi0M_us2MQb1"
      },
      "execution_count": null,
      "outputs": []
    },
    {
      "cell_type": "code",
      "source": [
        "#Now you should have multiple files, in particular run.gro and run.xtc that are\n",
        "#the last frame and the trajectory from the MD simulation, respectively.\n",
        "%ls"
      ],
      "metadata": {
        "id": "5rkCSCj3MwnK"
      },
      "execution_count": null,
      "outputs": []
    },
    {
      "cell_type": "markdown",
      "source": [
        "### Metadynamics"
      ],
      "metadata": {
        "id": "r0vxEP_jNT-D"
      }
    },
    {
      "cell_type": "markdown",
      "source": [
        "PLUMED allows both to analyze simulations trajectories by defining collective variables as well as then use CV based enhanced sampling techniques like Umbrella Sampling and Metadynamics to enhance the sampling of your MD. You can learn more on PLUMED syntax and features here: https://www.plumed.org/masterclass\n",
        "\n",
        "Furthermore, you can find real-life simulations setups here: www.plumed-nest.org"
      ],
      "metadata": {
        "id": "YeaJ_6hdPUXX"
      }
    },
    {
      "cell_type": "markdown",
      "source": [
        "As a first example let's analyse your MD simulation using plumed. To do so you need to write a plumed input file, that is a text file, including the definition of the quantity and the operation you want to perform.\n",
        "\n",
        "You can now copy an example file and see its content:"
      ],
      "metadata": {
        "id": "OtRu8BYYQADA"
      }
    },
    {
      "cell_type": "code",
      "source": [
        "#copy the file in your mtd folder\n",
        "%cp ../../sb/Data/md/metad/plumed-cv.dat .\n",
        "#print the file on screen\n",
        "%cat plumed-cv.dat"
      ],
      "metadata": {
        "id": "g4Qrp2GpSjos"
      },
      "execution_count": null,
      "outputs": []
    },
    {
      "cell_type": "code",
      "source": [
        "#analyse your simulation using plumed executable and your input file\n",
        "!plumed driver --plumed plumed-cv.dat --mf_xtc run.xtc"
      ],
      "metadata": {
        "id": "HGepLiASSsGX"
      },
      "execution_count": null,
      "outputs": []
    },
    {
      "cell_type": "code",
      "source": [
        "# list files\n",
        "%ls\n",
        "# you should have a new COLVAR-CV.txt file"
      ],
      "metadata": {
        "id": "fdmZIiifTAPa"
      },
      "execution_count": null,
      "outputs": []
    },
    {
      "cell_type": "code",
      "source": [
        "#let's have a look at it:\n",
        "#this print on screen only the first tops lines\n",
        "!head COLVAR-CV.txt\n",
        "# the file has some header lines reporting the content of the file, in this\n",
        "# case is three columns reporting time, phi and psi actions that are defined\n",
        "# in your plumed-cv.dat input file\n",
        "# then it tells you that phi and psi are defined in some range of values\n",
        "# then you have the actual data (angles are in radians here)"
      ],
      "metadata": {
        "id": "LmJjQf2oTMmu"
      },
      "execution_count": null,
      "outputs": []
    },
    {
      "cell_type": "markdown",
      "source": [
        "Now you can plot the data that should be comparable to what you observed in the former Task.\n",
        "\n",
        "We plot both phi and psi as a function of the simulation time and we then we scatter plot phi,psi in a Ramachandran plot style"
      ],
      "metadata": {
        "id": "cM7J9xA_UUHI"
      }
    },
    {
      "cell_type": "code",
      "source": [
        "import matplotlib.pyplot as plt\n",
        "import csv\n",
        "\n",
        "x=[]\n",
        "y1=[]\n",
        "y2=[]\n",
        "\n",
        "with open('COLVAR-CV.txt', 'r') as file:\n",
        "    for row in file:\n",
        "        if row.split()[0] == '#!':\n",
        "          continue\n",
        "        x.append(float(row.split()[0]))\n",
        "        y1.append(float(row.split()[1]))\n",
        "        y2.append(float(row.split()[2]))\n",
        "\n",
        "# Initialise the subplot function using number of rows and columns\n",
        "figure, axis = plt.subplots(2,2)\n",
        "figure.set_size_inches(18.5, 10.5)\n",
        "\n",
        "axis[0,0].plot(x,y1,'.')\n",
        "axis[0,0].set_ylabel(\"PHI\")\n",
        "\n",
        "axis[0,1].plot(x,y2,'.')\n",
        "axis[0,1].set_ylabel(\"PSI\")\n",
        "axis[0,1].set_xlabel(\"Time (ps)\")\n",
        "\n",
        "axis[1,0].plot(y1,y2,'.')\n",
        "axis[1,0].set_ylabel(\"PSI\")\n",
        "axis[1,0].set_xlabel(\"PHI\")\n",
        "\n",
        "plt.show()"
      ],
      "metadata": {
        "id": "QAY-2w7NTo6v"
      },
      "execution_count": null,
      "outputs": []
    },
    {
      "cell_type": "markdown",
      "source": [
        "Now we can run a Metadynamics simulation and see the difference! Let's first copy and have a look at the input file:"
      ],
      "metadata": {
        "id": "IFy0BdF8WqG4"
      }
    },
    {
      "cell_type": "code",
      "source": [
        "%cp ../../sb/Data/md/metad/plumed-mtd.dat .\n",
        "%cat plumed-mtd.dat"
      ],
      "metadata": {
        "id": "kFyA2tYIU6GR"
      },
      "execution_count": null,
      "outputs": []
    },
    {
      "cell_type": "markdown",
      "source": [
        "In the above input there is an action `metad` that takes in input the two torsion angles and set some parameters: `PACE` is how often update the histogram; it is the pace at which we learn from the simulation. `HEIGHT` and `SIGMA` are the parameters for the Gaussian that is used to build the histogram. `BIASFACTOR` is the dumping factor, we want our result to be the original one rescaled by a factor of 10, this means that if there is a barrier of 100 kJ/mol at the end it will be only 10 kJ/mol high. `GRID_MIN` and `GRID_MAX` set a grid over which accumulate the histogram."
      ],
      "metadata": {
        "id": "hGaYEG0OXzKH"
      }
    },
    {
      "cell_type": "markdown",
      "source": [
        "We will start the simulation from the final configuration obtained from MD. The `-plumed plumed-mtd.dat` flag is telling gromacs to activate plumed by reading the plumed-mtd.dat input file.\n",
        "\n"
      ],
      "metadata": {
        "id": "x7I-PnfZW8Em"
      }
    },
    {
      "cell_type": "code",
      "source": [
        "!gmx grompp -f run.mdp -c run.gro -p topol.top -o mtd.tpr"
      ],
      "metadata": {
        "id": "d71aR6XUW4KT"
      },
      "execution_count": null,
      "outputs": []
    },
    {
      "cell_type": "code",
      "source": [
        "# run it, expected to last around 5 minutes\n",
        "!gmx mdrun -deffnm mtd -plumed plumed-mtd.dat -v -ntomp 1"
      ],
      "metadata": {
        "id": "Ul8m9eO3XFQY",
        "outputId": "a753a492-0cce-4f09-ec0a-0d4e5266d377",
        "colab": {
          "base_uri": "https://localhost:8080/"
        }
      },
      "execution_count": null,
      "outputs": [
        {
          "output_type": "stream",
          "name": "stdout",
          "text": [
            "step 2010500, remaining wall clock time:   140 s          "
          ]
        }
      ]
    },
    {
      "cell_type": "code",
      "source": [
        "%ls"
      ],
      "metadata": {
        "id": "JZUR2wxqYoTd"
      },
      "execution_count": null,
      "outputs": []
    },
    {
      "cell_type": "markdown",
      "source": [
        "To visualise the simulation, you can copy the mtd.xtc and em.gro files on your workstation. Open the em.gro file with VMD and then load into the mtd.xtc file."
      ],
      "metadata": {
        "id": "WqVajW_6Yg-u"
      }
    },
    {
      "cell_type": "markdown",
      "source": [
        "### Analysis"
      ],
      "metadata": {
        "id": "iHDdkmkzZNR-"
      }
    },
    {
      "cell_type": "markdown",
      "source": [
        "While biasing the simulations PLUMED has also performed the analysis on-the-fly of the dihedral angles and the bias, writing the output in the COLVAR-MTD.xtc file, so we can immediately plot it:"
      ],
      "metadata": {
        "id": "sOxJQykkZc4f"
      }
    },
    {
      "cell_type": "code",
      "source": [
        "#Preliminary look at the file:\n",
        "!head COLVAR-MTD.txt"
      ],
      "metadata": {
        "id": "5eX3Ofjcambm"
      },
      "execution_count": null,
      "outputs": []
    },
    {
      "cell_type": "markdown",
      "source": [
        "Here the fourth column reports the amount of Metadynamcs bias felt by the system at that time in that specific configuration"
      ],
      "metadata": {
        "id": "ECpfE8J1asyt"
      }
    },
    {
      "cell_type": "code",
      "source": [
        "import matplotlib.pyplot as plt\n",
        "import csv\n",
        "\n",
        "time=[]\n",
        "phi=[]\n",
        "psi=[]\n",
        "bias=[]\n",
        "\n",
        "with open('COLVAR-MTD.txt', 'r') as file:\n",
        "    for row in file:\n",
        "        if row.split()[0] == '#!':\n",
        "          continue\n",
        "        time.append(float(row.split()[0]))\n",
        "        phi.append(float(row.split()[1]))\n",
        "        psi.append(float(row.split()[2]))\n",
        "        bias.append(float(row.split()[3]))\n",
        "\n",
        "# Initialise the subplot function using number of rows and columns\n",
        "figure, axis = plt.subplots(2,2)\n",
        "figure.set_size_inches(18.5, 10.5)\n",
        "\n",
        "axis[0,0].plot(time,phi,'.')\n",
        "axis[0,0].set_ylabel(\"PHI\")\n",
        "axis[0,0].set_xlabel(\"Time (ps)\")\n",
        "\n",
        "axis[0,1].plot(time,psi,'.')\n",
        "axis[0,1].set_ylabel(\"PSI\")\n",
        "\n",
        "\n",
        "axis[1,0].plot(phi,psi,'.')\n",
        "axis[1,0].set_ylabel(\"PSI\")\n",
        "axis[1,0].set_xlabel(\"PHI\")\n",
        "\n",
        "axis[1,1].plot(time,bias,'.')\n",
        "axis[1,1].set_xlabel(\"Time (ps)\")\n",
        "axis[1,1].set_ylabel(\"Bias (kj/mol)\")\n",
        "\n",
        "plt.show()"
      ],
      "metadata": {
        "id": "LXsaO-UrZPDy"
      },
      "execution_count": null,
      "outputs": []
    },
    {
      "cell_type": "markdown",
      "source": [
        "From the above plots it should be evident the speed up obtained it terms of sampling, but this is obtained adding additional energy to the system, the bias, as a consequence the resultign statistics is biased."
      ],
      "metadata": {
        "id": "LfxNV79ebIEg"
      }
    },
    {
      "cell_type": "markdown",
      "source": [
        "We can analyse the growth of the bias by looking at the evolution of the estimated free energy, this allows to recover the free energy as the opposite of the accumulated bias. For simplicity we look separately phi and psi"
      ],
      "metadata": {
        "id": "k5uzW5NRbn2Y"
      }
    },
    {
      "cell_type": "code",
      "source": [
        "!plumed sum_hills --hills HILLS.txt --mintozero --outfile fes-phi.txt --idw phi --kt 2.49\n",
        "!plumed sum_hills --hills HILLS.txt --mintozero --outfile fes-psi.txt --idw psi --kt 2.49"
      ],
      "metadata": {
        "id": "0r33z9tPaZY3"
      },
      "execution_count": null,
      "outputs": []
    },
    {
      "cell_type": "code",
      "source": [
        "!head fes-phi.txt"
      ],
      "metadata": {
        "id": "vSzwOQPmhZ9W"
      },
      "execution_count": null,
      "outputs": []
    },
    {
      "cell_type": "code",
      "source": [
        "import matplotlib.pyplot as plt\n",
        "import csv\n",
        "\n",
        "phi=[]\n",
        "psi=[]\n",
        "fes_phi=[]\n",
        "fes_psi=[]\n",
        "\n",
        "with open('fes-phi.txt', 'r') as file:\n",
        "    for row in file:\n",
        "        if row.split()[0] == '#!':\n",
        "          continue\n",
        "        phi.append(float(row.split()[0]))\n",
        "        fes_phi.append(float(row.split()[1]))\n",
        "\n",
        "file.close()\n",
        "\n",
        "with open('fes-psi.txt', 'r') as file:\n",
        "    for row in file:\n",
        "        if row.split()[0] == '#!':\n",
        "          continue\n",
        "        psi.append(float(row.split()[0]))\n",
        "        fes_psi.append(float(row.split()[1]))\n",
        "\n",
        "file.close()\n",
        "\n",
        "# Initialise the subplot function using number of rows and columns\n",
        "figure, axis = plt.subplots(2,1)\n",
        "figure.set_size_inches(18.5, 10.5)\n",
        "\n",
        "axis[0].plot(phi,fes_phi)\n",
        "axis[0].set_xlabel(\"PHI\")\n",
        "axis[0].set_ylabel(\"Free Energy (kj/mol)\")\n",
        "\n",
        "axis[1].plot(psi,fes_psi)\n",
        "axis[1].set_xlabel(\"PSI\")\n",
        "axis[1].set_ylabel(\"Free Energy (kj/mol)\")\n",
        "\n",
        "plt.show()"
      ],
      "metadata": {
        "id": "4G87Eu2dcCAq"
      },
      "execution_count": null,
      "outputs": []
    },
    {
      "cell_type": "markdown",
      "source": [
        "##Self-assembly of a lipid bilayer using the Martini force-field."
      ],
      "metadata": {
        "id": "agZK3nl6_Yp0"
      }
    },
    {
      "cell_type": "markdown",
      "source": [
        "We will begin with self-assembling a dipalmitoyl-phosphatidylcholine (DPPC) bilayer from a random configuration of lipids and water in the simulation box. The first step is to create a simulation box containing a random configuration of 128 DPPC lipids. This can be done by starting from a file containing a single DPPC molecule. A file with coordinates for a single DPPC molecule is available for you as DPPC-em.gro. The gromacs tool `insert-molecules` can take this single-molecule conformation and attempt to place it in a simulation box multiple times at a random position and random orientation, each time checking that there are no overlaps between the consecutively placed molecules."
      ],
      "metadata": {
        "id": "1Ir_KsgX_tIB"
      }
    },
    {
      "cell_type": "code",
      "source": [
        "#make a new folder for this exercise, like\n",
        "%cd {mtd_path}\n",
        "%cd ..\n",
        "%mkdir martini\n",
        "%cd martini\n",
        "martini_path=%pwd\n",
        "#copy all needed files\n",
        "%cp ../../sb/Data/martini/* ."
      ],
      "metadata": {
        "id": "tDSpZnq7_euZ"
      },
      "execution_count": null,
      "outputs": []
    },
    {
      "cell_type": "code",
      "source": [
        "%ls"
      ],
      "metadata": {
        "id": "vS-dFuUzAt5G"
      },
      "execution_count": null,
      "outputs": []
    },
    {
      "cell_type": "code",
      "source": [
        "!gmx insert-molecules -ci DPPC-em.gro -box 7.5 7.5 7.5 -nmol 128 -radius 0.21 -try 500 -o 128_noW.gro"
      ],
      "metadata": {
        "id": "3DL6eMYLBGSG"
      },
      "execution_count": null,
      "outputs": []
    },
    {
      "cell_type": "markdown",
      "source": [
        "The value of the flag `-radius` (default van der Waals radii) has been increased from its default atomistic length (0.105 nm) to a value reflecting the size of Martini CG beads. Here `noW` stands for no Water. Then we perform a short energy minimization of the system containing only the lipids; the only reason for doing this, is getting rid of high forces between beads that may have been placed too close to each other."
      ],
      "metadata": {
        "id": "MZsXx8kyBcUM"
      }
    },
    {
      "cell_type": "code",
      "source": [
        "!gmx grompp -f minimization.mdp -c 128_noW.gro -p dppc.top -o dppc-min-init.tpr\n",
        "!gmx mdrun -deffnm dppc-min-init -v -c 128_minimized.gro"
      ],
      "metadata": {
        "id": "z3jv1Gq2BVLR"
      },
      "execution_count": null,
      "outputs": []
    },
    {
      "cell_type": "markdown",
      "source": [
        "Then we use the gromacs tool `solvate`, add 6 CG waters per lipid (note that this corresponds to 24 all-atom waters per lipid)."
      ],
      "metadata": {
        "id": "FZE3pEoTBsBa"
      }
    },
    {
      "cell_type": "code",
      "source": [
        "!gmx solvate -cp 128_minimized.gro -cs water.gro -o waterbox.gro -maxsol 768 -radius 0.21 -p dppc.top"
      ],
      "metadata": {
        "id": "NRaPhQHTBpPx"
      },
      "execution_count": null,
      "outputs": []
    },
    {
      "cell_type": "markdown",
      "source": [
        "Also here, the value of the flag `-radius` is used to reflect the size of Martini CG beads. The water beads are taken from the file water.gro provided for you. A new file, waterbox.gro is produced containing the 128 lipids and added water beads.\n",
        "\n",
        "Now perform an energy minimization again:"
      ],
      "metadata": {
        "id": "oMq6IK-hB0jx"
      }
    },
    {
      "cell_type": "code",
      "source": [
        "!gmx grompp -f minimization.mdp -c waterbox.gro -p dppc.top -o dppc-min-solvent.tpr\n",
        "!gmx mdrun -deffnm dppc-min-solvent -v -c minimized.gro"
      ],
      "metadata": {
        "id": "BOGL_hVgBxqG"
      },
      "execution_count": null,
      "outputs": []
    },
    {
      "cell_type": "markdown",
      "source": [
        "Now, you are ready to run the self-assembly MD simulation. About 20 ns should suffice. The simulation can take around 10 minutes."
      ],
      "metadata": {
        "id": "ga1c-tZNDE1o"
      }
    },
    {
      "cell_type": "code",
      "source": [
        "!gmx grompp -f martini_md.mdp -c minimized.gro -p dppc.top -o dppc-md.tpr\n",
        "!gmx mdrun -deffnm dppc-md -v -ntomp 2\n"
      ],
      "metadata": {
        "id": "bmzSGtn9Cwb_"
      },
      "execution_count": null,
      "outputs": []
    },
    {
      "cell_type": "markdown",
      "source": [
        "In order to visualize the trajectory in VMD we need to perform some preprocessing:"
      ],
      "metadata": {
        "id": "NBg_Mf0OEcQL"
      }
    },
    {
      "cell_type": "code",
      "source": [
        "!echo \"0\" | gmx trjconv -s dppc-md.tpr -f dppc-md.xtc -pbc whole -dump 0 -o dppc-md-start.gro\n",
        "!echo \"0\" | gmx trjconv -s dppc-md.tpr -f dppc-md.xtc -pbc whole -o dppc-md-viz.xtc"
      ],
      "metadata": {
        "id": "wqAWwr_0Dus2"
      },
      "execution_count": null,
      "outputs": []
    },
    {
      "cell_type": "markdown",
      "source": [
        "On your laptop you need the two output files (dppc-md-start.gro, dppc-md-viz.xtc) the topology file (dppc.top) and these additional files (cg_bonds.tcl, viz.vmd, martini_v2.1.itp, martini_v2.0_DPPC_01.itp)"
      ],
      "metadata": {
        "id": "bx_kphh2EpZk"
      }
    },
    {
      "cell_type": "markdown",
      "source": [
        "In VMD select the menu File -> open visualization and open the viz.vmd file. This should load the above files (if the file names are the same) with the correct visualization (the problem is that since Martini is a coarse-grained representation VMD does not understand automatically what the beads represent)."
      ],
      "metadata": {
        "id": "vIv0ZdJzEvgf"
      }
    },
    {
      "cell_type": "markdown",
      "source": [
        "When the simulation has finished, check whether you got a bilayer."
      ],
      "metadata": {
        "id": "uaV-LNz4Ey_H"
      }
    },
    {
      "cell_type": "markdown",
      "source": [
        "If your bilayer was formed in a plane other than the xy-plane, rotate the system so that it will, so for example"
      ],
      "metadata": {
        "id": "qtX61Ke9FEG0"
      }
    },
    {
      "cell_type": "code",
      "source": [
        "%cp dppc-md.gro dppc-md-xy.gro\n",
        "\n",
        "#if you need to rotate around x: (remove the # from the one you need)\n",
        "#!gmx editconf -f dppc-md.gro -rotate 90 0 0 -o dppc-md-xy.gro\n",
        "\n",
        "#or if you need to rotate around y\n",
        "#!gmx editconf -f dppc-md.gro -rotate 0 90 0 -o dppc-md-xy.gro"
      ],
      "metadata": {
        "id": "ZC5kNyVXFHd0"
      },
      "execution_count": null,
      "outputs": []
    },
    {
      "cell_type": "markdown",
      "source": [
        "The spontaneous assembly simulation was done using isotropic pressure coupling. The bilayer may have formed but is probably under tension because of the isotropic pressure coupling. Therefore, we first need to run a simulation in which the area of the bilayer can reach a proper equilibrium value. This requires that we use independent pressure coupling in the plane and perpendicular to the plane. Set up a simulation for another 20 ns at zero surface tension"
      ],
      "metadata": {
        "id": "oorYPLMWFUWH"
      }
    },
    {
      "cell_type": "markdown",
      "source": [
        "To get the (projected) area per lipid, you can simply divide the area of your simulation box by half the number of lipids in your system. The box-sizes can be obtained by running the gromacs tool `gmx energy` (ask for Box-X or Box-Y)"
      ],
      "metadata": {
        "id": "pVvyX92tHKTz"
      }
    },
    {
      "cell_type": "code",
      "source": [
        "#check the area per lipid\n",
        "!echo \"11\\n\\n\" | gmx energy -f dppc-md.edr -o box-x-md.xvg"
      ],
      "metadata": {
        "id": "jwWkaIMmFvmA"
      },
      "execution_count": null,
      "outputs": []
    },
    {
      "cell_type": "code",
      "source": [
        "!gmx grompp -f martini_eq.mdp -c dppc-md-xy.gro -p dppc.top -o dppc-eq.tpr\n",
        "!gmx mdrun -deffnm dppc-eq -v -ntomp 2"
      ],
      "metadata": {
        "id": "owAMZTUwFcDW"
      },
      "execution_count": null,
      "outputs": []
    },
    {
      "cell_type": "code",
      "source": [
        "#prepare files for visualisation (use viz-eq.vmd)\n",
        "!echo \"0\" | gmx trjconv -s dppc-eq.tpr -f dppc-eq.xtc -pbc whole -dump 0 -o dppc-eq-start.gro\n",
        "!echo \"0\" | gmx trjconv -s dppc-eq.tpr -f dppc-eq.xtc -pbc whole -o dppc-eq-viz.xtc"
      ],
      "metadata": {
        "id": "nVy1ULdsHUkl"
      },
      "execution_count": null,
      "outputs": []
    },
    {
      "cell_type": "code",
      "source": [
        "#check the new area per lipid\n",
        "!echo \"11\\n\\n\" | gmx energy -f dppc-eq.edr -o box-x-eq.xvg"
      ],
      "metadata": {
        "id": "x2Bj1DinJhx0"
      },
      "execution_count": null,
      "outputs": []
    }
  ]
}