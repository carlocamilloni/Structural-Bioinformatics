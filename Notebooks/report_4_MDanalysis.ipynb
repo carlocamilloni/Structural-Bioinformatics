{
  "nbformat": 4,
  "nbformat_minor": 0,
  "metadata": {
    "colab": {
      "provenance": [],
      "collapsed_sections": [
        "nlzla1gtl-wT"
      ],
      "include_colab_link": true
    },
    "kernelspec": {
      "display_name": "Python 3",
      "language": "python",
      "name": "python3"
    },
    "language_info": {
      "codemirror_mode": {
        "name": "ipython",
        "version": 3
      },
      "file_extension": ".py",
      "mimetype": "text/x-python",
      "name": "python",
      "nbconvert_exporter": "python",
      "pygments_lexer": "ipython3",
      "version": "3.7.7"
    }
  },
  "cells": [
    {
      "cell_type": "markdown",
      "metadata": {
        "id": "view-in-github",
        "colab_type": "text"
      },
      "source": [
        "<a href=\"https://colab.research.google.com/github/carlocamilloni/Structural-Bioinformatics/blob/main/Notebooks/report_4_MDanalysis.ipynb\" target=\"_parent\"><img src=\"https://colab.research.google.com/assets/colab-badge.svg\" alt=\"Open In Colab\"/></a>"
      ]
    },
    {
      "cell_type": "markdown",
      "metadata": {
        "id": "zyYhjQHNLYE0"
      },
      "source": [
        "#REPORT: Trajectory Analysis using MDanalysis"
      ]
    },
    {
      "cell_type": "markdown",
      "source": [
        "## Preliminary Setup"
      ],
      "metadata": {
        "id": "6Y1N42lmgp29"
      }
    },
    {
      "cell_type": "markdown",
      "source": [
        "First save the notebook in your google drive"
      ],
      "metadata": {
        "id": "cRituXquWYa8"
      }
    },
    {
      "cell_type": "code",
      "source": [
        "!pip3 install nglview==3.0.8\n",
        "!pip3 install moviepy==0.2.2.11"
      ],
      "metadata": {
        "id": "QBhdbO82qKsM"
      },
      "execution_count": null,
      "outputs": []
    },
    {
      "cell_type": "code",
      "source": [
        "# mount google drive\n",
        "from google.colab import drive\n",
        "drive.mount('/content/drive')"
      ],
      "metadata": {
        "id": "mwrhYp9WgxYc"
      },
      "execution_count": null,
      "outputs": []
    },
    {
      "cell_type": "code",
      "source": [
        "# set the path to your local task folder\n",
        "local_path='/content/drive/MyDrive/Structural_Bioinformatics/Task4'\n",
        "%cd {local_path}"
      ],
      "metadata": {
        "id": "adZeGmEpBeu3"
      },
      "execution_count": null,
      "outputs": []
    },
    {
      "cell_type": "markdown",
      "source": [
        "Your Name"
      ],
      "metadata": {
        "id": "WkMUMxiYWQ0A"
      }
    },
    {
      "cell_type": "code",
      "source": [
        "from datetime import date\n",
        "\n",
        "today = date.today()\n",
        "print(today)"
      ],
      "metadata": {
        "id": "CUHWyhL4WTY1"
      },
      "execution_count": null,
      "outputs": []
    },
    {
      "cell_type": "markdown",
      "metadata": {
        "id": "Fs9RilbxLnd-"
      },
      "source": [
        "### I.1 - RMSD\n"
      ]
    },
    {
      "cell_type": "markdown",
      "metadata": {
        "id": "stqGJXmJx-Hg"
      },
      "source": [
        "#### I.1A - Calculating $RMSD$ against a reference frame"
      ]
    },
    {
      "cell_type": "markdown",
      "metadata": {
        "id": "35YHo9oWyJOr"
      },
      "source": [
        "**QUESTION❓:** How much does the RMSD before and after alignment compare?"
      ]
    },
    {
      "cell_type": "markdown",
      "source": [
        "**ANSWER:**"
      ],
      "metadata": {
        "id": "UohpXmyNfyXs"
      }
    },
    {
      "cell_type": "markdown",
      "metadata": {
        "id": "cR3TTC3xYmN_"
      },
      "source": [
        "#### I.1B-C - RMSD of the monomer and the dimer"
      ]
    },
    {
      "cell_type": "markdown",
      "metadata": {
        "id": "m_8dXuxhmYG9"
      },
      "source": [
        "**QUESTION:** What is the range (in angstroms) of the RMSD fluctuations for the monomer and dimer simulations?"
      ]
    },
    {
      "cell_type": "markdown",
      "source": [
        "**ANSWER:**"
      ],
      "metadata": {
        "id": "GEhZoOxtfiQm"
      }
    },
    {
      "cell_type": "markdown",
      "metadata": {
        "id": "b6OY9Bo8jIfc"
      },
      "source": [
        "###I.2 - RMSF"
      ]
    },
    {
      "cell_type": "markdown",
      "metadata": {
        "id": "HPC9T4TPZokz"
      },
      "source": [
        "**QUESTIONS❓**\n",
        "\n",
        "1. Is there any difference in local fluctuations between the monomeric and dimeric states?\n",
        "\n",
        "2. Which region exhibit a high atomic fluctuation through the trajectory?\n",
        "\n",
        "3. What are the structural features of these regions?\n",
        "\n"
      ]
    },
    {
      "cell_type": "markdown",
      "source": [
        "**ANSWERS:**\n",
        "\n",
        "1.   List item\n",
        "2.   List item\n",
        "3.   List item"
      ],
      "metadata": {
        "id": "N0uwArLRf-OK"
      }
    },
    {
      "cell_type": "markdown",
      "metadata": {
        "id": "W8xZMBJeyT07"
      },
      "source": [
        "### I.3 - Pairwise RMSD"
      ]
    },
    {
      "cell_type": "markdown",
      "source": [
        "**QUESTION**: What are the matrices showing? Try to explain what is their meaning"
      ],
      "metadata": {
        "id": "DYKfLsnYW6US"
      }
    },
    {
      "cell_type": "markdown",
      "source": [
        "**ANSWER**:"
      ],
      "metadata": {
        "id": "5Nx0i76OXDhC"
      }
    },
    {
      "cell_type": "markdown",
      "source": [
        "##Part II – Principal Component Analysis"
      ],
      "metadata": {
        "id": "Trp2Hb8HdFW0"
      }
    },
    {
      "cell_type": "code",
      "source": [
        "!pip3 install --upgrade MDAnalysis"
      ],
      "metadata": {
        "id": "mEGLkBDIrz0e"
      },
      "execution_count": null,
      "outputs": []
    },
    {
      "cell_type": "code",
      "source": [
        "#Import things\n",
        "import MDAnalysis as mda\n",
        "from MDAnalysis.analysis import diffusionmap, align\n",
        "import matplotlib.pyplot as plt\n",
        "%matplotlib inline"
      ],
      "metadata": {
        "id": "jomPngtxqco6"
      },
      "execution_count": null,
      "outputs": []
    },
    {
      "cell_type": "code",
      "source": [
        "dimer_mobile = mda.Universe(\"1ihv_dimer_protPBC.gro\", \"1ihv_dimer_protPBC.xtc\")\n",
        "dimer_ref = mda.Universe(\"1ihv_dimer_protPBC.gro\", \"1ihv_dimer_protPBC.xtc\")\n",
        "# Align the trajectory\n",
        "aligner2 = align.AlignTraj(dimer_mobile, dimer_mobile, select='protein and backbone', in_memory=True).run()\n",
        "import MDAnalysis as mda\n",
        "import MDAnalysis.analysis.pca as pca\n",
        "from MDAnalysis.coordinates.base import Timestep\n",
        "\n",
        "import numpy as np\n",
        "import os\n",
        "import glob\n",
        "\n",
        "import pandas as pd\n",
        "import seaborn as sns\n",
        "\n",
        "import matplotlib.pyplot as plt\n",
        "import matplotlib.cm\n",
        "import matplotlib.ticker as ticker\n",
        "%matplotlib inline"
      ],
      "metadata": {
        "id": "UuVjYsZYqdGV"
      },
      "execution_count": null,
      "outputs": []
    },
    {
      "cell_type": "code",
      "source": [
        "pcu2 = pca.PCA(dimer_mobile, select='protein and backbone',\n",
        "             align=True, mean=None,\n",
        "             n_components=None).run()"
      ],
      "metadata": {
        "id": "kuH6r9kWqjGo"
      },
      "execution_count": null,
      "outputs": []
    },
    {
      "cell_type": "code",
      "source": [
        "backbone2 = dimer_mobile.select_atoms('protein and backbone')\n",
        "n_bb2 = len(backbone2)\n",
        "print('There are {} backbone atoms in the analysis'.format(n_bb2))\n",
        "print(pcu2.results.p_components.shape)"
      ],
      "metadata": {
        "id": "r75CXbhhqmb6"
      },
      "execution_count": null,
      "outputs": []
    },
    {
      "cell_type": "markdown",
      "source": [
        "Set in the following an increasing number of components for your analysis (begin with 1, get to the end of the notebook and then come back here)"
      ],
      "metadata": {
        "id": "9XlATSTzqvbW"
      }
    },
    {
      "cell_type": "code",
      "source": [
        "transformed2 = pcu2.transform(backbone2, n_components=1)\n",
        "transformed2.shape"
      ],
      "metadata": {
        "id": "7_s_sBjTqqWp"
      },
      "execution_count": null,
      "outputs": []
    },
    {
      "cell_type": "code",
      "source": [
        "pc1u2 = pcu2.results.p_components[:, 0]\n",
        "trans1u2 = transformed2[:, 0]\n",
        "projectedu2 = np.outer(trans1u2, pc1u2)\n",
        "coordinatesu2 = projectedu2.reshape(len(trans1u2), -1, 3) - pcu2.mean"
      ],
      "metadata": {
        "id": "zcpBuRpQq6m9"
      },
      "execution_count": null,
      "outputs": []
    },
    {
      "cell_type": "code",
      "source": [
        "proj1 = mda.Merge(backbone2)\n",
        "proj1.load_new(coordinatesu2, order=\"fac\")"
      ],
      "metadata": {
        "id": "yMTWTcSyq8g3"
      },
      "execution_count": null,
      "outputs": []
    },
    {
      "cell_type": "code",
      "source": [
        "from google.colab import output\n",
        "output.enable_custom_widget_manager()\n",
        "import nglview as nv\n",
        "view = nv.show_mdanalysis(proj1.atoms)\n",
        "view"
      ],
      "metadata": {
        "id": "BgXA9u_pq-L5"
      },
      "execution_count": null,
      "outputs": []
    },
    {
      "cell_type": "markdown",
      "source": [
        "**QUESTION**: From the animation representing the PCA of your data try to describe this motion (what are the differences observed increasing the number of components and repeating the analysis?"
      ],
      "metadata": {
        "id": "e1Hha7RcXLBQ"
      }
    },
    {
      "cell_type": "markdown",
      "source": [],
      "metadata": {
        "id": "xNZ-P51eXYOG"
      }
    }
  ]
}