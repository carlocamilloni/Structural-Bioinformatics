{
  "nbformat": 4,
  "nbformat_minor": 0,
  "metadata": {
    "colab": {
      "name": "report_8_docking.ipynb",
      "provenance": [],
      "mount_file_id": "1VcO2kCOjUBrF6i37C0C1tTlDv7lYIN99",
      "authorship_tag": "ABX9TyP9swHVRJJYakWh5CnxtyuR",
      "include_colab_link": true
    },
    "kernelspec": {
      "name": "python3",
      "display_name": "Python 3"
    },
    "language_info": {
      "name": "python"
    }
  },
  "cells": [
    {
      "cell_type": "markdown",
      "metadata": {
        "id": "view-in-github",
        "colab_type": "text"
      },
      "source": [
        "<a href=\"https://colab.research.google.com/github/carlocamilloni/Structural-Bioinformatics/blob/main/Notebooks/report_8_docking.ipynb\" target=\"_parent\"><img src=\"https://colab.research.google.com/assets/colab-badge.svg\" alt=\"Open In Colab\"/></a>"
      ]
    },
    {
      "cell_type": "markdown",
      "source": [
        "# REPORT: Molecular Docking"
      ],
      "metadata": {
        "id": "8igaJRlJUlfF"
      }
    },
    {
      "cell_type": "markdown",
      "source": [
        "your name"
      ],
      "metadata": {
        "id": "3mA7dcAEUYeR"
      }
    },
    {
      "cell_type": "code",
      "source": [
        "from datetime import date\n",
        "\n",
        "today = date.today()\n",
        "print(today)"
      ],
      "metadata": {
        "id": "l6etJm6UUUmO"
      },
      "execution_count": null,
      "outputs": []
    },
    {
      "cell_type": "markdown",
      "source": [
        "Choose one of the following systems, based on your assigned group (first or second). If you are not part of a workgroup, you may select either system:\n",
        "\n",
        "1. 6Y3C — Cyclooxygenase-1 with ibuprofen\n",
        "2. 3USI — Leucine transporter with sertraline\n",
        "\n",
        "Your task is to identify a plausible binding pose for the assigned ligand. Visualize the resulting complex and analyze the interactions that stabilize binding.\n",
        "\n",
        "Even if a bound structure is already available in the PDB, do not use it as a reference — perform your analysis as if the binding mode were unknown."
      ],
      "metadata": {
        "id": "eqdi1tTTA1GU"
      }
    },
    {
      "cell_type": "markdown",
      "source": [
        "## Receptor Structure"
      ],
      "metadata": {
        "id": "opdEJ-fFU8sP"
      }
    },
    {
      "cell_type": "markdown",
      "source": [
        "Add a figure for the receptor structure and provide a brief description:"
      ],
      "metadata": {
        "id": "ISO5oddNU-7O"
      }
    },
    {
      "cell_type": "markdown",
      "source": [],
      "metadata": {
        "id": "lZV7jM3ngmR3"
      }
    },
    {
      "cell_type": "markdown",
      "source": [
        "# Binding site identification"
      ],
      "metadata": {
        "id": "5RzaTOWrKtAh"
      }
    },
    {
      "cell_type": "markdown",
      "source": [
        "you can use [p2rank](https://github.com/rdk/p2rank) to identify possible binding site using the [webserver](https://prankweb.cz/)"
      ],
      "metadata": {
        "id": "2Vp9JitOKwyb"
      }
    },
    {
      "cell_type": "markdown",
      "source": [
        "Show figure:"
      ],
      "metadata": {
        "id": "tGTt2YATLBEH"
      }
    },
    {
      "cell_type": "code",
      "source": [],
      "metadata": {
        "id": "AUn8GHQgLDzo"
      },
      "execution_count": null,
      "outputs": []
    },
    {
      "cell_type": "markdown",
      "source": [
        "## Ligand Structure"
      ],
      "metadata": {
        "id": "Lj5C6kerUrp6"
      }
    },
    {
      "cell_type": "markdown",
      "source": [
        "Add a figure of the Ligand and provide a brief description:"
      ],
      "metadata": {
        "id": "HqtYmorqUuCx"
      }
    },
    {
      "cell_type": "markdown",
      "source": [
        "..."
      ],
      "metadata": {
        "id": "5E8253U-U5Mh"
      }
    },
    {
      "cell_type": "markdown",
      "source": [
        "## Docking results"
      ],
      "metadata": {
        "id": "tPjOGztzVEnA"
      }
    },
    {
      "cell_type": "markdown",
      "source": [
        "First produce a figure of the best docking structures you obtained by VINA and subsequently analyze the interactions that you consider relevant in stabilizing the complex."
      ],
      "metadata": {
        "id": "LI3ZOofvVKn2"
      }
    },
    {
      "cell_type": "markdown",
      "source": [],
      "metadata": {
        "id": "zufmD1fZgnQH"
      }
    }
  ]
}