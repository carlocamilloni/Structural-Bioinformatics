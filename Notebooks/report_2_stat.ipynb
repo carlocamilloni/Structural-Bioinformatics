{
  "nbformat": 4,
  "nbformat_minor": 0,
  "metadata": {
    "colab": {
      "name": "report_2_stat.ipynb",
      "provenance": [],
      "collapsed_sections": [
        "UFymope2e12l",
        "15uaj6r3iMiS",
        "1TgGQL3K2RRE",
        "xpQtmCkOpq2_",
        "dPnY__n_n98v",
        "LW6uLL-Zn98w",
        "HoD4UmzRn98y",
        "iG0e--lNvLBQ",
        "Ge0mpLr0HI3o",
        "KjY0f0PZFPrQ",
        "_Twcsx45vjn1",
        "TYTtnqKykHoh",
        "mJ5N9k2Uh-Km",
        "Sngj5A18lXkc",
        "PuRyHnXVh-L1",
        "avMpCAihh-L1",
        "yDojx1I6h-L1",
        "Vx58xIUch-L2",
        "Bw7U08o5h-L2",
        "wCeZpa40h-L2",
        "O8pcyPz1h-L2",
        "4chLU4Uclr-F",
        "BDdkXICKh-LY",
        "JNQV86LYh-Kz",
        "sPInh2E_h-LB",
        "9SNVANvoh-LF",
        "00AvEQZch-LK",
        "XbKvjZF5h-LN",
        "zaOIoAzfh-LU",
        "kRcCCmnbh-LW",
        "AMRn-yH-h-LY",
        "O4h2Ne2th-LZ",
        "tybiSZtlh-Lc",
        "LW8dk0jqh-Lk",
        "H7QoSWk-h-Lf",
        "A-E1DJY9h-Kb"
      ],
      "include_colab_link": true
    },
    "kernelspec": {
      "name": "python3",
      "display_name": "Python 3"
    }
  },
  "cells": [
    {
      "cell_type": "markdown",
      "metadata": {
        "id": "view-in-github",
        "colab_type": "text"
      },
      "source": [
        "<a href=\"https://colab.research.google.com/github/carlocamilloni/Structural-Bioinformatics/blob/main/Notebooks/report_2_stat.ipynb\" target=\"_parent\"><img src=\"https://colab.research.google.com/assets/colab-badge.svg\" alt=\"Open In Colab\"/></a>"
      ]
    },
    {
      "cell_type": "markdown",
      "source": [
        "Start by saving a copy of this **notebook** in your Google Drive."
      ],
      "metadata": {
        "id": "yOCFmnMif5Z0"
      }
    },
    {
      "cell_type": "markdown",
      "source": [
        "# Probability distributions and free energies\n",
        "\n",
        "\n",
        "---\n",
        "Your name"
      ],
      "metadata": {
        "id": "bcdt0KR_hxfP"
      }
    },
    {
      "cell_type": "code",
      "source": [
        "from datetime import date\n",
        "\n",
        "today = date.today()\n",
        "print(today)"
      ],
      "metadata": {
        "id": "psDToPFp0adc"
      },
      "execution_count": null,
      "outputs": []
    },
    {
      "cell_type": "markdown",
      "source": [
        "## A. Sampling from a uniform discrete distribution"
      ],
      "metadata": {
        "id": "4UGu2GKKvjCO"
      }
    },
    {
      "cell_type": "markdown",
      "source": [
        "**Exercise A1**: for M=2000 trials try to generate N=2000 random integer numbers between 1 and 20 and calculate their average and standard deviation. Plot one representative histogram, the histogram of the average and calculate its standard deviation."
      ],
      "metadata": {
        "id": "jJKi5DaUkkcV"
      }
    },
    {
      "cell_type": "markdown",
      "source": [
        "**Exercise A2**: Calculate and plot the average and the standard deviation of the average for N integer numbers between 1 and 20 by keeping M=20 fixed and increasing the number N between 1 and 2000."
      ],
      "metadata": {
        "id": "8wm6GwcAu2Zy"
      }
    },
    {
      "cell_type": "code",
      "source": [],
      "metadata": {
        "id": "U1JYaOiHUS5N"
      },
      "execution_count": null,
      "outputs": []
    },
    {
      "cell_type": "markdown",
      "source": [
        "**Exercise A3**: Calculate and plot the average and the standard deviation of the average for N integer numbers between 1 and 20 by keeping N=20 fixed and increasing the number of trials M between 1 and 2000."
      ],
      "metadata": {
        "id": "dvFhasRjvKdp"
      }
    },
    {
      "cell_type": "code",
      "source": [],
      "metadata": {
        "id": "zTYsgMfhUUOV"
      },
      "execution_count": null,
      "outputs": []
    },
    {
      "cell_type": "markdown",
      "source": [
        "`What do you observe?`"
      ],
      "metadata": {
        "id": "WRrtKPesgVfG"
      }
    },
    {
      "cell_type": "markdown",
      "source": [],
      "metadata": {
        "id": "ZE24ueXvZChl"
      }
    },
    {
      "cell_type": "markdown",
      "source": [
        "## B. Sampling from a Gaussian distribution"
      ],
      "metadata": {
        "id": "YyplS-7qGnp8"
      }
    },
    {
      "cell_type": "markdown",
      "source": [
        "**Exercise B1**: for M=2000 trials try to generate N=2000 random numbers from a Gaussian centered in 10.5 with a standard deviation of 5.7663 and calculate their average and standard deviation. Plot one representative histogram, the histogram of the average and calculate its standard deviation."
      ],
      "metadata": {
        "id": "Tza7Xp_xw2O9"
      }
    },
    {
      "cell_type": "code",
      "source": [],
      "metadata": {
        "id": "ETc27t6CUnJz"
      },
      "execution_count": null,
      "outputs": []
    },
    {
      "cell_type": "markdown",
      "source": [
        "**Exercise B2**: Calculate and plot the average and the standard deviation of the average for N real numbers from a Gaussian centered in 10.5 with a standard deviation of 5.7663 by keeping M=20 fixed and increasing the number N between 1 and 2000."
      ],
      "metadata": {
        "id": "46b-KEEWP9Ig"
      }
    },
    {
      "cell_type": "code",
      "source": [],
      "metadata": {
        "id": "cY8PsNCaUpHa"
      },
      "execution_count": null,
      "outputs": []
    },
    {
      "cell_type": "markdown",
      "source": [
        "**Exercise B3**: Calculate and plot the average and the standard deviation of the average for N real numbers from a Gaussian centered in 10.5 with a standard deviation of 5.7663 by keeping N=20 fixed and increasing the number of trials M between 1 and 2000."
      ],
      "metadata": {
        "id": "1o9RkgXdRxGq"
      }
    },
    {
      "cell_type": "code",
      "source": [],
      "metadata": {
        "id": "PjdCAnvyUq5Z"
      },
      "execution_count": null,
      "outputs": []
    },
    {
      "cell_type": "markdown",
      "source": [
        "`What do you observe?`"
      ],
      "metadata": {
        "id": "5zaJkbAzZGBR"
      }
    },
    {
      "cell_type": "markdown",
      "source": [],
      "metadata": {
        "id": "wPeMS0rGZKG0"
      }
    },
    {
      "cell_type": "markdown",
      "source": [
        "## C. Sampling from a multimodal distribution"
      ],
      "metadata": {
        "id": "F22MZ2R9UBhe"
      }
    },
    {
      "cell_type": "markdown",
      "source": [
        "**Exercise C1**: for M=2000 trials try to generate N=2000 random numbers from a distribution made of one Gaussian centered in 4.8 with a standard deviation of 1 and another Gaussian centered in 16.2 with a standard deviation of 1 and calculate their average and standard deviation. Plot one representative histogram, the histogram of the average and calculate its standard deviation."
      ],
      "metadata": {
        "id": "Z5FTfs6Nxj7Q"
      }
    },
    {
      "cell_type": "code",
      "source": [],
      "metadata": {
        "id": "mfpT266TyVOk"
      },
      "execution_count": null,
      "outputs": []
    },
    {
      "cell_type": "markdown",
      "source": [
        "**Exercise C2**: Calculate and plot the average and the standard deviation of the average for N real numbers from a distribution made of one Gaussian centered in 4.8 with a standard deviation of 1 and another Gaussian centered in 16.2 with a standard deviation of 1 by keeping M=20 fixed and increasing the number N between 1 and 2000."
      ],
      "metadata": {
        "id": "5Xqwf9cFz4LY"
      }
    },
    {
      "cell_type": "code",
      "source": [],
      "metadata": {
        "id": "AMMgtkHMYwPH"
      },
      "execution_count": null,
      "outputs": []
    },
    {
      "cell_type": "markdown",
      "source": [
        "**Exercise C3**: Calculate and plot the average and the standard deviation of the average for N real numbers from a distribution made of one Gaussian centered in 4.8 with a standard deviation of 1 and another Gaussian centered in 16.2 with a standard deviation of 1 by keeping N=20 fixed and increasing the number of trials M between 1 and 2000."
      ],
      "metadata": {
        "id": "SJhP1qwKyXnr"
      }
    },
    {
      "cell_type": "code",
      "source": [],
      "metadata": {
        "id": "CJnH9_YCY9qc"
      },
      "execution_count": null,
      "outputs": []
    },
    {
      "cell_type": "markdown",
      "source": [
        "`What do you observe?`"
      ],
      "metadata": {
        "id": "g7JnLIA8Y-K7"
      }
    },
    {
      "cell_type": "markdown",
      "source": [
        "## Probabilities and free energies"
      ],
      "metadata": {
        "id": "lUmDm__8gWZO"
      }
    },
    {
      "cell_type": "markdown",
      "source": [
        "First download the file with the data:"
      ],
      "metadata": {
        "id": "E0QJVM73stqf"
      }
    },
    {
      "cell_type": "code",
      "source": [
        "import pandas as pd\n",
        "import requests\n",
        "import gzip\n",
        "from io import BytesIO\n",
        "\n",
        "# URL of the raw gzipped CSV file on GitHub\n",
        "gz_csv_url = \"https://raw.githubusercontent.com/carlocamilloni/Structural-Bioinformatics/2a766bf808b5b881188b346e3203f21e1b1dd8de/Data/stats/multimodal_gaussian_samples.csv.gz\"\n",
        "\n",
        "# Download the gzipped content\n",
        "response = requests.get(gz_csv_url)\n",
        "response.raise_for_status() # Raise an exception for bad status codes\n",
        "\n",
        "# Read the gzipped content from bytes\n",
        "gzipped_file = BytesIO(response.content)\n",
        "\n",
        "# Ungzip the content and read into a pandas DataFrame\n",
        "with gzip.open(gzipped_file, 'rt') as f:\n",
        "    df_samples = pd.read_csv(f)\n",
        "\n",
        "# Display the first few rows of the DataFrame\n",
        "display(df_samples.head())"
      ],
      "metadata": {
        "colab": {
          "base_uri": "https://localhost:8080/",
          "height": 204
        },
        "id": "jKS6H0Ershqz",
        "outputId": "78e2ac80-5810-49ad-866c-61d9879afb3a"
      },
      "execution_count": 104,
      "outputs": [
        {
          "output_type": "display_data",
          "data": {
            "text/plain": [
              "   Dimension 1  Dimension 2\n",
              "0     0.994441     0.969085\n",
              "1     0.994445     0.994954\n",
              "2     0.764301     1.033098\n",
              "3     0.949795     1.033733\n",
              "4    -0.448379     0.748629"
            ],
            "text/html": [
              "\n",
              "  <div id=\"df-269e6139-8493-487e-86d9-41405b01318b\" class=\"colab-df-container\">\n",
              "    <div>\n",
              "<style scoped>\n",
              "    .dataframe tbody tr th:only-of-type {\n",
              "        vertical-align: middle;\n",
              "    }\n",
              "\n",
              "    .dataframe tbody tr th {\n",
              "        vertical-align: top;\n",
              "    }\n",
              "\n",
              "    .dataframe thead th {\n",
              "        text-align: right;\n",
              "    }\n",
              "</style>\n",
              "<table border=\"1\" class=\"dataframe\">\n",
              "  <thead>\n",
              "    <tr style=\"text-align: right;\">\n",
              "      <th></th>\n",
              "      <th>Dimension 1</th>\n",
              "      <th>Dimension 2</th>\n",
              "    </tr>\n",
              "  </thead>\n",
              "  <tbody>\n",
              "    <tr>\n",
              "      <th>0</th>\n",
              "      <td>0.994441</td>\n",
              "      <td>0.969085</td>\n",
              "    </tr>\n",
              "    <tr>\n",
              "      <th>1</th>\n",
              "      <td>0.994445</td>\n",
              "      <td>0.994954</td>\n",
              "    </tr>\n",
              "    <tr>\n",
              "      <th>2</th>\n",
              "      <td>0.764301</td>\n",
              "      <td>1.033098</td>\n",
              "    </tr>\n",
              "    <tr>\n",
              "      <th>3</th>\n",
              "      <td>0.949795</td>\n",
              "      <td>1.033733</td>\n",
              "    </tr>\n",
              "    <tr>\n",
              "      <th>4</th>\n",
              "      <td>-0.448379</td>\n",
              "      <td>0.748629</td>\n",
              "    </tr>\n",
              "  </tbody>\n",
              "</table>\n",
              "</div>\n",
              "    <div class=\"colab-df-buttons\">\n",
              "\n",
              "  <div class=\"colab-df-container\">\n",
              "    <button class=\"colab-df-convert\" onclick=\"convertToInteractive('df-269e6139-8493-487e-86d9-41405b01318b')\"\n",
              "            title=\"Convert this dataframe to an interactive table.\"\n",
              "            style=\"display:none;\">\n",
              "\n",
              "  <svg xmlns=\"http://www.w3.org/2000/svg\" height=\"24px\" viewBox=\"0 -960 960 960\">\n",
              "    <path d=\"M120-120v-720h720v720H120Zm60-500h600v-160H180v160Zm220 220h160v-160H400v160Zm0 220h160v-160H400v160ZM180-400h160v-160H180v160Zm440 0h160v-160H620v160ZM180-180h160v-160H180v160Zm440 0h160v-160H620v160Z\"/>\n",
              "  </svg>\n",
              "    </button>\n",
              "\n",
              "  <style>\n",
              "    .colab-df-container {\n",
              "      display:flex;\n",
              "      gap: 12px;\n",
              "    }\n",
              "\n",
              "    .colab-df-convert {\n",
              "      background-color: #E8F0FE;\n",
              "      border: none;\n",
              "      border-radius: 50%;\n",
              "      cursor: pointer;\n",
              "      display: none;\n",
              "      fill: #1967D2;\n",
              "      height: 32px;\n",
              "      padding: 0 0 0 0;\n",
              "      width: 32px;\n",
              "    }\n",
              "\n",
              "    .colab-df-convert:hover {\n",
              "      background-color: #E2EBFA;\n",
              "      box-shadow: 0px 1px 2px rgba(60, 64, 67, 0.3), 0px 1px 3px 1px rgba(60, 64, 67, 0.15);\n",
              "      fill: #174EA6;\n",
              "    }\n",
              "\n",
              "    .colab-df-buttons div {\n",
              "      margin-bottom: 4px;\n",
              "    }\n",
              "\n",
              "    [theme=dark] .colab-df-convert {\n",
              "      background-color: #3B4455;\n",
              "      fill: #D2E3FC;\n",
              "    }\n",
              "\n",
              "    [theme=dark] .colab-df-convert:hover {\n",
              "      background-color: #434B5C;\n",
              "      box-shadow: 0px 1px 3px 1px rgba(0, 0, 0, 0.15);\n",
              "      filter: drop-shadow(0px 1px 2px rgba(0, 0, 0, 0.3));\n",
              "      fill: #FFFFFF;\n",
              "    }\n",
              "  </style>\n",
              "\n",
              "    <script>\n",
              "      const buttonEl =\n",
              "        document.querySelector('#df-269e6139-8493-487e-86d9-41405b01318b button.colab-df-convert');\n",
              "      buttonEl.style.display =\n",
              "        google.colab.kernel.accessAllowed ? 'block' : 'none';\n",
              "\n",
              "      async function convertToInteractive(key) {\n",
              "        const element = document.querySelector('#df-269e6139-8493-487e-86d9-41405b01318b');\n",
              "        const dataTable =\n",
              "          await google.colab.kernel.invokeFunction('convertToInteractive',\n",
              "                                                    [key], {});\n",
              "        if (!dataTable) return;\n",
              "\n",
              "        const docLinkHtml = 'Like what you see? Visit the ' +\n",
              "          '<a target=\"_blank\" href=https://colab.research.google.com/notebooks/data_table.ipynb>data table notebook</a>'\n",
              "          + ' to learn more about interactive tables.';\n",
              "        element.innerHTML = '';\n",
              "        dataTable['output_type'] = 'display_data';\n",
              "        await google.colab.output.renderOutput(dataTable, element);\n",
              "        const docLink = document.createElement('div');\n",
              "        docLink.innerHTML = docLinkHtml;\n",
              "        element.appendChild(docLink);\n",
              "      }\n",
              "    </script>\n",
              "  </div>\n",
              "\n",
              "\n",
              "    <div id=\"df-3b7ebf0d-2223-4dfd-8aba-161e86e8cc89\">\n",
              "      <button class=\"colab-df-quickchart\" onclick=\"quickchart('df-3b7ebf0d-2223-4dfd-8aba-161e86e8cc89')\"\n",
              "                title=\"Suggest charts\"\n",
              "                style=\"display:none;\">\n",
              "\n",
              "<svg xmlns=\"http://www.w3.org/2000/svg\" height=\"24px\"viewBox=\"0 0 24 24\"\n",
              "     width=\"24px\">\n",
              "    <g>\n",
              "        <path d=\"M19 3H5c-1.1 0-2 .9-2 2v14c0 1.1.9 2 2 2h14c1.1 0 2-.9 2-2V5c0-1.1-.9-2-2-2zM9 17H7v-7h2v7zm4 0h-2V7h2v10zm4 0h-2v-4h2v4z\"/>\n",
              "    </g>\n",
              "</svg>\n",
              "      </button>\n",
              "\n",
              "<style>\n",
              "  .colab-df-quickchart {\n",
              "      --bg-color: #E8F0FE;\n",
              "      --fill-color: #1967D2;\n",
              "      --hover-bg-color: #E2EBFA;\n",
              "      --hover-fill-color: #174EA6;\n",
              "      --disabled-fill-color: #AAA;\n",
              "      --disabled-bg-color: #DDD;\n",
              "  }\n",
              "\n",
              "  [theme=dark] .colab-df-quickchart {\n",
              "      --bg-color: #3B4455;\n",
              "      --fill-color: #D2E3FC;\n",
              "      --hover-bg-color: #434B5C;\n",
              "      --hover-fill-color: #FFFFFF;\n",
              "      --disabled-bg-color: #3B4455;\n",
              "      --disabled-fill-color: #666;\n",
              "  }\n",
              "\n",
              "  .colab-df-quickchart {\n",
              "    background-color: var(--bg-color);\n",
              "    border: none;\n",
              "    border-radius: 50%;\n",
              "    cursor: pointer;\n",
              "    display: none;\n",
              "    fill: var(--fill-color);\n",
              "    height: 32px;\n",
              "    padding: 0;\n",
              "    width: 32px;\n",
              "  }\n",
              "\n",
              "  .colab-df-quickchart:hover {\n",
              "    background-color: var(--hover-bg-color);\n",
              "    box-shadow: 0 1px 2px rgba(60, 64, 67, 0.3), 0 1px 3px 1px rgba(60, 64, 67, 0.15);\n",
              "    fill: var(--button-hover-fill-color);\n",
              "  }\n",
              "\n",
              "  .colab-df-quickchart-complete:disabled,\n",
              "  .colab-df-quickchart-complete:disabled:hover {\n",
              "    background-color: var(--disabled-bg-color);\n",
              "    fill: var(--disabled-fill-color);\n",
              "    box-shadow: none;\n",
              "  }\n",
              "\n",
              "  .colab-df-spinner {\n",
              "    border: 2px solid var(--fill-color);\n",
              "    border-color: transparent;\n",
              "    border-bottom-color: var(--fill-color);\n",
              "    animation:\n",
              "      spin 1s steps(1) infinite;\n",
              "  }\n",
              "\n",
              "  @keyframes spin {\n",
              "    0% {\n",
              "      border-color: transparent;\n",
              "      border-bottom-color: var(--fill-color);\n",
              "      border-left-color: var(--fill-color);\n",
              "    }\n",
              "    20% {\n",
              "      border-color: transparent;\n",
              "      border-left-color: var(--fill-color);\n",
              "      border-top-color: var(--fill-color);\n",
              "    }\n",
              "    30% {\n",
              "      border-color: transparent;\n",
              "      border-left-color: var(--fill-color);\n",
              "      border-top-color: var(--fill-color);\n",
              "      border-right-color: var(--fill-color);\n",
              "    }\n",
              "    40% {\n",
              "      border-color: transparent;\n",
              "      border-right-color: var(--fill-color);\n",
              "      border-top-color: var(--fill-color);\n",
              "    }\n",
              "    60% {\n",
              "      border-color: transparent;\n",
              "      border-right-color: var(--fill-color);\n",
              "    }\n",
              "    80% {\n",
              "      border-color: transparent;\n",
              "      border-right-color: var(--fill-color);\n",
              "      border-bottom-color: var(--fill-color);\n",
              "    }\n",
              "    90% {\n",
              "      border-color: transparent;\n",
              "      border-bottom-color: var(--fill-color);\n",
              "    }\n",
              "  }\n",
              "</style>\n",
              "\n",
              "      <script>\n",
              "        async function quickchart(key) {\n",
              "          const quickchartButtonEl =\n",
              "            document.querySelector('#' + key + ' button');\n",
              "          quickchartButtonEl.disabled = true;  // To prevent multiple clicks.\n",
              "          quickchartButtonEl.classList.add('colab-df-spinner');\n",
              "          try {\n",
              "            const charts = await google.colab.kernel.invokeFunction(\n",
              "                'suggestCharts', [key], {});\n",
              "          } catch (error) {\n",
              "            console.error('Error during call to suggestCharts:', error);\n",
              "          }\n",
              "          quickchartButtonEl.classList.remove('colab-df-spinner');\n",
              "          quickchartButtonEl.classList.add('colab-df-quickchart-complete');\n",
              "        }\n",
              "        (() => {\n",
              "          let quickchartButtonEl =\n",
              "            document.querySelector('#df-3b7ebf0d-2223-4dfd-8aba-161e86e8cc89 button');\n",
              "          quickchartButtonEl.style.display =\n",
              "            google.colab.kernel.accessAllowed ? 'block' : 'none';\n",
              "        })();\n",
              "      </script>\n",
              "    </div>\n",
              "\n",
              "    </div>\n",
              "  </div>\n"
            ],
            "application/vnd.google.colaboratory.intrinsic+json": {
              "type": "dataframe",
              "summary": "{\n  \"name\": \"display(df_samples\",\n  \"rows\": 5,\n  \"fields\": [\n    {\n      \"column\": \"Dimension 1\",\n      \"properties\": {\n        \"dtype\": \"number\",\n        \"std\": 0.6218228845870662,\n        \"min\": -0.4483786092371717,\n        \"max\": 0.9944445409144016,\n        \"num_unique_values\": 5,\n        \"samples\": [\n          0.9944445409144016,\n          -0.4483786092371717,\n          0.7643012514898403\n        ],\n        \"semantic_type\": \"\",\n        \"description\": \"\"\n      }\n    },\n    {\n      \"column\": \"Dimension 2\",\n      \"properties\": {\n        \"dtype\": \"number\",\n        \"std\": 0.11903539872107273,\n        \"min\": 0.7486292791814098,\n        \"max\": 1.0337330246903025,\n        \"num_unique_values\": 5,\n        \"samples\": [\n          0.9949541868634608,\n          0.7486292791814098,\n          1.0330978198014087\n        ],\n        \"semantic_type\": \"\",\n        \"description\": \"\"\n      }\n    }\n  ]\n}"
            }
          },
          "metadata": {}
        }
      ]
    },
    {
      "cell_type": "markdown",
      "source": [
        "Make 1D and 2D histograms to get an idea of the features in the data."
      ],
      "metadata": {
        "id": "tMpdFXNrsygN"
      }
    },
    {
      "cell_type": "code",
      "source": [],
      "metadata": {
        "id": "XbcldPApx6XJ"
      },
      "execution_count": null,
      "outputs": []
    },
    {
      "cell_type": "markdown",
      "source": [
        "Transform the histograms in Free Energy plots at ambient temperature"
      ],
      "metadata": {
        "id": "0mefLZxRwe7f"
      }
    },
    {
      "cell_type": "code",
      "source": [],
      "metadata": {
        "id": "HZDu7U82x3Nm"
      },
      "execution_count": null,
      "outputs": []
    },
    {
      "cell_type": "markdown",
      "source": [
        "Define states in the data and calculate their free energy difference and their relative populations"
      ],
      "metadata": {
        "id": "E-WcE_T2wpnz"
      }
    },
    {
      "cell_type": "code",
      "source": [],
      "metadata": {
        "id": "6JeR3pU4xkTg"
      },
      "execution_count": null,
      "outputs": []
    }
  ]
}