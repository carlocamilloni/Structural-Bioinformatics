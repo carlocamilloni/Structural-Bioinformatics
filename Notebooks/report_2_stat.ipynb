{
  "nbformat": 4,
  "nbformat_minor": 0,
  "metadata": {
    "colab": {
      "name": "report_2_stat.ipynb",
      "provenance": [],
      "collapsed_sections": [
        "UFymope2e12l",
        "15uaj6r3iMiS",
        "1TgGQL3K2RRE",
        "xpQtmCkOpq2_",
        "dPnY__n_n98v",
        "LW6uLL-Zn98w",
        "HoD4UmzRn98y",
        "iG0e--lNvLBQ",
        "Ge0mpLr0HI3o",
        "KjY0f0PZFPrQ",
        "_Twcsx45vjn1",
        "TYTtnqKykHoh",
        "mJ5N9k2Uh-Km",
        "Sngj5A18lXkc",
        "PuRyHnXVh-L1",
        "avMpCAihh-L1",
        "yDojx1I6h-L1",
        "Vx58xIUch-L2",
        "Bw7U08o5h-L2",
        "wCeZpa40h-L2",
        "O8pcyPz1h-L2",
        "4chLU4Uclr-F",
        "BDdkXICKh-LY",
        "JNQV86LYh-Kz",
        "sPInh2E_h-LB",
        "9SNVANvoh-LF",
        "00AvEQZch-LK",
        "XbKvjZF5h-LN",
        "zaOIoAzfh-LU",
        "kRcCCmnbh-LW",
        "AMRn-yH-h-LY",
        "O4h2Ne2th-LZ",
        "tybiSZtlh-Lc",
        "LW8dk0jqh-Lk",
        "H7QoSWk-h-Lf",
        "A-E1DJY9h-Kb"
      ],
      "include_colab_link": true
    },
    "kernelspec": {
      "name": "python3",
      "display_name": "Python 3"
    }
  },
  "cells": [
    {
      "cell_type": "markdown",
      "metadata": {
        "id": "view-in-github",
        "colab_type": "text"
      },
      "source": [
        "<a href=\"https://colab.research.google.com/github/carlocamilloni/Structural-Bioinformatics/blob/main/Notebooks/report_2_stat.ipynb\" target=\"_parent\"><img src=\"https://colab.research.google.com/assets/colab-badge.svg\" alt=\"Open In Colab\"/></a>"
      ]
    },
    {
      "cell_type": "markdown",
      "source": [
        "Start by saving a copy of this **notebook** in your Google Drive."
      ],
      "metadata": {
        "id": "yOCFmnMif5Z0"
      }
    },
    {
      "cell_type": "markdown",
      "source": [
        "# Basic Statistical Analysis\n",
        "---\n",
        "Your name"
      ],
      "metadata": {
        "id": "bcdt0KR_hxfP"
      }
    },
    {
      "cell_type": "code",
      "source": [
        "from datetime import date\n",
        "\n",
        "today = date.today()\n",
        "print(today)"
      ],
      "metadata": {
        "id": "psDToPFp0adc"
      },
      "execution_count": null,
      "outputs": []
    },
    {
      "cell_type": "markdown",
      "source": [
        "**Table 1.** Report the average, standard deviation and standard error of the mean for the throwing of 10, 100, 1000, and 10000 dice."
      ],
      "metadata": {
        "id": "3BUyeFTbdrzd"
      }
    },
    {
      "cell_type": "markdown",
      "source": [
        "*Remember that the number of digits to be reported should be consistent with the standard error, and that as a rule of thumb you should use no more than two non-zero digits for the error (e.g., 0.000125040 is an error of 0.00012 and consequently the other numbers should be reported for no more than 6 digits)*"
      ],
      "metadata": {
        "id": "9TaCT2VAenaI"
      }
    },
    {
      "cell_type": "markdown",
      "source": [
        "throws | average | std. dev. | std. err.\n",
        "--- | --- | --- | ---\n",
        "10 | | | |\n",
        "100 | | | |\n",
        "1000 | | | |\n",
        "10000 | | | |"
      ],
      "metadata": {
        "id": "exdwNlO7epHh"
      }
    },
    {
      "cell_type": "markdown",
      "source": [
        "**Figure 1.** Nine histograms showing the distribution of the average over different number of throwings (10, 100, 1000) and different number of trials (10, 100, 1000)."
      ],
      "metadata": {
        "id": "AGU9l9CofOuy"
      }
    },
    {
      "cell_type": "markdown",
      "source": [
        "*To show the histogram you can copy here the code from the instruction notebook or save them as images and add them here.*"
      ],
      "metadata": {
        "id": "d_SF19Hef3B0"
      }
    },
    {
      "cell_type": "code",
      "source": [
        "import numpy as np\n",
        "rng = np.random.Generator(np.random.PCG64())\n",
        "rng = np.random.default_rng()\n",
        "# what often happen in an experiment is that we observe a number that is already an average quantity\n",
        "# for example we can consider an experiment where multiple copies (10) of the same protein give a fluorescent signal\n",
        "# between 1 and 6 ;-) and in our setting\n",
        "# this set how many time we throw  a die (how many molecules we have in the sample) to get an average quantity\n",
        "num_throw=10\n",
        "num_rep=10\n",
        "# here we take the average for num_throw rolls of a 6 faced die and we store the average in adata that is gonna\n",
        "# be a list of numbers. So this can be seen and the number of replicated experiments\n",
        "adata_10_10 = np.array([np.average(rng.integers(low=1, high=7, size=num_throw))])\n",
        "# this is a cycle from 0 to num_rep-1 where an additional average is calculated and added in our dataset\n",
        "for i in range(0,num_rep-1):\n",
        "  adata_10_10 = np.append(adata_10_10, np.array([np.average(rng.integers(low=1, high=7, size=num_throw))]), axis=0)\n",
        "\n",
        "counts_10_10, bin_10_10=np.histogram(adata_10_10, bins='auto')"
      ],
      "metadata": {
        "id": "39WBmcuouOJP"
      },
      "execution_count": null,
      "outputs": []
    },
    {
      "cell_type": "code",
      "source": [
        "import matplotlib.pyplot as plt\n",
        "import numpy as np\n",
        "# this sets a layout of 3x3 plots\n",
        "fig, axs = plt.subplots(3, 3)\n",
        "# each plot is defined by its coordinates (axs[0,0], axs[0,1], etc.)\n",
        "axs[0, 0].hist(bin_10_10[:-1], bin_10_10, weights=counts_10_10, align='mid', rwidth=0.9)"
      ],
      "metadata": {
        "id": "l8dgog9Ysxj2"
      },
      "execution_count": null,
      "outputs": []
    },
    {
      "cell_type": "markdown",
      "source": [
        "Briefly explain what you see from the histograms:"
      ],
      "metadata": {
        "id": "WRrtKPesgVfG"
      }
    },
    {
      "cell_type": "markdown",
      "source": [
        "## Analyze a 2D dataset"
      ],
      "metadata": {
        "id": "yg73d4I7-I-e"
      }
    },
    {
      "cell_type": "markdown",
      "source": [
        "In the following you should try to analyze a 2D dataset, first of all you need to download it"
      ],
      "metadata": {
        "id": "WoBJrY65-OBK"
      }
    },
    {
      "cell_type": "code",
      "source": [
        "!wget https://raw.githubusercontent.com/carlocamilloni/Structural-Bioinformatics/main/Data/stats/helix_rg.dat"
      ],
      "metadata": {
        "id": "KAvRTbD1gkl4"
      },
      "execution_count": null,
      "outputs": []
    },
    {
      "cell_type": "markdown",
      "source": [
        "Then you need to read the file:"
      ],
      "metadata": {
        "id": "GKnYZ7MP-VP8"
      }
    },
    {
      "cell_type": "code",
      "source": [
        "import numpy as np\n",
        "data2d = np.loadtxt(\"helix_rg.dat\", dtype=float)"
      ],
      "metadata": {
        "id": "_mm8jqR598u9"
      },
      "execution_count": null,
      "outputs": []
    },
    {
      "cell_type": "code",
      "source": [
        "#the data are read as pairs of numbers\n",
        "print(data2d)"
      ],
      "metadata": {
        "id": "-ZzbgPDZ_Try"
      },
      "execution_count": null,
      "outputs": []
    },
    {
      "cell_type": "code",
      "source": [
        "#Let's learn how to handle them:\n",
        "#this is the first pair\n",
        "print(data2d[0])\n",
        "#the second\n",
        "print(data2d[1])\n",
        "#...\n",
        "#the last\n",
        "print(data2d[-1])"
      ],
      "metadata": {
        "id": "iToPY-UR_ZA8"
      },
      "execution_count": null,
      "outputs": []
    },
    {
      "cell_type": "code",
      "source": [
        "#this is the first number from all pairs\n",
        "print(data2d[:,0])\n",
        "#the second\n",
        "print(data2d[:,1])\n",
        "#this is the first number from the first pair\n",
        "print(data2d[0,0])\n",
        "#this is the second number from the last pair\n",
        "print(data2d[-1,1])"
      ],
      "metadata": {
        "id": "3Vi4eXlE_mCG"
      },
      "execution_count": null,
      "outputs": []
    },
    {
      "cell_type": "code",
      "source": [
        "#these are the first three pairs\n",
        "print(data2d[0:3])"
      ],
      "metadata": {
        "id": "PVwATnDb_1_0"
      },
      "execution_count": null,
      "outputs": []
    },
    {
      "cell_type": "code",
      "source": [
        "#so to get all the x values:\n",
        "data_x=data2d[:,0]\n",
        "data_y=data2d[:,1]"
      ],
      "metadata": {
        "id": "cKeYeXRjAMSb"
      },
      "execution_count": null,
      "outputs": []
    },
    {
      "cell_type": "code",
      "source": [
        "#now you are ready to repeat the analysis you learnt before:"
      ],
      "metadata": {
        "id": "YQum-sw6AkUZ"
      },
      "execution_count": null,
      "outputs": []
    },
    {
      "cell_type": "markdown",
      "source": [
        "Produce the 1D histograms of the data_x and data_y datasets and report about the average value, standard deviation, standard error of the dataset"
      ],
      "metadata": {
        "id": "kx3jJc1iA5q6"
      }
    },
    {
      "cell_type": "code",
      "source": [],
      "metadata": {
        "id": "-qOvgiFJBDoH"
      },
      "execution_count": null,
      "outputs": []
    },
    {
      "cell_type": "markdown",
      "source": [
        "Produce a 2D histogram of the data and report about the correlation of the dataset"
      ],
      "metadata": {
        "id": "DxqCgHlqApo_"
      }
    },
    {
      "cell_type": "code",
      "source": [],
      "metadata": {
        "id": "dwRIQrSbBJSd"
      },
      "execution_count": null,
      "outputs": []
    },
    {
      "cell_type": "markdown",
      "source": [
        "Can you identify two macrostates in this dataset? Calculate their relative probability"
      ],
      "metadata": {
        "id": "BePpuRbUBMMm"
      }
    },
    {
      "cell_type": "code",
      "source": [],
      "metadata": {
        "id": "PUfVHh-FBT2A"
      },
      "execution_count": null,
      "outputs": []
    },
    {
      "cell_type": "markdown",
      "source": [
        "Can you identify two macrostates in this dataset? Calculate their free-energy difference (look at the slides for the definitions)"
      ],
      "metadata": {
        "id": "Xcb6x9A6Bcit"
      }
    },
    {
      "cell_type": "code",
      "source": [],
      "metadata": {
        "id": "-0r0e4OpBhs7"
      },
      "execution_count": null,
      "outputs": []
    }
  ]
}