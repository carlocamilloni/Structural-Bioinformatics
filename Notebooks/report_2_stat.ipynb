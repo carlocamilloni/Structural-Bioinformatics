{
  "nbformat": 4,
  "nbformat_minor": 0,
  "metadata": {
    "colab": {
      "name": "report_2_stat.ipynb",
      "provenance": [],
      "collapsed_sections": [
        "UFymope2e12l",
        "15uaj6r3iMiS",
        "1TgGQL3K2RRE",
        "xpQtmCkOpq2_",
        "dPnY__n_n98v",
        "LW6uLL-Zn98w",
        "HoD4UmzRn98y",
        "iG0e--lNvLBQ",
        "Ge0mpLr0HI3o",
        "KjY0f0PZFPrQ",
        "_Twcsx45vjn1",
        "TYTtnqKykHoh",
        "mJ5N9k2Uh-Km",
        "Sngj5A18lXkc",
        "PuRyHnXVh-L1",
        "avMpCAihh-L1",
        "yDojx1I6h-L1",
        "Vx58xIUch-L2",
        "Bw7U08o5h-L2",
        "wCeZpa40h-L2",
        "O8pcyPz1h-L2",
        "4chLU4Uclr-F",
        "BDdkXICKh-LY",
        "JNQV86LYh-Kz",
        "sPInh2E_h-LB",
        "9SNVANvoh-LF",
        "00AvEQZch-LK",
        "XbKvjZF5h-LN",
        "zaOIoAzfh-LU",
        "kRcCCmnbh-LW",
        "AMRn-yH-h-LY",
        "O4h2Ne2th-LZ",
        "tybiSZtlh-Lc",
        "LW8dk0jqh-Lk",
        "H7QoSWk-h-Lf",
        "A-E1DJY9h-Kb"
      ],
      "include_colab_link": true
    },
    "kernelspec": {
      "name": "python3",
      "display_name": "Python 3"
    }
  },
  "cells": [
    {
      "cell_type": "markdown",
      "metadata": {
        "id": "view-in-github",
        "colab_type": "text"
      },
      "source": [
        "<a href=\"https://colab.research.google.com/github/carlocamilloni/Structural-Bioinformatics/blob/main/Notebooks/report_2_stat.ipynb\" target=\"_parent\"><img src=\"https://colab.research.google.com/assets/colab-badge.svg\" alt=\"Open In Colab\"/></a>"
      ]
    },
    {
      "cell_type": "markdown",
      "source": [
        "Start by saving a copy of this **notebook** in your Google Drive."
      ],
      "metadata": {
        "id": "yOCFmnMif5Z0"
      }
    },
    {
      "cell_type": "markdown",
      "source": [
        "# Sampling Distributions\n",
        "\n",
        "\n",
        "---\n",
        "Your name"
      ],
      "metadata": {
        "id": "bcdt0KR_hxfP"
      }
    },
    {
      "cell_type": "code",
      "source": [
        "from datetime import date\n",
        "\n",
        "today = date.today()\n",
        "print(today)"
      ],
      "metadata": {
        "id": "psDToPFp0adc"
      },
      "execution_count": null,
      "outputs": []
    },
    {
      "cell_type": "markdown",
      "source": [
        "## A. Sampling from a uniform discrete distribution"
      ],
      "metadata": {
        "id": "4UGu2GKKvjCO"
      }
    },
    {
      "cell_type": "markdown",
      "source": [
        "**Exercise A1**: for M=2000 trials try to generate N=2000 random integer numbers between 1 and 20 and calculate their average and standard deviation. Plot one representative histogram, the histogram of the average and calculate its standard deviation."
      ],
      "metadata": {
        "id": "jJKi5DaUkkcV"
      }
    },
    {
      "cell_type": "markdown",
      "source": [
        "**Exercise A2**: Calculate and plot the average and the standard deviation of the average for N integer numbers between 1 and 20 by keeping M=20 fixed and increasing the number N between 1 and 2000."
      ],
      "metadata": {
        "id": "8wm6GwcAu2Zy"
      }
    },
    {
      "cell_type": "code",
      "source": [],
      "metadata": {
        "id": "U1JYaOiHUS5N"
      },
      "execution_count": null,
      "outputs": []
    },
    {
      "cell_type": "markdown",
      "source": [
        "**Exercise A3**: Calculate and plot the average and the standard deviation of the average for N integer numbers between 1 and 20 by keeping N=20 fixed and increasing the number of trials M between 1 and 2000."
      ],
      "metadata": {
        "id": "dvFhasRjvKdp"
      }
    },
    {
      "cell_type": "code",
      "source": [],
      "metadata": {
        "id": "zTYsgMfhUUOV"
      },
      "execution_count": null,
      "outputs": []
    },
    {
      "cell_type": "markdown",
      "source": [
        "`What do you observe?`"
      ],
      "metadata": {
        "id": "WRrtKPesgVfG"
      }
    },
    {
      "cell_type": "markdown",
      "source": [],
      "metadata": {
        "id": "ZE24ueXvZChl"
      }
    },
    {
      "cell_type": "markdown",
      "source": [
        "## B. Sampling from a Gaussian distribution"
      ],
      "metadata": {
        "id": "YyplS-7qGnp8"
      }
    },
    {
      "cell_type": "markdown",
      "source": [
        "**Exercise B1**: for M=2000 trials try to generate N=2000 random numbers from a Gaussian centered in 10.5 with a standard deviation of 5.7663 and calculate their average and standard deviation. Plot one representative histogram, the histogram of the average and calculate its standard deviation."
      ],
      "metadata": {
        "id": "Tza7Xp_xw2O9"
      }
    },
    {
      "cell_type": "code",
      "source": [],
      "metadata": {
        "id": "ETc27t6CUnJz"
      },
      "execution_count": null,
      "outputs": []
    },
    {
      "cell_type": "markdown",
      "source": [
        "**Exercise B2**: Calculate and plot the average and the standard deviation of the average for N real numbers from a Gaussian centered in 10.5 with a standard deviation of 5.7663 by keeping M=20 fixed and increasing the number N between 1 and 2000."
      ],
      "metadata": {
        "id": "46b-KEEWP9Ig"
      }
    },
    {
      "cell_type": "code",
      "source": [],
      "metadata": {
        "id": "cY8PsNCaUpHa"
      },
      "execution_count": null,
      "outputs": []
    },
    {
      "cell_type": "markdown",
      "source": [
        "**Exercise B3**: Calculate and plot the average and the standard deviation of the average for N real numbers from a Gaussian centered in 10.5 with a standard deviation of 5.7663 by keeping N=20 fixed and increasing the number of trials M between 1 and 2000."
      ],
      "metadata": {
        "id": "1o9RkgXdRxGq"
      }
    },
    {
      "cell_type": "code",
      "source": [],
      "metadata": {
        "id": "PjdCAnvyUq5Z"
      },
      "execution_count": null,
      "outputs": []
    },
    {
      "cell_type": "markdown",
      "source": [
        "`What do you observe?`"
      ],
      "metadata": {
        "id": "5zaJkbAzZGBR"
      }
    },
    {
      "cell_type": "markdown",
      "source": [],
      "metadata": {
        "id": "wPeMS0rGZKG0"
      }
    },
    {
      "cell_type": "markdown",
      "source": [
        "## C. Sampling from a multimodal distribution"
      ],
      "metadata": {
        "id": "F22MZ2R9UBhe"
      }
    },
    {
      "cell_type": "markdown",
      "source": [
        "**Exercise C1**: for M=2000 trials try to generate N=2000 random numbers from a distribution made of one Gaussian centered in 4.8 with a standard deviation of 1 and another Gaussian centered in 16.2 with a standard deviation of 1 and calculate their average and standard deviation. Plot one representative histogram, the histogram of the average and calculate its standard deviation."
      ],
      "metadata": {
        "id": "Z5FTfs6Nxj7Q"
      }
    },
    {
      "cell_type": "code",
      "source": [],
      "metadata": {
        "id": "mfpT266TyVOk"
      },
      "execution_count": null,
      "outputs": []
    },
    {
      "cell_type": "markdown",
      "source": [
        "**Exercise C2**: Calculate and plot the average and the standard deviation of the average for N real numbers from a distribution made of one Gaussian centered in 4.8 with a standard deviation of 1 and another Gaussian centered in 16.2 with a standard deviation of 1 by keeping M=20 fixed and increasing the number N between 1 and 2000."
      ],
      "metadata": {
        "id": "5Xqwf9cFz4LY"
      }
    },
    {
      "cell_type": "code",
      "source": [],
      "metadata": {
        "id": "AMMgtkHMYwPH"
      },
      "execution_count": null,
      "outputs": []
    },
    {
      "cell_type": "markdown",
      "source": [
        "**Exercise C3**: Calculate and plot the average and the standard deviation of the average for N real numbers from a distribution made of one Gaussian centered in 4.8 with a standard deviation of 1 and another Gaussian centered in 16.2 with a standard deviation of 1 by keeping N=20 fixed and increasing the number of trials M between 1 and 2000."
      ],
      "metadata": {
        "id": "SJhP1qwKyXnr"
      }
    },
    {
      "cell_type": "code",
      "source": [],
      "metadata": {
        "id": "CJnH9_YCY9qc"
      },
      "execution_count": null,
      "outputs": []
    },
    {
      "cell_type": "markdown",
      "source": [
        "`What do you observe?`"
      ],
      "metadata": {
        "id": "g7JnLIA8Y-K7"
      }
    },
    {
      "cell_type": "markdown",
      "source": [],
      "metadata": {
        "id": "8fhUWITQZPBI"
      }
    }
  ]
}