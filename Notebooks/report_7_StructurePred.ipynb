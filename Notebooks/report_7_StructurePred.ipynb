{
  "nbformat": 4,
  "nbformat_minor": 0,
  "metadata": {
    "colab": {
      "name": "report_7_StructurePred.ipynb",
      "provenance": [],
      "mount_file_id": "1VcO2kCOjUBrF6i37C0C1tTlDv7lYIN99",
      "authorship_tag": "ABX9TyMKMtEvH+F79Vr1VzhGzMJf",
      "include_colab_link": true
    },
    "kernelspec": {
      "name": "python3",
      "display_name": "Python 3"
    },
    "language_info": {
      "name": "python"
    }
  },
  "cells": [
    {
      "cell_type": "markdown",
      "metadata": {
        "id": "view-in-github",
        "colab_type": "text"
      },
      "source": [
        "<a href=\"https://colab.research.google.com/github/carlocamilloni/Structural-Bioinformatics/blob/main/Notebooks/report_7_StructurePred.ipynb\" target=\"_parent\"><img src=\"https://colab.research.google.com/assets/colab-badge.svg\" alt=\"Open In Colab\"/></a>"
      ]
    },
    {
      "cell_type": "markdown",
      "source": [
        "# REPORT: Protein Structure Prediction"
      ],
      "metadata": {
        "id": "8igaJRlJUlfF"
      }
    },
    {
      "cell_type": "markdown",
      "source": [
        "your name"
      ],
      "metadata": {
        "id": "3mA7dcAEUYeR"
      }
    },
    {
      "cell_type": "code",
      "source": [
        "from datetime import date\n",
        "\n",
        "today = date.today()\n",
        "print(today)"
      ],
      "metadata": {
        "id": "l6etJm6UUUmO"
      },
      "execution_count": null,
      "outputs": []
    },
    {
      "cell_type": "markdown",
      "source": [
        "## Primary Structure"
      ],
      "metadata": {
        "id": "Lj5C6kerUrp6"
      }
    },
    {
      "cell_type": "markdown",
      "source": [
        "Describe here what you know about your protein and show your sequence"
      ],
      "metadata": {
        "id": "HqtYmorqUuCx"
      }
    },
    {
      "cell_type": "markdown",
      "source": [
        "..."
      ],
      "metadata": {
        "id": "5E8253U-U5Mh"
      }
    },
    {
      "cell_type": "markdown",
      "source": [
        "## Secondary Structure"
      ],
      "metadata": {
        "id": "opdEJ-fFU8sP"
      }
    },
    {
      "cell_type": "markdown",
      "source": [
        "Add the plot about the secondary struture prediction and briefly describe it"
      ],
      "metadata": {
        "id": "ISO5oddNU-7O"
      }
    },
    {
      "cell_type": "markdown",
      "source": [],
      "metadata": {
        "id": "lZV7jM3ngmR3"
      }
    },
    {
      "cell_type": "markdown",
      "source": [
        "## Homology Modelling"
      ],
      "metadata": {
        "id": "tPjOGztzVEnA"
      }
    },
    {
      "cell_type": "markdown",
      "source": [
        "Summarise the results you obtain by SwissModel for your protein. Did you find homologous sequence with known structure? Comment about coverage and similarity."
      ],
      "metadata": {
        "id": "G2fda2tN8Pfj"
      }
    },
    {
      "cell_type": "markdown",
      "source": [
        "If you generate a structure, prepare a visualisation to present it:"
      ],
      "metadata": {
        "id": "-ZZWS22_8hxf"
      }
    },
    {
      "cell_type": "markdown",
      "source": [],
      "metadata": {
        "id": "af_jcbz78mdP"
      }
    },
    {
      "cell_type": "markdown",
      "source": [
        "## AlphaFold2"
      ],
      "metadata": {
        "id": "bTHch58a8G7z"
      }
    },
    {
      "cell_type": "markdown",
      "source": [
        "Produce a figure of the best structure, a figure about the calculated RMSD, and include also the AF2 figures that are relevant to evaluate the quality of the structure prediction procedure."
      ],
      "metadata": {
        "id": "LI3ZOofvVKn2"
      }
    },
    {
      "cell_type": "markdown",
      "source": [],
      "metadata": {
        "id": "XVtlfinX8osh"
      }
    },
    {
      "cell_type": "markdown",
      "source": [
        "## AF3"
      ],
      "metadata": {
        "id": "qmA_w44f8K0O"
      }
    },
    {
      "cell_type": "markdown",
      "source": [
        "Produce a figure showing the structure resulting from AF3 and comment about differences observed with respect to the structures obtained from AF2 and SwissModel"
      ],
      "metadata": {
        "id": "ClKXaq978OiJ"
      }
    },
    {
      "cell_type": "markdown",
      "source": [],
      "metadata": {
        "id": "UUuPIty884b_"
      }
    },
    {
      "cell_type": "markdown",
      "source": [
        "## FoldSeek"
      ],
      "metadata": {
        "id": "7v0RMpSN8Mff"
      }
    },
    {
      "cell_type": "markdown",
      "source": [
        "Report the information you found using FoldSeek"
      ],
      "metadata": {
        "id": "zufmD1fZgnQH"
      }
    },
    {
      "cell_type": "code",
      "source": [],
      "metadata": {
        "id": "c-NapbUn893j"
      },
      "execution_count": null,
      "outputs": []
    }
  ]
}