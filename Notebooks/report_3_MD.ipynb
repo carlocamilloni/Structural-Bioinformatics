{
  "nbformat": 4,
  "nbformat_minor": 0,
  "metadata": {
    "colab": {
      "provenance": [],
      "collapsed_sections": [
        "V89XNV04n0e8",
        "cKKAau5tn60c",
        "qIsKpmjyptpV"
      ],
      "authorship_tag": "ABX9TyPAGgT8v8EHhKKNsHuvjAsR",
      "include_colab_link": true
    },
    "kernelspec": {
      "name": "python3",
      "display_name": "Python 3"
    },
    "language_info": {
      "name": "python"
    }
  },
  "cells": [
    {
      "cell_type": "markdown",
      "metadata": {
        "id": "view-in-github",
        "colab_type": "text"
      },
      "source": [
        "<a href=\"https://colab.research.google.com/github/carlocamilloni/Structural-Bioinformatics/blob/main/Notebooks/report_3_MD.ipynb\" target=\"_parent\"><img src=\"https://colab.research.google.com/assets/colab-badge.svg\" alt=\"Open In Colab\"/></a>"
      ]
    },
    {
      "cell_type": "markdown",
      "source": [
        "# REPORT: Molecular Dynamics simulation with GROMACS"
      ],
      "metadata": {
        "id": "aqZ8keDNLwKD"
      }
    },
    {
      "cell_type": "markdown",
      "source": [
        "First save the notebook, in your google drive."
      ],
      "metadata": {
        "id": "9Gupoj_PmEAv"
      }
    },
    {
      "cell_type": "markdown",
      "source": [
        "# Molecular Dynamics Simulations"
      ],
      "metadata": {
        "id": "VH9e7LGCmQ34"
      }
    },
    {
      "cell_type": "markdown",
      "source": [
        "Your Name"
      ],
      "metadata": {
        "id": "nnJo1yqJmT0s"
      }
    },
    {
      "cell_type": "code",
      "source": [
        "from datetime import date\n",
        "\n",
        "today = date.today()\n",
        "print(today)"
      ],
      "metadata": {
        "id": "EDr0qhRjmVDF"
      },
      "execution_count": null,
      "outputs": []
    },
    {
      "cell_type": "code",
      "source": [
        "# mount google drive\n",
        "from google.colab import drive\n",
        "drive.mount('/content/drive')\n",
        "%cd /content/drive/MyDrive"
      ],
      "metadata": {
        "id": "hmVZf0JdNS6I"
      },
      "execution_count": null,
      "outputs": []
    },
    {
      "cell_type": "markdown",
      "source": [
        "##Water"
      ],
      "metadata": {
        "id": "h_fXrKyUm6sn"
      }
    },
    {
      "cell_type": "code",
      "source": [
        "# set the path to your local task folder\n",
        "local_path='/content/drive/MyDrive/Structural_Bioinformatics/Task3'"
      ],
      "metadata": {
        "id": "TC5OoX9BKpNU"
      },
      "execution_count": null,
      "outputs": []
    },
    {
      "cell_type": "code",
      "source": [
        "%cd {local_path}/water"
      ],
      "metadata": {
        "id": "xdNC4-jkm7ng"
      },
      "execution_count": null,
      "outputs": []
    },
    {
      "cell_type": "markdown",
      "source": [
        "**Figure 1**: Describe the system, Add here the details of the simulation you performed:\n",
        "\n",
        "\n",
        "*   Force Field and Water Model\n",
        "*   Box Size\n",
        "*   Number of molecules\n",
        "*   Temperature\n",
        "*   Length of the simulation"
      ],
      "metadata": {
        "id": "nNC6JnM7weeU"
      }
    },
    {
      "cell_type": "code",
      "source": [
        "#add a figure of the system"
      ],
      "metadata": {
        "id": "uC1HEw53wqbG"
      },
      "execution_count": null,
      "outputs": []
    },
    {
      "cell_type": "markdown",
      "source": [
        "**Table 1.** Properties of water as calculated from your simulation"
      ],
      "metadata": {
        "id": "LvwhOXddnogo"
      }
    },
    {
      "cell_type": "markdown",
      "source": [
        "report about the average density, hentalpy of vaporization, and specific heat (see next on hints on how to calculate them)"
      ],
      "metadata": {
        "id": "29fNIk_WGwxU"
      }
    },
    {
      "cell_type": "code",
      "source": [
        "from numpy.ma.extras import average\n",
        "#Try to calculate the enthaly of vaporisation and the specific heat using the equations in the PDF\n",
        "#You have all the needed data above:\n",
        "# y1 includes all the values for the potential energy\n",
        "# y3 those for the volume\n",
        "# y4 those for the enthalpy\n",
        "# you need to calculate properties like average and standard deviation and use the number of molecules in your system\n",
        "# the pressure is 10^5 N/m^2\n",
        "import numpy as np\n",
        "\n",
        "#for example for the enthalpy of vaporisation you can do:\n",
        "mean_U = average(y1)\n",
        "mean_Usquare = average(np.array(y1)**2)\n",
        "mean_V = average(y3)*pow(10,-27) # to transform it to m^3\n",
        "# number of molecules in the simulation\n",
        "#nmol =\n",
        "# gas constant (in kJ/mol)\n",
        "R=8.314/1000\n",
        "# temperature:\n",
        "#T=\n",
        "# set avogadro number\n",
        "#NA=\n",
        "# set pressure\n",
        "p=100000\n",
        "# formula for the enthalpy of vaporisation (see instruction notebook)\n",
        "#hv =\n",
        "print(\"The enthalpy of vaporisation is:\", hv, \"kJ/mol\")\n"
      ],
      "metadata": {
        "id": "DDaO10IPxQP7"
      },
      "execution_count": null,
      "outputs": []
    },
    {
      "cell_type": "code",
      "source": [
        "#try to calculate the heat capacity\n",
        "#here you need to use enthalpy that is y4\n",
        "mean_H = average(y4)\n",
        "mean_Hsquare = average(np.array(y4)**2)\n",
        "T=293\n",
        "nmol=216\n",
        "kb=0.0083\n",
        "# write the correct formula below and uncomment\n",
        "#cp=\n",
        "print(\"The heat capacity is:\", cp*1000, \"J/mol/K\")"
      ],
      "metadata": {
        "id": "5_rMgA510O7v"
      },
      "execution_count": null,
      "outputs": []
    },
    {
      "cell_type": "markdown",
      "source": [
        "**Figure 3.** Radial Distribution Function at 273K, 293K and 313K. Describe briefly what is changing."
      ],
      "metadata": {
        "id": "vOt_uNdcsmOe"
      }
    },
    {
      "cell_type": "markdown",
      "source": [
        "To do this you need to repeat the simulations of water modifying the temperature in the file `npt-water.mdp`. It is enough to double click to edit it and then modify the fields `ref_t` and `gen_temp`. Be carefull to save files using different names."
      ],
      "metadata": {
        "id": "0on3SqFVIbYu"
      }
    },
    {
      "cell_type": "code",
      "source": [
        "import matplotlib.pyplot as plt\n",
        "import csv\n",
        "\n",
        "x=[]\n",
        "y273=[]\n",
        "y293=[]\n",
        "y313=[]\n",
        "\n",
        "with open('rdf_293.xvg', 'r') as file:\n",
        "    for row in file:\n",
        "        if row.split()[0] == '#':\n",
        "          continue\n",
        "        if row.split()[0] == '@':\n",
        "          continue\n",
        "        if row.split()[0] == '@TYPE':\n",
        "          continue\n",
        "        x.append(float(row.split()[0]))\n",
        "        y1.append(float(row.split()[1]))\n",
        "\n",
        "# Initialise the subplot function using number of rows and columns\n",
        "figure, axis = plt.subplots()\n",
        "figure.set_size_inches(18.5, 10.5)\n",
        "\n",
        "axis.plot(x, y293)\n",
        "axis.set_ylabel(\"RDF\")\n",
        "axis.set_xlabel(\"Radius (nm)\")\n",
        "\n",
        "plt.show()"
      ],
      "metadata": {
        "id": "QpqqZT6BnnHD"
      },
      "execution_count": null,
      "outputs": []
    },
    {
      "cell_type": "markdown",
      "source": [
        "## Alanine Dipeptide"
      ],
      "metadata": {
        "id": "BQ65RsrNspzH"
      }
    },
    {
      "cell_type": "code",
      "source": [
        "%cd {local_path}/aladp"
      ],
      "metadata": {
        "id": "7wR2C_rOsrR1"
      },
      "execution_count": null,
      "outputs": []
    },
    {
      "cell_type": "markdown",
      "source": [
        "**Figure 4.** Describe the system and add here the details of the simulation you performed:\n",
        "\n",
        "\n",
        "*   Force Field\n",
        "*   Box Size\n",
        "*   Temperature\n",
        "*   Length of the simulation"
      ],
      "metadata": {
        "id": "SFIzQr9vsscW"
      }
    },
    {
      "cell_type": "code",
      "source": [
        "#Add here a figure of the system"
      ],
      "metadata": {
        "id": "Cv4SyfP4s4zk"
      },
      "execution_count": null,
      "outputs": []
    },
    {
      "cell_type": "markdown",
      "source": [
        "**Figure 5**: Ramachandran Plot"
      ],
      "metadata": {
        "id": "rPoCnFi07Rxi"
      }
    },
    {
      "cell_type": "code",
      "source": [
        "import matplotlib.pyplot as plt\n",
        "import csv\n",
        "\n",
        "x=[]\n",
        "y1=[]\n",
        "y2=[]\n",
        "\n",
        "with open('ramaPhiPsiALA2.xvg', 'r') as file:\n",
        "    for row in file:\n",
        "        if row.split()[0] == '#':\n",
        "          continue\n",
        "        if row.split()[0] == '@':\n",
        "          continue\n",
        "        if row.split()[0] == '@TYPE':\n",
        "          continue\n",
        "        x.append(float(row.split()[0]))\n",
        "        y1.append(float(row.split()[1]))\n",
        "\n",
        "plt.scatter(x,y1)\n",
        "\n",
        "plt.xlabel('')\n",
        "plt.ylabel('')\n",
        "\n",
        "plt.show()"
      ],
      "metadata": {
        "id": "daafvQ-qw77Q"
      },
      "execution_count": null,
      "outputs": []
    },
    {
      "cell_type": "code",
      "source": [
        "import matplotlib.pyplot as plt\n",
        "import csv\n",
        "\n",
        "angle=[]\n",
        "c_phi=[]\n",
        "c_psi=[]\n",
        "\n",
        "with open('histo-phiALA.xvg', 'r') as file:\n",
        "    for row in file:\n",
        "        if row.split()[0] == '#':\n",
        "          continue\n",
        "        if row.split()[0] == '@':\n",
        "          continue\n",
        "        if row.split()[0] == '&':\n",
        "          continue\n",
        "        if row.split()[0] == '@TYPE':\n",
        "          continue\n",
        "        angle.append(float(row.split()[0]))\n",
        "        c_phi.append(float(row.split()[1]))\n",
        "\n",
        "with open('histo-psiALA.xvg', 'r') as file:\n",
        "    for row in file:\n",
        "        if row.split()[0] == '#':\n",
        "          continue\n",
        "        if row.split()[0] == '@':\n",
        "          continue\n",
        "        if row.split()[0] == '&':\n",
        "          continue\n",
        "        if row.split()[0] == '@TYPE':\n",
        "          continue\n",
        "        c_psi.append(float(row.split()[1]))\n",
        "\n",
        "n_phi = np.array(c_phi)\n",
        "n_psi = np.array(c_psi)\n",
        "\n",
        "\n",
        "print(angle)\n",
        "print(n_phi)\n",
        "print(n_psi)\n",
        "#angle is the information about the binning of the histograms\n",
        "#n_phi is the normalised count of frames in the corresponding bin for the phi angle\n",
        "#n_psi is the normalised count of frames in the corresponding bin for the psi angle"
      ],
      "metadata": {
        "id": "oodyuZTj7WP1"
      },
      "execution_count": null,
      "outputs": []
    },
    {
      "cell_type": "code",
      "source": [
        "# Now how can you get Free Energy profiles from the above 1D histograms?\n",
        "# complete and uncomment the following lines\n",
        "# you can calculate the log of a list as np.log()\n",
        "kbT = 0.0083*293\n",
        "#f_phi =\n",
        "#f_psi ="
      ],
      "metadata": {
        "id": "cUq6Gvep7opF"
      },
      "execution_count": null,
      "outputs": []
    },
    {
      "cell_type": "markdown",
      "source": [
        "**Figure 6**: Free Energy as a function of the backbone dihedral angles"
      ],
      "metadata": {
        "id": "CX6lLdO89fvy"
      }
    },
    {
      "cell_type": "code",
      "source": [
        "figure, axis = plt.subplots(2)\n",
        "\n",
        "axis[0].plot(angle,f_phi)\n",
        "axis[0].set_xlabel(\"Phi\")\n",
        "axis[0].set_ylabel(\"Free Energy (kJ/mol)\")\n",
        "\n",
        "axis[1].plot(angle,f_psi)\n",
        "axis[1].set_xlabel(\"Psi\")\n",
        "axis[1].set_ylabel(\"Free Energy (kJ/mol)\")\n",
        "\n",
        "plt.show()"
      ],
      "metadata": {
        "id": "8r6HlKZV8hVW"
      },
      "execution_count": null,
      "outputs": []
    }
  ]
}