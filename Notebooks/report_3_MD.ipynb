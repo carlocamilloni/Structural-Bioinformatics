{
  "nbformat": 4,
  "nbformat_minor": 0,
  "metadata": {
    "colab": {
      "provenance": [],
      "collapsed_sections": [
        "V89XNV04n0e8",
        "cKKAau5tn60c",
        "qIsKpmjyptpV"
      ],
      "authorship_tag": "ABX9TyOM5CSiLc1RCRxIWhUJf6z/",
      "include_colab_link": true
    },
    "kernelspec": {
      "name": "python3",
      "display_name": "Python 3"
    },
    "language_info": {
      "name": "python"
    }
  },
  "cells": [
    {
      "cell_type": "markdown",
      "metadata": {
        "id": "view-in-github",
        "colab_type": "text"
      },
      "source": [
        "<a href=\"https://colab.research.google.com/github/carlocamilloni/Structural-Bioinformatics/blob/main/Notebooks/report_3_MD.ipynb\" target=\"_parent\"><img src=\"https://colab.research.google.com/assets/colab-badge.svg\" alt=\"Open In Colab\"/></a>"
      ]
    },
    {
      "cell_type": "markdown",
      "source": [
        "# REPORT: Molecular Dynamics simulation with GROMACS"
      ],
      "metadata": {
        "id": "aqZ8keDNLwKD"
      }
    },
    {
      "cell_type": "markdown",
      "source": [
        "First save the notebook, in your google drive."
      ],
      "metadata": {
        "id": "9Gupoj_PmEAv"
      }
    },
    {
      "cell_type": "markdown",
      "source": [
        "# Molecular Dynamics Simulations"
      ],
      "metadata": {
        "id": "VH9e7LGCmQ34"
      }
    },
    {
      "cell_type": "markdown",
      "source": [
        "Your Name"
      ],
      "metadata": {
        "id": "nnJo1yqJmT0s"
      }
    },
    {
      "cell_type": "code",
      "source": [
        "from datetime import date\n",
        "\n",
        "today = date.today()\n",
        "print(today)"
      ],
      "metadata": {
        "id": "EDr0qhRjmVDF"
      },
      "execution_count": null,
      "outputs": []
    },
    {
      "cell_type": "code",
      "source": [
        "# mount google drive\n",
        "from google.colab import drive\n",
        "drive.mount('/content/drive')\n",
        "%cd /content/drive/MyDrive"
      ],
      "metadata": {
        "id": "hmVZf0JdNS6I"
      },
      "execution_count": null,
      "outputs": []
    },
    {
      "cell_type": "markdown",
      "source": [
        "GROUP A:\n",
        "Use the instruction to compare the dynamics of human b2-microglobulin wildtype and a truncated variant where the first six aminoacids are missing. The reference structures can be downloaded from the PDB as:\n",
        "```\n",
        "https://files.rcsb.org/view/2XKS.pdb (wild-type)\n",
        "https://files.rcsb.org/view/2XKU.pdb (truncated)\n",
        "```\n",
        "\n",
        "Run the two simulations and from the analysis and the visualisation try to observe what could be the effect of the truncation."
      ],
      "metadata": {
        "id": "h_fXrKyUm6sn"
      }
    },
    {
      "cell_type": "markdown",
      "source": [
        "GROUP B: Use the instruction to compare the dynamics of human ubiquitin wildtype and a single point mutation that should stabilize a small conformational change. The reference structures can be downloaded from the PDB as:\n",
        "```\n",
        "https://files.rcsb.org/view/1UBQ.pdb (wild-type)\n",
        "https://files.rcsb.org/view/2RU6.pdb (Q41N)\n",
        "```\n",
        "Run the two simulations and from the analysis and the visualisation try to observe what could be the effect of the mutation."
      ],
      "metadata": {
        "id": "fsou-pcgknj7"
      }
    }
  ]
}