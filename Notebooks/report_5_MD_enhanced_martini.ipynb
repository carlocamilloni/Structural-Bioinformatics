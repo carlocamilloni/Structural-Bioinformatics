{
  "nbformat": 4,
  "nbformat_minor": 0,
  "metadata": {
    "colab": {
      "provenance": [],
      "collapsed_sections": [
        "f5iG-OO4HLGO",
        "ebIk8qfTKdgP",
        "6cQHTJPgMAK3"
      ],
      "mount_file_id": "1_XpgNm81GYaeu4I4W4k45-4l6TwHRxWb",
      "authorship_tag": "ABX9TyPUO7zI68C3jf0Up25eSebV",
      "include_colab_link": true
    },
    "kernelspec": {
      "name": "python3",
      "display_name": "Python 3"
    },
    "language_info": {
      "name": "python"
    }
  },
  "cells": [
    {
      "cell_type": "markdown",
      "metadata": {
        "id": "view-in-github",
        "colab_type": "text"
      },
      "source": [
        "<a href=\"https://colab.research.google.com/github/carlocamilloni/Structural-Bioinformatics/blob/main/Notebooks/report_5_MD_enhanced_martini.ipynb\" target=\"_parent\"><img src=\"https://colab.research.google.com/assets/colab-badge.svg\" alt=\"Open In Colab\"/></a>"
      ]
    },
    {
      "cell_type": "markdown",
      "source": [
        "#REPORT: Enhanced Sampling and Simplified Models in MD\n"
      ],
      "metadata": {
        "id": "RxKzfua7D-0i"
      }
    },
    {
      "cell_type": "markdown",
      "source": [
        "## Preliminary Operations"
      ],
      "metadata": {
        "id": "f5iG-OO4HLGO"
      }
    },
    {
      "cell_type": "code",
      "source": [
        "# mount google drive\n",
        "from google.colab import drive\n",
        "drive.mount('/content/drive')\n",
        "%cd /content/drive/MyDrive"
      ],
      "metadata": {
        "id": "cWWH33ZhDmQL"
      },
      "execution_count": null,
      "outputs": []
    },
    {
      "cell_type": "code",
      "source": [
        "# set the path to your local task folder\n",
        "local_path='/content/drive/MyDrive/Structural_Bioinformatics/Task5'\n",
        "%cd {local_path}"
      ],
      "metadata": {
        "id": "CemhtLzPIQLt"
      },
      "execution_count": null,
      "outputs": []
    },
    {
      "cell_type": "markdown",
      "source": [
        "your name"
      ],
      "metadata": {
        "id": "V2VMRlnuGsbD"
      }
    },
    {
      "cell_type": "code",
      "source": [
        "from datetime import date\n",
        "\n",
        "today = date.today()\n",
        "print(today)"
      ],
      "metadata": {
        "id": "5XOg1p1cFcqz"
      },
      "execution_count": null,
      "outputs": []
    },
    {
      "cell_type": "markdown",
      "source": [
        "#Metadynamics and simple models simulations"
      ],
      "metadata": {
        "id": "30j-ImU6GlrQ"
      }
    },
    {
      "cell_type": "markdown",
      "source": [
        "##Metadynamics on Alanine Dipeptide"
      ],
      "metadata": {
        "id": "8aBGy48SH1yq"
      }
    },
    {
      "cell_type": "code",
      "source": [
        "%cd {local_path}\n",
        "%cd MTD"
      ],
      "metadata": {
        "id": "hmvlDrf7H5--"
      },
      "execution_count": null,
      "outputs": []
    },
    {
      "cell_type": "code",
      "source": [
        "#add a figure of the system"
      ],
      "metadata": {
        "id": "Meuw1OESIcM5"
      },
      "execution_count": null,
      "outputs": []
    },
    {
      "cell_type": "markdown",
      "source": [
        "**Figure 1**: Describe the system, Add here the details of the simulation you performed:\n",
        "\n",
        "*   Force Field\n",
        "*   Box Size\n",
        "*   Temperature\n",
        "*   Length of the simulation\n",
        "*   Collective Variables used in MTD"
      ],
      "metadata": {
        "id": "9nVhESE6IGwQ"
      }
    },
    {
      "cell_type": "code",
      "source": [
        "import matplotlib.pyplot as plt\n",
        "import csv\n",
        "\n",
        "time_md=[]\n",
        "phi_md=[]\n",
        "psi_md=[]\n",
        "\n",
        "time_mtd=[]\n",
        "phi_mtd=[]\n",
        "psi_mtd=[]\n",
        "\n",
        "with open('COLVAR-CV.txt', 'r') as file:\n",
        "    for row in file:\n",
        "        if row.split()[0] == '#!':\n",
        "          continue\n",
        "        time_md.append(float(row.split()[0]))\n",
        "        phi_md.append(float(row.split()[1]))\n",
        "        psi_md.append(float(row.split()[2]))\n",
        "\n",
        "file.close()\n",
        "\n",
        "with open('COLVAR-MTD.txt', 'r') as file:\n",
        "    for row in file:\n",
        "        if row.split()[0] == '#!':\n",
        "          continue\n",
        "        time_mtd.append(float(row.split()[0]))\n",
        "        phi_mtd.append(float(row.split()[1]))\n",
        "        psi_mtd.append(float(row.split()[2]))\n",
        "\n",
        "file.close()\n",
        "\n",
        "# Initialise the subplot function using number of rows and columns\n",
        "figure, axis = plt.subplots(3,2)\n",
        "figure.set_size_inches(18.5, 16)\n",
        "\n",
        "axis[0,0].plot(time_md,phi_md,'.')\n",
        "axis[0,0].set_ylabel(\"PHI\")\n",
        "axis[0,0].set_xlabel(\"Time (ps)\")\n",
        "\n",
        "axis[0,1].plot(time_mtd,phi_mtd,'.')\n",
        "axis[0,1].set_ylabel(\"PHI\")\n",
        "axis[0,1].set_xlabel(\"Time (ps)\")\n",
        "\n",
        "axis[1,0].plot(time_md,psi_md,'.')\n",
        "axis[1,0].set_ylabel(\"PSI\")\n",
        "axis[1,0].set_xlabel(\"Time (ps)\")\n",
        "\n",
        "axis[1,1].plot(time_mtd,psi_mtd,'.')\n",
        "axis[1,1].set_ylabel(\"PSI\")\n",
        "axis[1,1].set_xlabel(\"Time (ps)\")\n",
        "\n",
        "axis[2,0].plot(phi_md,psi_md,'.')\n",
        "axis[2,0].set_ylabel(\"PSI\")\n",
        "axis[2,0].set_xlabel(\"PHI\")\n",
        "\n",
        "axis[2,1].plot(phi_mtd,psi_mtd,'.')\n",
        "axis[2,1].set_ylabel(\"PSI\")\n",
        "axis[2,1].set_xlabel(\"PHI\")\n",
        "\n",
        "plt.show()"
      ],
      "metadata": {
        "id": "Uk_EuWBDIYmR"
      },
      "execution_count": null,
      "outputs": []
    },
    {
      "cell_type": "markdown",
      "source": [
        "**Figure 2**: describe what is shown in the above panels (the four plots on the left are different from those on the right)"
      ],
      "metadata": {
        "id": "lGJOG38aKIDH"
      }
    },
    {
      "cell_type": "code",
      "source": [
        "import matplotlib.pyplot as plt\n",
        "import csv\n",
        "import numpy as np\n",
        "from scipy.interpolate import griddata  # Import griddata\n",
        "\n",
        "\n",
        "phi=[]\n",
        "psi=[]\n",
        "fes=[]\n",
        "\n",
        "with open('fes-2D.txt', 'r') as file:\n",
        "    for row in file:\n",
        "        if not row.strip():\n",
        "          continue\n",
        "        if row.split()[0] == '#!':\n",
        "          continue\n",
        "        phi.append(float(row.split()[0]))\n",
        "        psi.append(float(row.split()[1]))\n",
        "        fes.append(float(row.split()[2]))\n",
        "\n",
        "file.close()\n",
        "\n",
        "# Create grid for contour plot\n",
        "phi_grid = np.linspace(min(phi), max(phi), 100)\n",
        "psi_grid = np.linspace(min(psi), max(psi), 100)\n",
        "PHI, PSI = np.meshgrid(phi_grid, psi_grid)\n",
        "\n",
        "# Interpolate fes values onto the grid\n",
        "FES = griddata((phi, psi), fes, (PHI, PSI), method='cubic')\n",
        "\n",
        "# Create filled contour plot with colors\n",
        "fig, ax = plt.subplots(figsize=(18.5, 10.5))\n",
        "contourf = ax.contourf(PHI, PSI, FES, levels=20, cmap='viridis')  # Use contourf for filled contours\n",
        "\n",
        "# Add a colorbar\n",
        "cbar = fig.colorbar(contourf)  # Add colorbar to show color mapping\n",
        "cbar.set_label('Free Energy (kj/mol)')  # Label the colorbar\n",
        "\n",
        "# Add contour lines on top of filled contours for better visualization\n",
        "contour = ax.contour(PHI, PSI, FES, levels=20, colors='black', linewidths=0.5)  # Add contour lines\n",
        "ax.clabel(contour, inline=1, fontsize=8)  # Add contour labels\n",
        "\n",
        "# Set labels for the axes\n",
        "ax.set_xlabel(\"PHI\")\n",
        "ax.set_ylabel(\"PSI\")\n",
        "ax.set_title(\"Free Energy Isolines (kj/mol)\")\n",
        "\n",
        "plt.show()"
      ],
      "metadata": {
        "id": "CBlwxWPnxDdh"
      },
      "execution_count": null,
      "outputs": []
    },
    {
      "cell_type": "markdown",
      "source": [
        "**Figure 3**: Describe the Free Energy Surface resulting from the Metadynamics simulation and calculate the population of the beta, alpha and left-alpha regions (check the definitions and ask gemini if you need more help!)"
      ],
      "metadata": {
        "id": "7wBfILGmxuE0"
      }
    },
    {
      "cell_type": "code",
      "source": [
        "# how"
      ],
      "metadata": {
        "id": "QXyl7N2_x5x_"
      },
      "execution_count": null,
      "outputs": []
    },
    {
      "cell_type": "markdown",
      "source": [
        "##Martini simulation of a DPPC membrane"
      ],
      "metadata": {
        "id": "dVPrdT8lKZh-"
      }
    },
    {
      "cell_type": "code",
      "source": [
        "%cd {local_path}\n",
        "%cd martini"
      ],
      "metadata": {
        "id": "JCNN6iH8K92d"
      },
      "execution_count": null,
      "outputs": []
    },
    {
      "cell_type": "markdown",
      "source": [
        "Make a figure showing the system at different stage of the simulation:\n",
        "\n",
        "\n",
        "1.   The initial random disposition\n",
        "2.   The configuration after the first md\n",
        "3.   The configuration after the second md\n",
        "\n"
      ],
      "metadata": {
        "id": "m1YejNgbKq3Z"
      }
    },
    {
      "cell_type": "code",
      "source": [
        "#Figure"
      ],
      "metadata": {
        "id": "WxcktRF6J8h9"
      },
      "execution_count": null,
      "outputs": []
    },
    {
      "cell_type": "code",
      "source": [
        "#compare the area per lipid in the two simulations:\n",
        "import matplotlib.pyplot as plt\n",
        "import csv\n",
        "\n",
        "time_md=[]\n",
        "area_md=[]\n",
        "\n",
        "time_eq=[]\n",
        "area_eq=[]\n",
        "\n",
        "with open('box-x-md.xvg', 'r') as file:\n",
        "    for row in file:\n",
        "        if row.split()[0] == '#':\n",
        "          continue\n",
        "        if row.split()[0] == '@':\n",
        "          continue\n",
        "        if row.split()[0] == '@TYPE':\n",
        "          continue\n",
        "        time_md.append(float(row.split()[0]))\n",
        "        area_md.append(float(row.split()[1]))\n",
        "\n",
        "\n",
        "file.close()\n",
        "\n",
        "with open('box-x-eq.xvg', 'r') as file:\n",
        "    for row in file:\n",
        "        if row.split()[0] == '#':\n",
        "          continue\n",
        "        if row.split()[0] == '@':\n",
        "          continue\n",
        "        if row.split()[0] == '@TYPE':\n",
        "          continue\n",
        "        time_eq.append(float(row.split()[0]))\n",
        "        area_eq.append(float(row.split()[1]))\n",
        "\n",
        "\n",
        "file.close()\n",
        "\n",
        "# Initialise the subplot function using number of rows and columns\n",
        "figure, axis = plt.subplots(1,2)\n",
        "figure.set_size_inches(18.5, 10.5)\n",
        "\n",
        "axis[0].plot(time_md,area_md,'.')\n",
        "axis[0].set_ylabel(\"area per lipid (nm^2)\")\n",
        "axis[0].set_xlabel(\"Time (ps)\")\n",
        "\n",
        "axis[1].plot(time_eq,area_eq,'.')\n",
        "axis[1].set_ylabel(\"area per lipid (nm^2)\")\n",
        "axis[1].set_xlabel(\"Time (ps)\")\n",
        "\n",
        "plt.show()"
      ],
      "metadata": {
        "id": "Tkzi_jW4LDv0"
      },
      "execution_count": null,
      "outputs": []
    },
    {
      "cell_type": "markdown",
      "source": [
        "**Figure 2**: what is the different behavior showed in the two panels?"
      ],
      "metadata": {
        "id": "33X39tJAMQW7"
      }
    },
    {
      "cell_type": "markdown",
      "source": [
        "Have a look at the self-assembly process: can you recognize intermediate states, such as micelles, and do you see metastable structures such as a water pore (water spanning the membrane interior) and/or a lipid bridge (lipid tail(s) spanning the water layer)?"
      ],
      "metadata": {
        "id": "0vYrSi6yMiFS"
      }
    },
    {
      "cell_type": "code",
      "source": [
        "#Figure to show some special configuration you found looking at the self-assembly process"
      ],
      "metadata": {
        "id": "TR4ZmjdsMlgB"
      },
      "execution_count": null,
      "outputs": []
    },
    {
      "cell_type": "markdown",
      "source": [
        "**Figure 3:** describe the figure you added"
      ],
      "metadata": {
        "id": "SA3od1j3MkML"
      }
    },
    {
      "cell_type": "code",
      "source": [],
      "metadata": {
        "id": "rFIUtCS6Mwuf"
      },
      "execution_count": null,
      "outputs": []
    }
  ]
}