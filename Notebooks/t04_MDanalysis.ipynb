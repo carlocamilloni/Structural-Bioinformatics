{
  "nbformat": 4,
  "nbformat_minor": 0,
  "metadata": {
    "colab": {
      "provenance": [],
      "collapsed_sections": [
        "nlzla1gtl-wT"
      ],
      "include_colab_link": true
    },
    "kernelspec": {
      "display_name": "Python 3",
      "language": "python",
      "name": "python3"
    },
    "language_info": {
      "codemirror_mode": {
        "name": "ipython",
        "version": 3
      },
      "file_extension": ".py",
      "mimetype": "text/x-python",
      "name": "python",
      "nbconvert_exporter": "python",
      "pygments_lexer": "ipython3",
      "version": "3.7.7"
    }
  },
  "cells": [
    {
      "cell_type": "markdown",
      "metadata": {
        "id": "view-in-github",
        "colab_type": "text"
      },
      "source": [
        "<a href=\"https://colab.research.google.com/github/carlocamilloni/Structural-Bioinformatics/blob/main/Notebooks/t04_MDanalysis.ipynb\" target=\"_parent\"><img src=\"https://colab.research.google.com/assets/colab-badge.svg\" alt=\"Open In Colab\"/></a>"
      ]
    },
    {
      "cell_type": "markdown",
      "metadata": {
        "id": "zyYhjQHNLYE0"
      },
      "source": [
        "#Trajectory Analysis using MDanalysis"
      ]
    },
    {
      "cell_type": "markdown",
      "source": [
        "In this task you will analyze some already performed MD simulation so to learn the most common information that can be retrieved"
      ],
      "metadata": {
        "id": "Z_b3DIAEAzBw"
      }
    },
    {
      "cell_type": "markdown",
      "source": [
        "## Preliminary Setup"
      ],
      "metadata": {
        "id": "6Y1N42lmgp29"
      }
    },
    {
      "cell_type": "code",
      "source": [
        "!pip3 install nglview\n",
        "!pip3 install ipywidgets"
      ],
      "metadata": {
        "id": "Rtcj8muiUxj1"
      },
      "execution_count": null,
      "outputs": []
    },
    {
      "cell_type": "markdown",
      "source": [],
      "metadata": {
        "id": "XS_KqK0OVNi_"
      }
    },
    {
      "cell_type": "code",
      "source": [
        "# mount google drive\n",
        "from google.colab import drive\n",
        "drive.mount('/content/drive')"
      ],
      "metadata": {
        "id": "mwrhYp9WgxYc"
      },
      "execution_count": null,
      "outputs": []
    },
    {
      "cell_type": "markdown",
      "source": [
        "Make a new folder for this task using the menus on the left side: for example in /drive/MyDrive/Structural_Bioinformatics make a folder named Task4."
      ],
      "metadata": {
        "id": "MCXRIM_RArGe"
      }
    },
    {
      "cell_type": "code",
      "source": [
        "# set the path to your local task folder\n",
        "local_path='/content/drive/MyDrive/Structural_Bioinformatics/Task4'\n",
        "%cd {local_path}"
      ],
      "metadata": {
        "id": "adZeGmEpBeu3"
      },
      "execution_count": null,
      "outputs": []
    },
    {
      "cell_type": "markdown",
      "metadata": {
        "id": "fGTrGUZQRzrM"
      },
      "source": [
        "##Theoretical Aspects"
      ]
    },
    {
      "cell_type": "markdown",
      "source": [
        "In the following you will see two quantities RMSD and RMSF that allow to measure the distance with respect to a reference configuration (RMSD) and the fluctuations of the atomic position around an average configuration (RMSF)"
      ],
      "metadata": {
        "id": "O6PUWa8MBMfN"
      }
    },
    {
      "cell_type": "markdown",
      "metadata": {
        "id": "Rhyy1CaFKZg0"
      },
      "source": [
        "### ***Root Mean Square Deviation (RMSD)*** overview\n",
        "\n",
        "$RMSD$ measures the deviation of a target set of coordinates (i.e. a structure) to a reference set of coordinates, with $RMSD=0$ indicating a perfect overlap.\n",
        "Then it follows that if we have a MD trajectory one would expect that the lower the RMSD the less changes happen in the time scale studied.\n",
        "\n",
        "RMSD is defined as:\n",
        "\n",
        "<center>\n",
        "<font size=\"5\">\n",
        "$RMSD = \\sqrt{\\frac{\\sum_{i = 0}^N m_i(X_i - Y_i)^2}{M}}$\n",
        "</font>\n",
        "</center>\n",
        "\n",
        "\n",
        " Where **N** is the number of atoms,  $m_{i}$ is the mass of atom $i$, $X_i$ is the coordinate vector for target atom $i$, $Y_i$ is the coordinate vector for reference atom $i$, and $M$ is the total mass. If the $RMSD$ is not mass-weighted, for all $i$, $m_i = 1$, and $M = N$.\n",
        "When calculating $RMSD$ of a target to reference structure, there are two very important requirements as we will see soon in the practical part of this tutorial:\n",
        "\n",
        "1. The number of atoms in the target must match the number of atoms in the reference.\n",
        "2. The ordering of atoms in the target must match the ordering of atoms in the reference.\n",
        "\n"
      ]
    },
    {
      "cell_type": "markdown",
      "metadata": {
        "id": "F0FJl8bpzP7U"
      },
      "source": [
        "### ***Root Mean Square Fluctuation (RMSF)*** overview\n",
        "\n",
        "As mentioned in the [MDanalysis user guide ](https://userguide.mdanalysis.org/stable/examples/analysis/alignment_and_rms/rmsf.html):\n",
        "\n",
        "> The root-mean-square-fluctuation ($RMSF$) of a structure is **the time average of the RMSD**. It is calculated according to the below equation, where $x_i$\n",
        " is the coordinates of particle $i$ and $⟨x_i⟩$ is the ensemble average position of $i$:\n",
        "\n",
        "\n",
        "<center>\n",
        "<font size=\"5\">\n",
        "$ ρ_i=\\sqrt{⟨(x_i−⟨x_i⟩)^2⟩}$\n",
        "</font>\n",
        "</center>\n",
        "\n",
        "\n",
        "> Where the $RMSD$ quantifies how much a structure diverges from a reference over time, the **$RSMF$ can reveal which areas of the system are the most mobile**. While $RMSD$ is frequently calculated to an initial state, the RMSF should be calculated to an average structure of the simulation. An area of the structure with high $RMSF$ values frequently diverges from the average, indicating high mobility. When $RMSF$ analysis is carried out on proteins, it is typically restricted to backbone or alpha-carbon atoms; these are more characteristic of conformational changes than the more flexible side-chains."
      ]
    },
    {
      "cell_type": "markdown",
      "metadata": {
        "id": "jRCEoanM_yJY"
      },
      "source": [
        "<figure>\n",
        "<center>\n",
        "<img src='https://www.frontiersin.org/files/Articles/329304/fphar-09-00492-HTML/image_m/fphar-09-00492-g002.jpg'/>\n",
        "<figcaption>FIGURE 2. RMSD and RMSF plots of the structural changes occuring due to antagonist binding in the ligand binding pocket of androgen receptor, elucidated through MD simulations.<br>Sugunadevi S et al (2018)<i> Front Pharmacology 9, 492</i> </figcaption></center>\n",
        "</figure>"
      ]
    },
    {
      "cell_type": "markdown",
      "metadata": {
        "id": "df7Srfif37J7"
      },
      "source": [
        "### Distances\n",
        "As you may recall trajectory files stores the position of each individual atoms, the calculation of distances through an MD simulation is usually really straightforward.\n",
        "\n"
      ]
    },
    {
      "cell_type": "markdown",
      "metadata": {
        "id": "_5SlhTFoeL4-"
      },
      "source": [
        "### MDanalysis package overview\n",
        "\n",
        "As defined in the [documentation](https://docs.mdanalysis.org/stable/documentation_pages/overview.html):\n",
        "> **MDAnalysis** is a Python package that provides classes to access data in molecular dynamics trajectories. It is object oriented so it treats atoms, groups of atoms, trajectories, etc as different objects. Each object has a number of operations defined on itself (also known as “methods”) and also contains values describing the object (“attributes”). For example, a **AtomGroup** object has a **center_of_mass()** method that returns the center of mass of the group of atoms. It also contains an attribute called residues that lists all the residues that belong to the group. Using methods such as **select_atoms()** (which uses CHARMM-style atom Selection commands) one can create new objects (in this case, another **AtomGroup**)."
      ]
    },
    {
      "cell_type": "markdown",
      "metadata": {
        "id": "Ru2CNam5pO7C"
      },
      "source": [
        "Example of MDanalysis code\n",
        "A typical usage pattern is to iterate through a trajectory and analyze coordinates for every frame. In the following example the end-to-end distance of a protein and the radius of gyration of the backbone atoms are calculated:\n",
        "\n",
        "\n"
      ]
    },
    {
      "cell_type": "markdown",
      "metadata": {
        "id": "b2oQLgbm7zSC"
      },
      "source": [
        "\n",
        "\n",
        "```\n",
        "#!pip3 install --upgrade MDAnalysis\n",
        "#!pip install --upgrade MDAnalysisTests\n",
        "import MDAnalysis\n",
        "from MDAnalysis.tests.datafiles import PSF,DCD  # test trajectory\n",
        "import numpy.linalg\n",
        "u = MDAnalysis.Universe(PSF,DCD)  # always start with a Universe\n",
        "nterm = u.select_atoms('segid 4AKE and name N')[0]  # can access structure via segid (s4AKE) and atom name\n",
        "cterm = u.select_atoms('segid 4AKE and name C')[-1]  # ... takes the last atom named 'C'\n",
        "bb = u.select_atoms('protein and backbone')  # a selection (a AtomGroup)\n",
        "for ts in u.trajectory:  # iterate through all frames\n",
        "    r = cterm.pos - nterm.pos  # end-to-end vector from atom positions\n",
        "    d = numpy.linalg.norm(r)   # end-to-end distance\n",
        "    rgyr = bb.radius_of_gyration()  # method of a AtomGroup; updates with each frame\n",
        "    print \"frame = %d: d = %f Angstroem, Rgyr = %f Angstroem\" % (ts.frame, d, rgyr)\n",
        "```\n",
        "\n"
      ]
    },
    {
      "cell_type": "markdown",
      "metadata": {
        "id": "r0p7cH3h_VeD"
      },
      "source": [
        "### Basic concepts of MD analysis\n",
        "\n",
        "\n",
        "1.   Universes and atom groups\n",
        "2.   Selections\n",
        "\n"
      ]
    },
    {
      "cell_type": "markdown",
      "metadata": {
        "id": "lG3hIt9flNpf"
      },
      "source": [
        "**Universe and AtomGroup**\n",
        "\n",
        "MDAnalysis is object oriented. Molecular systems consist of Atom objects (instances of the class MDAnalysis.core.groups.Atom), which are grouped in AtomGroup instances. You build the AtomGroup of your system by loading a topology (list of atoms and possibly their connectivity) together with a trajectory (coordinate information) into the central data structure, the Universe object:\n",
        "\n",
        "\n",
        "\n",
        "```\n",
        "u = MDAnalysis.Universe(PSF, DCD)\n",
        "print(u)\n",
        "<Universe with 3341 atoms>\n",
        "```\n",
        "\n"
      ]
    },
    {
      "cell_type": "markdown",
      "metadata": {
        "id": "rJ7SYr_Wa4wr"
      },
      "source": [
        "**Selections**\n",
        "\n",
        "MDAnalysis comes with a fairly complete atom selection facility. Primarily, one uses the method select_atoms() of a Universe:\n",
        "\n",
        "\n",
        "\n",
        "```\n",
        ">>> CA = u.select_atoms(\"protein and name CA\")\n",
        ">>> CA\n",
        ">>> <AtomGroup with 214 atoms>\n",
        "```\n",
        "\n",
        "\n",
        "but really any AtomGroup has a select_atoms() method:\n",
        "\n",
        "```\n",
        ">>> acidic = CA.select_atoms(\"resname ASP or resname GLU\")\n",
        ">>> acidic\n",
        "<AtomGroup with 35 atoms>\n",
        ">>> list(acidic.residues)\n",
        "[<Residue GLU, 22>,\n",
        " <Residue ASP, 33>,\n",
        " <Residue GLU, 44>,\n",
        " ...\n",
        " <Residue GLU, 210>]\n",
        " ```\n",
        "\n",
        "See also All the selection keywords are described in the documentation.\n",
        "Numerical ranges can be written as first-last (or equivalently first:last 1), where the range is inclusive. For example, get residues with residue IDs 5 to 100:\n",
        "\n",
        "```\n",
        ">>> u.select_atoms(\"resid 5-100\")\n",
        "<AtomGroup with 1439 atoms>\n",
        ">>> u.select_atoms(\"resid 5-100\").n_residues\n",
        "96\n",
        "```\n",
        "Selections can be combined with boolean expressions. For example, to select the Cα atoms of all acidic residues [aspartic acid (“ASP”), glutamic acid (“GLU”), and histidines (named “HIS”, “HSD”, or “HSE”, depending on what force field is being used and what protonation state it is in)]:\n",
        "```\n",
        ">>> u.select_atoms(\"(resname ASP or resname GLU or resname HS*) and name CA\")\n",
        "<AtomGroup with 38 atoms>\n",
        "```\n",
        "We group with or separate selections by residue name (keyword resname). First either ASP, GLU, or any histidines are selected (we use “stemming” HS* to match any residue name that starts with “HS”). Then only those atoms whose name is “CA” are taken from the first set by an and selection. For convenience, the or in the first part of the selection can be taken implicitly with the shortcut syntax\n",
        "```\n",
        ">>> u.select_atoms(\"resname ASP GLU HS* and name CA\")\n",
        "<AtomGroup with 38 atoms>\n",
        "```\n"
      ]
    },
    {
      "cell_type": "markdown",
      "metadata": {
        "id": "1swoxQtJpUPg"
      },
      "source": [
        "If you want to dig deeper into the selection syntaxis of MDanalysis you can read the full documentation [here](https://docs.mdanalysis.org/1.0.0/documentation_pages/selections.html)"
      ]
    },
    {
      "cell_type": "markdown",
      "source": [
        "##Part 0 Downloading and Installing the required software"
      ],
      "metadata": {
        "id": "Hc5GZKSfgiZD"
      }
    },
    {
      "cell_type": "markdown",
      "metadata": {
        "id": "XQQJy1ByDnMj"
      },
      "source": [
        "For this tutorial we are going to use a MD trajectory from DNA binding domain of the HIV integrase 1, as you can see in the PDB [entry](https://www.rcsb.org/structure/1IHV) this structure was solved using NMR, and was found to form a dimer in solution.\n",
        "\n",
        "Here we are going to analyze 1000 frames of the integrase the monomeric and dimeric states and compare their RMSD, RMSF and measure distances."
      ]
    },
    {
      "cell_type": "markdown",
      "metadata": {
        "id": "AuLRRVHLnsXb"
      },
      "source": [
        "<figure>\n",
        "<center>\n",
        "<img src='https://cdn.rcsb.org/images/structures/ih/1ihv/1ihv_chain-A.jpeg'/>\n",
        "<figcaption>FIGURE 3. Cartoon representation of the structure of HIV integrase 1 (PDB 1IHV)</figcaption></center>\n",
        "</figure>\n",
        "\n"
      ]
    },
    {
      "cell_type": "markdown",
      "metadata": {
        "id": "CSoR7qKuoBTm"
      },
      "source": [
        "### Installation"
      ]
    },
    {
      "cell_type": "markdown",
      "metadata": {
        "id": "K4cL3NbrsyLQ"
      },
      "source": [
        "we must install the softwares to perform this tutorial. Namely:\n",
        "- **MDAnalysis** for analyzing the data in molecular dynamics trajectories.\n",
        "- **py3Dmol** for visualization of the protein structure.\n"
      ]
    },
    {
      "cell_type": "code",
      "metadata": {
        "id": "N6XS2OzBmCvB"
      },
      "source": [
        "!pip3 install --upgrade MDAnalysis\n",
        "# Import MDanalysis\n",
        "import MDAnalysis as mda\n",
        "#from MDAnalysis.tests.datafiles import PSF, DCD, DCD2\n",
        "from MDAnalysis.analysis import gnm\n",
        "import matplotlib.pyplot as plt\n",
        "%matplotlib inline"
      ],
      "execution_count": null,
      "outputs": []
    },
    {
      "cell_type": "code",
      "metadata": {
        "id": "mFxdeBHvatJY"
      },
      "source": [
        "#Installing py3Dmol using pip\n",
        "!pip install py3Dmol"
      ],
      "execution_count": null,
      "outputs": []
    },
    {
      "cell_type": "code",
      "metadata": {
        "id": "jS2vRGLx40Du"
      },
      "source": [
        "#Importing py3Dmol for safety\n",
        "import py3Dmol"
      ],
      "execution_count": null,
      "outputs": []
    },
    {
      "cell_type": "code",
      "metadata": {
        "id": "TPCd5qX172n0"
      },
      "source": [
        "!wget http://www.rcsb.org/pdb/files/1IHV.pdb.gz\n",
        "!gunzip -f 1IHV.pdb.gz"
      ],
      "execution_count": null,
      "outputs": []
    },
    {
      "cell_type": "code",
      "metadata": {
        "id": "WR1cC4Ru7VRe"
      },
      "source": [
        "# We can visualize the dimeric conformation\n",
        "view=py3Dmol.view()\n",
        "view.addModel(open('1IHV.pdb', 'r').read(),'pdb')\n",
        "#Zooming into all visualized structures\n",
        "view.zoomTo()\n",
        "#Here we set the background color as white\n",
        "view.setBackgroundColor('white')\n",
        "#Here we set the visualization style for chain B and C\n",
        "view.setStyle({'cartoon': {'color':'purple'}})\n",
        "#And we finally visualize the structures using the command below\n",
        "view.show()"
      ],
      "execution_count": null,
      "outputs": []
    },
    {
      "cell_type": "markdown",
      "metadata": {
        "id": "XrbMO9TiTtqk"
      },
      "source": [
        "### Downloading MD trajectories"
      ]
    },
    {
      "cell_type": "code",
      "metadata": {
        "id": "YlVIRxAaTtOd"
      },
      "source": [
        "#Here we copy to our Colab instance the trajectory files for the monomer and dimer\n",
        "!wget https://github.com/pb3lab/ibm3202/raw/master/files/md_files/1ihv_dimer_protPBC.xtc\n",
        "!wget https://github.com/pb3lab/ibm3202/raw/master/files/md_files/1ihv_mon_protPBC.xtc\n",
        "!wget https://github.com/pb3lab/ibm3202/raw/master/files/md_files/1ihv_mon_protPBC.gro\n",
        "!wget https://github.com/pb3lab/ibm3202/raw/master/files/md_files/1ihv_dimer_protPBC.gro\n"
      ],
      "execution_count": null,
      "outputs": []
    },
    {
      "cell_type": "markdown",
      "metadata": {
        "id": "un-RB68MxkiC"
      },
      "source": [
        "##Part I – Calculating $RMSD$ and $RMSF$"
      ]
    },
    {
      "cell_type": "markdown",
      "metadata": {
        "id": "Fs9RilbxLnd-"
      },
      "source": [
        "### I.1 - RMSD\n"
      ]
    },
    {
      "cell_type": "markdown",
      "metadata": {
        "id": "-KzUKdq1ViPt"
      },
      "source": [
        "!!!!!!!!!!!!!!!!!!!!!!!!!!!!!!!!!!!!!!!!!!!!!!!!!!!!!!!!!!!!!!!!!!!!!!!!!!!!!!!!!!!!!!!!!!!!!!!!!!!!!!!!!!!!!!!!!!!!!!!!!!!!!!!!!!!!!!!!!!!!!!!!!!!!!!!!!!!!!!!!!!!!!!!!\n",
        "\n",
        "\n",
        "\n",
        "Please note that the following cells are part of the tutorial of MDanalysis available [here](https://userguide.mdanalysis.org/stable/examples/analysis/alignment_and_rms/aligning_trajectory_to_frame.html)\n",
        "\n",
        "!!!!!!!!!!!!!!!!!!!!!!!!!!!!!!!!!!!!!!!!!!!!!!!!!!!!!!!!!!!!!!!!!!!!!!!!!!!!!!!!!!!!!!!!!!!!!!!!!!!!!!!!!!!!!!!!!!!!!!!!!!!!!!!!!!!!!!!!!!!!!!!!!!!!!!!!!!!!!!!!!!!!!!!!\n",
        "\n",
        "\n",
        "© Copyright 2019-2020, Lily Wang, Irfan Alibay, Rocco Meli, Mieczyslaw Torchala, Yuxuan Zhuang, Richard J. Gowers, and Oliver Beckstein.\n",
        "\n",
        "\n",
        "\n"
      ]
    },
    {
      "cell_type": "markdown",
      "metadata": {
        "id": "stqGJXmJx-Hg"
      },
      "source": [
        "#### I.1A - Calculating $RMSD$ against a reference frame"
      ]
    },
    {
      "cell_type": "code",
      "metadata": {
        "id": "vEJFOLUoRgIt"
      },
      "source": [
        "import MDAnalysis as mda\n",
        "from MDAnalysis.analysis import align, rms"
      ],
      "execution_count": null,
      "outputs": []
    },
    {
      "cell_type": "markdown",
      "metadata": {
        "id": "xzb5tzSoRjIh"
      },
      "source": [
        "First we need to load our trajectory files onto MDanalysis. This is done by creating an instance of an **Universe** object."
      ]
    },
    {
      "cell_type": "code",
      "metadata": {
        "id": "yDJzFxXwRa2m"
      },
      "source": [
        "#Here we create two Universes each containing the same trajectory of the monomeric trajectory,\n",
        "#one called mobile and the other ref which will be used as reference\n",
        "mobile = mda.Universe(\"1ihv_mon_protPBC.gro\", \"1ihv_mon_protPBC.xtc\")\n",
        "ref = mda.Universe(\"1ihv_mon_protPBC.gro\", \"1ihv_mon_protPBC.xtc\")"
      ],
      "execution_count": null,
      "outputs": []
    },
    {
      "cell_type": "markdown",
      "metadata": {
        "id": "zbO2JjZMWIle"
      },
      "source": [
        "While `align.alignto` aligns single structures, or a frame of a trajectory, `align.AlignTraj` efficiently aligns an entire trajectory to a reference.\n",
        "\n",
        "We first check the $RMSD$ of our unaligned trajectory so we can compare results later. The code below sets the `mobile` trajectory to the last frame by indexing the last timestep, `ref` to the first frame by indexing the first timestep, and computes the root mean squared deviation between the $\\alpha$-carbon positions."
      ]
    },
    {
      "cell_type": "code",
      "metadata": {
        "id": "iKg2G5eqVgmV"
      },
      "source": [
        "mobile.trajectory[-1]  # set mobile trajectory to last frame\n",
        "ref.trajectory[0]  # set reference trajectory to first frame\n",
        "\n",
        "mobile_ca = mobile.select_atoms('name CA')\n",
        "ref_ca = ref.select_atoms('name CA')\n",
        "rms.rmsd(mobile_ca.positions, ref_ca.positions, superposition=False)"
      ],
      "execution_count": null,
      "outputs": []
    },
    {
      "cell_type": "markdown",
      "metadata": {
        "id": "LoF4L3c8WSQn"
      },
      "source": [
        "Now we can align the trajectory. We have already set ref to the first frame. In the cell below, we load the positions of the trajectory into memory so we can modify the trajectory in Python."
      ]
    },
    {
      "cell_type": "code",
      "metadata": {
        "id": "1ACJSeYIWBB-"
      },
      "source": [
        "aligner = align.AlignTraj(mobile, ref, select='name CA', in_memory=True).run()"
      ],
      "execution_count": null,
      "outputs": []
    },
    {
      "cell_type": "code",
      "metadata": {
        "id": "GWzSwTmIWuqE"
      },
      "source": [
        "mobile.trajectory[-1]  # set mobile trajectory to last frame\n",
        "ref.trajectory[0]  # set reference trajectory to first frame\n",
        "\n",
        "mobile_ca = mobile.select_atoms('name CA')\n",
        "ref_ca = ref.select_atoms('name CA')\n",
        "rms.rmsd(mobile_ca.positions, ref_ca.positions, superposition=False)"
      ],
      "execution_count": null,
      "outputs": []
    },
    {
      "cell_type": "markdown",
      "metadata": {
        "id": "35YHo9oWyJOr"
      },
      "source": [
        "**QUESTION❓:** How much does the RMSD before and after alignment compare?"
      ]
    },
    {
      "cell_type": "markdown",
      "metadata": {
        "id": "cR3TTC3xYmN_"
      },
      "source": [
        "#### I.1B - RMSD of a Universe with multiple selections over time"
      ]
    },
    {
      "cell_type": "markdown",
      "metadata": {
        "id": "npX_ww_wYzfX"
      },
      "source": [
        "It is more efficient to use the MDAnalysis.analysis.rms.RMSD class to calculate the $RMSD$ of an entire trajectory to a single reference point.\n",
        "\n",
        "The rms.RMSD class first performs a rotational and translational alignment of the target trajectory to the reference universe at ref_frame, using the atoms in select to determine the transformation. Then, without further alignment, the RMSD of each group in the `groupselections` argument is calculated.\n",
        "\n",
        "[Source](https://userguide.mdanalysis.org/stable/examples/analysis/alignment_and_rms/rmsd.html)"
      ]
    },
    {
      "cell_type": "code",
      "metadata": {
        "id": "uZWk72RJKiSm"
      },
      "source": [
        "#Here we create two Universes each containing the same trajectory of the monomeric trajectory,\n",
        "#one called mobile and the other ref which will be used as reference\n",
        "monomer_mobile = mda.Universe(\"1ihv_mon_protPBC.gro\", \"1ihv_mon_protPBC.xtc\")\n",
        "monomer_ref = mda.Universe(\"1ihv_mon_protPBC.gro\", \"1ihv_mon_protPBC.xtc\")"
      ],
      "execution_count": null,
      "outputs": []
    },
    {
      "cell_type": "code",
      "metadata": {
        "id": "2waYLDMEaOOC"
      },
      "source": [
        "rms.rmsd(monomer_mobile.select_atoms('backbone').positions,  # coordinates to align\n",
        "         monomer_ref.select_atoms('backbone').positions,  # reference coordinates\n",
        "         center=True,  # subtract the center of geometry\n",
        "         superposition=True)  # superimpose coordinates"
      ],
      "execution_count": null,
      "outputs": []
    },
    {
      "cell_type": "code",
      "metadata": {
        "id": "rma7_lOqY6xU"
      },
      "source": [
        "# Here we define two\n",
        "Loop1 = 'backbone and resid 227-240'\n",
        "Loop2 = 'backbone and resid 252-257'"
      ],
      "execution_count": null,
      "outputs": []
    },
    {
      "cell_type": "code",
      "metadata": {
        "id": "bEnzzaYwY-51"
      },
      "source": [
        "#Here we calculate the RMSD\n",
        "R_rmsd = rms.RMSD(mobile,  # universe to align\n",
        "             ref,  # reference universe or atomgroup\n",
        "             select='backbone',  # group to superimpose and calculate RMSD\n",
        "             groupselections=[Loop1, Loop2],  # groups for RMSD\n",
        "             ref_frame=0)  # frame index of the reference\n",
        "R_rmsd.run()"
      ],
      "execution_count": null,
      "outputs": []
    },
    {
      "cell_type": "markdown",
      "metadata": {
        "id": "3SFu0u9OZDaF"
      },
      "source": [
        "The data is saved in R_rmsd.results.rmsd as an array. We can check the dimensions of the array using the *shape* attribute."
      ]
    },
    {
      "cell_type": "code",
      "metadata": {
        "id": "BX2aYBjP3KY3"
      },
      "source": [
        "R_rmsd.results.rmsd.shape"
      ],
      "execution_count": null,
      "outputs": []
    },
    {
      "cell_type": "markdown",
      "metadata": {
        "id": "F2FfhNdBZOsK"
      },
      "source": [
        "The variable `R_rmsd.results.rmsd` has a row for each timestep. The first two columns of each row are the frame index of the time step, and the time (which is guessed in trajectory formats without timesteps). The third column is $RMSD$ of the `select` argument. The last few columns are the $RMSD$ of the groups in `groupselections`."
      ]
    },
    {
      "cell_type": "markdown",
      "metadata": {
        "id": "2vu6MG0WZcfp"
      },
      "source": [
        "##### Plotting the data"
      ]
    },
    {
      "cell_type": "markdown",
      "metadata": {
        "id": "3HlzA8oUZn8m"
      },
      "source": [
        "We can easily plot this data using the common data analysis package pandas. We turn the `R_rmsd.results.rmsd` array into a DataFrame and label each column below."
      ]
    },
    {
      "cell_type": "code",
      "metadata": {
        "id": "aVCTvWdFZfhs"
      },
      "source": [
        "import pandas as pd\n",
        "df_rmsd_mono = pd.DataFrame(R_rmsd.results.rmsd,\n",
        "                  columns=['Frame', 'Time (ns)','Backbone','Loop1','Loop2'])\n",
        "\n",
        "df_rmsd_mono"
      ],
      "execution_count": null,
      "outputs": []
    },
    {
      "cell_type": "markdown",
      "metadata": {
        "id": "dJjsgYYYidzA"
      },
      "source": [
        "Here we use Plotly to easily create an interactive plot"
      ]
    },
    {
      "cell_type": "code",
      "metadata": {
        "id": "k6D3C6wVbCrS"
      },
      "source": [
        "import plotly.graph_objects as go\n",
        "import plotly.express as px\n",
        "fig = px.line(df_rmsd_mono, x=\"Frame\", y=\"Backbone\",\n",
        "        line_shape=\"spline\", render_mode=\"svg\",\n",
        "        labels={ \"Backbone\": \"RMSD(Å)\" })\n",
        "fig.add_scatter(x=df_rmsd_mono[\"Frame\"], y=df_rmsd_mono[\"Loop1\"], name=\"Loop 1\", showlegend=True )\n",
        "fig.add_scatter(x=df_rmsd_mono[\"Frame\"], y=df_rmsd_mono[\"Loop2\"], name=\"Loop 2\")\n",
        "fig.add_scatter(x=df_rmsd_mono[\"Frame\"], y=df_rmsd_mono[\"Backbone\"], name=\"Backbone\" )\n",
        "fig.show()"
      ],
      "execution_count": null,
      "outputs": []
    },
    {
      "cell_type": "markdown",
      "metadata": {
        "id": "m_8dXuxhmYG9"
      },
      "source": [
        "**QUESTION:** What is the range (in angstroms) of the RMSD fluctuations?"
      ]
    },
    {
      "cell_type": "markdown",
      "metadata": {
        "id": "-4eIvsh4VU85"
      },
      "source": [
        "#### I.1C - Now is your turn to calculate the RMSD of the dimer"
      ]
    },
    {
      "cell_type": "code",
      "metadata": {
        "id": "2LvO6DqYVeFb"
      },
      "source": [
        "#Here we create two Universes each containing the same trajectory of the monomeric trajectory,\n",
        "#one called mobile and the other ref which will be used as reference\n",
        "dimer_mobile = mda.Universe(\"1ihv_dimer_protPBC.gro\", \"1ihv_dimer_protPBC.xtc\")\n",
        "dimer_ref = mda.Universe(\"1ihv_dimer_protPBC.gro\", \"1ihv_dimer_protPBC.xtc\")"
      ],
      "execution_count": null,
      "outputs": []
    },
    {
      "cell_type": "code",
      "metadata": {
        "id": "mex6IWWHVeFh"
      },
      "source": [
        "rms.rmsd(dimer_mobile.select_atoms('backbone').positions,  # coordinates to align\n",
        "          dimer_ref.select_atoms('backbone').positions,  # reference coordinates\n",
        "          center=True,  # subtract the center of geometry\n",
        "          superposition=True)  # superimpose coordinates"
      ],
      "execution_count": null,
      "outputs": []
    },
    {
      "cell_type": "code",
      "metadata": {
        "id": "Iqf-OHcLVeFm"
      },
      "source": [
        " Loop1A = 'backbone and resid 227-240'\n",
        " Loop2A = 'backbone and resid 252-257'"
      ],
      "execution_count": null,
      "outputs": []
    },
    {
      "cell_type": "code",
      "metadata": {
        "id": "IB955rHPVeFp"
      },
      "source": [
        " R_rmsd_dimer = rms.RMSD(dimer_mobile,  # universe to align\n",
        "              dimer_ref,  # reference universe or atomgroup\n",
        "              select='backbone',  # group to superimpose and calculate RMSD\n",
        "              groupselections=[Loop1A, Loop2A],  # groups for RMSD\n",
        "              ref_frame=0)  # frame index of the reference\n",
        " R_rmsd_dimer.run()"
      ],
      "execution_count": null,
      "outputs": []
    },
    {
      "cell_type": "markdown",
      "metadata": {
        "id": "e23pp79GVeFt"
      },
      "source": [
        "The data is saved in `R_rmsd.results.rmsd` as an array. We can check the dimensions of the array using the `shape` attribute."
      ]
    },
    {
      "cell_type": "code",
      "metadata": {
        "id": "wGyvD8vfVeFu"
      },
      "source": [
        "R_rmsd_dimer.results.rmsd.shape"
      ],
      "execution_count": null,
      "outputs": []
    },
    {
      "cell_type": "code",
      "metadata": {
        "id": "Gh7smKxHWhBh"
      },
      "source": [
        "import pandas as pd\n",
        "#Here we create the pandas dataframe from the R_rmsd_dimer.rmsd object\n",
        "df_rmsd_dimer = pd.DataFrame(R_rmsd_dimer.results.rmsd,\n",
        "                  columns=['Frame', 'Time (ns)','Backbone','Loop1A','Loop2A'])\n",
        "\n",
        "df_rmsd_dimer"
      ],
      "execution_count": null,
      "outputs": []
    },
    {
      "cell_type": "markdown",
      "metadata": {
        "id": "tXtVM6Ovwaut"
      },
      "source": [
        "Lets plot the $RMSD$ over time for the Monomer and the Dimer"
      ]
    },
    {
      "cell_type": "code",
      "metadata": {
        "id": "ZbI9v53xWqiK"
      },
      "source": [
        "import plotly.express as px\n",
        "\n",
        "fig = px.line(df_rmsd_mono, x=\"Frame\", y=\"Backbone\",\n",
        "        line_shape=\"spline\", render_mode=\"svg\",\n",
        "        labels={ \"Backbone\": \"RMSD(Å)\" })\n",
        "fig.add_scatter(x=df_rmsd_mono[\"Frame\"], y=df_rmsd_mono[\"Backbone\"], name=\"Backbone Monomer\" )\n",
        "fig.add_scatter(x=df_rmsd_dimer[\"Frame\"], y=df_rmsd_dimer[\"Backbone\"], name=\"Backbone Dimer AVG\" )\n",
        "fig.show()"
      ],
      "execution_count": null,
      "outputs": []
    },
    {
      "cell_type": "markdown",
      "metadata": {
        "id": "E3AqEjptXHFr"
      },
      "source": [
        "Now is your turn to explore if there are any changes in the RMSD of the loops over time"
      ]
    },
    {
      "cell_type": "code",
      "metadata": {
        "id": "Hv2I6fzbXFAQ"
      },
      "source": [
        "#Hints:\n",
        "fig.add_scatter(x=df_rmsd_mono[\"Frame\"], y=df_rmsd_mono[\"Loop1\"], name=\"Loop 1\", showlegend=True )\n",
        "fig.add_scatter(x=df_rmsd_mono[\"Frame\"], y=df_rmsd_mono[\"Loop2\"], name=\"Loop 2\")"
      ],
      "execution_count": null,
      "outputs": []
    },
    {
      "cell_type": "markdown",
      "source": [
        "**QUESTION:** What is the range (in angstroms) of the RMSD fluctuations?"
      ],
      "metadata": {
        "id": "Mmncf11QUX85"
      }
    },
    {
      "cell_type": "markdown",
      "metadata": {
        "id": "b6OY9Bo8jIfc"
      },
      "source": [
        "###I.2 - RMSF"
      ]
    },
    {
      "cell_type": "markdown",
      "metadata": {
        "id": "OtkDMst7Tas1"
      },
      "source": [
        "Now, we want to assess the average atomic fluctuations during the MD trajectories for both the monomeric and dimeric states of the integrase"
      ]
    },
    {
      "cell_type": "code",
      "metadata": {
        "id": "h1BpVaxfW68n"
      },
      "source": [
        "#First we need to make sure that our universes are properly aligned\n",
        "aligner = align.AlignTraj(monomer_mobile, monomer_ref, select='name CA', in_memory=True).run()\n",
        "aligner = align.AlignTraj(dimer_mobile, dimer_ref, select='name CA', in_memory=True).run()"
      ],
      "execution_count": null,
      "outputs": []
    },
    {
      "cell_type": "code",
      "metadata": {
        "id": "XcPkcw0wjH9U"
      },
      "source": [
        "#Here we create a selection of the previously aligned trajectory\n",
        "c_alphas_monomer = monomer_mobile.select_atoms('protein and name CA')\n",
        "c_alphas_dimer = dimer_mobile.select_atoms('protein and name CA')\n",
        "R_rmsf_mono = rms.RMSF(c_alphas_monomer).run()\n",
        "R_rmsf_dimer = rms.RMSF(c_alphas_dimer).run()\n",
        "rms.RMSF"
      ],
      "execution_count": null,
      "outputs": []
    },
    {
      "cell_type": "code",
      "metadata": {
        "id": "9a7f-OimVZAn"
      },
      "source": [
        "c_alphas_dimer.resids"
      ],
      "execution_count": null,
      "outputs": []
    },
    {
      "cell_type": "code",
      "metadata": {
        "id": "sF20ADUaJykB"
      },
      "source": [
        "import pandas as pd\n",
        "#Here we create a pandas dataframe\n",
        "df_rmsf_mono = pd.DataFrame(R_rmsf_mono.results.rmsf,\n",
        "                  columns=['BackboneRMSF'])\n",
        "df_rmsf_mono = df_rmsf_mono.assign(Residue = c_alphas_monomer.resids)\n",
        "\n",
        "df_rmsf_dimer = pd.DataFrame(R_rmsf_dimer.results.rmsf,\n",
        "                  columns=['BackboneRMSF'])\n",
        "df_rmsf_dimer = df_rmsf_dimer.assign(Residue = c_alphas_dimer.resids)\n",
        "\n",
        "\n",
        "df_rmsf_dimer_A = df_rmsf_dimer.head(52)\n",
        "df_rmsf_dimer_B = df_rmsf_dimer.tail(52)\n",
        "\n"
      ],
      "execution_count": null,
      "outputs": []
    },
    {
      "cell_type": "code",
      "metadata": {
        "id": "atVuKWpvMywH"
      },
      "source": [
        "import plotly.express as px\n",
        "\n",
        "fig = px.line(df_rmsf_mono, x=\"Residue\", y=\"BackboneRMSF\",\n",
        "        line_shape=\"linear\", render_mode=\"svg\",\n",
        "        labels={ \"BackboneRMSF\": \"RMSF(Å)\" , \"Residue\":\"Residue Number\"}, color=None)\n",
        "fig.add_scatter(x=df_rmsf_dimer_A[\"Residue\"], y=df_rmsf_dimer_A[\"BackboneRMSF\"], name=\"Dimer Chain A\", line_shape=\"linear\")\n",
        "fig.add_scatter(x=df_rmsf_dimer_B[\"Residue\"], y=df_rmsf_dimer_B[\"BackboneRMSF\"], name=\"Dimer Chain B\", line_shape=\"linear\")\n",
        "fig.add_scatter(x=df_rmsf_mono[\"Residue\"], y=df_rmsf_mono[\"BackboneRMSF\"], name=\"Monomer\", line_shape=\"linear\")\n",
        "\n",
        "fig.show()\n"
      ],
      "execution_count": null,
      "outputs": []
    },
    {
      "cell_type": "markdown",
      "metadata": {
        "id": "HPC9T4TPZokz"
      },
      "source": [
        "**QUESTIONS❓**\n",
        "\n",
        "1. Is there any difference in local fluctuations between the monomeric and dimeric states?\n",
        "\n",
        "2. Which region exhibit a high atomic fluctuation through the trajectory?\n",
        "\n",
        "3. What are the structural features of these regions?\n",
        "\n"
      ]
    },
    {
      "cell_type": "markdown",
      "metadata": {
        "id": "W8xZMBJeyT07"
      },
      "source": [
        "### I.3 - Pairwise RMSD"
      ]
    },
    {
      "cell_type": "code",
      "metadata": {
        "id": "kv0ijOsQ7Jr9"
      },
      "source": [
        "#Import modules\n",
        "import MDAnalysis as mda\n",
        "from MDAnalysis.analysis import diffusionmap, align"
      ],
      "execution_count": null,
      "outputs": []
    },
    {
      "cell_type": "markdown",
      "metadata": {
        "id": "rw0lyaaF7YjQ"
      },
      "source": [
        "Pairwise RMSDs are an effective way to quickly view similarities and differences in conformations (as measured by RMSD) across a entire trajectory and not only in comparison to just one reference frame.\n",
        "\n",
        "We are going to use the previously aligned trajectories **monomer_mobile** and **dimer_mobile**\n"
      ]
    },
    {
      "cell_type": "markdown",
      "metadata": {
        "id": "3XFt5Pjx7ki6"
      },
      "source": [
        "We can then calculate a pairwise $RMSD$ matrix with the `diffusionmap.DistanceMatrix` class, by using the default the rms.rmsd metric."
      ]
    },
    {
      "cell_type": "code",
      "metadata": {
        "id": "AoBfBsuv7ngn"
      },
      "source": [
        "#Monomer distance matrix calculation\n",
        "matrix1 = diffusionmap.DistanceMatrix(monomer_mobile, select='name CA').run()\n",
        "#Dimer distance matrix calculation\n",
        "matrix2 = diffusionmap.DistanceMatrix(dimer_mobile, select='name CA').run()"
      ],
      "execution_count": null,
      "outputs": []
    },
    {
      "cell_type": "markdown",
      "metadata": {
        "id": "r1kcTrIt7olM"
      },
      "source": [
        "The results array is in `matrix.results.dist_matrix` as a square array with the shape (#n_frames, #n_frame)."
      ]
    },
    {
      "cell_type": "code",
      "metadata": {
        "id": "yEI-VGCu7rKC"
      },
      "source": [
        "print(matrix1.results.dist_matrix.shape)\n",
        "print(matrix2.results.dist_matrix.shape)"
      ],
      "execution_count": null,
      "outputs": []
    },
    {
      "cell_type": "markdown",
      "metadata": {
        "id": "Jzg3cDU57w_U"
      },
      "source": [
        "We can use the common plotting package matplotlib to create a heatmap from this array."
      ]
    },
    {
      "cell_type": "code",
      "metadata": {
        "id": "bPWLyfi57wS8"
      },
      "source": [
        "#Here we plot the Monomer RMSD matrix\n",
        "plt.imshow(matrix1.results.dist_matrix, cmap='viridis')\n",
        "plt.xlabel('Frame')\n",
        "plt.ylabel('Frame')\n",
        "plt.colorbar(label='RMSD (Angstrom)')\n"
      ],
      "execution_count": null,
      "outputs": []
    },
    {
      "cell_type": "code",
      "metadata": {
        "id": "kF3oMI0-c2dg"
      },
      "source": [
        "#Here we plot the Dimer RMSD matrix\n",
        "plt.imshow(matrix2.results.dist_matrix, cmap='viridis')\n",
        "plt.xlabel('Frame')\n",
        "plt.ylabel('Frame')\n",
        "plt.colorbar(label='RMSD (Angstrom)')"
      ],
      "execution_count": null,
      "outputs": []
    },
    {
      "cell_type": "markdown",
      "source": [
        "QUESTION: can you comment on what these matrices are showing?"
      ],
      "metadata": {
        "id": "Dh41K20pTG7C"
      }
    },
    {
      "cell_type": "markdown",
      "source": [
        "##Part II – Principal Component Analysis"
      ],
      "metadata": {
        "id": "Trp2Hb8HdFW0"
      }
    },
    {
      "cell_type": "markdown",
      "metadata": {
        "id": "GXFdRgdBk6aR"
      },
      "source": [
        "###II.1 - Principal Component Analysis  "
      ]
    },
    {
      "cell_type": "code",
      "metadata": {
        "id": "gCUVigIggMYv"
      },
      "source": [
        "#Import things\n",
        "import MDAnalysis as mda\n",
        "from MDAnalysis.analysis import diffusionmap, align\n",
        "import matplotlib.pyplot as plt\n",
        "%matplotlib inline"
      ],
      "execution_count": null,
      "outputs": []
    },
    {
      "cell_type": "code",
      "metadata": {
        "id": "noZuReXMvAyZ"
      },
      "source": [
        "# Align the trajectory\n",
        "aligner2 = align.AlignTraj(dimer_mobile, dimer_mobile, select='protein and backbone', in_memory=True).run()\n"
      ],
      "execution_count": null,
      "outputs": []
    },
    {
      "cell_type": "markdown",
      "metadata": {
        "id": "E6XuQih0xGBv"
      },
      "source": [
        "####Overview of the method\n",
        "**Principal component analysis (PCA)** is a statistical technique that decomposes a system of observations into linearly uncorrelated variables called principal components. These components are ordered so that the first principal component accounts for the largest variance in the data, and each following component accounts for lower and lower variance. PCA is often applied to molecular dynamics trajectories to **extract the large-scale conformational motions or “essential dynamics” of a protein**. The frame-by-frame conformational fluctuation can be considered a linear combination of the essential dynamics yielded by the PCA.\n",
        "\n",
        "In MDAnalysis, the method is as follows:\n",
        "\n",
        "> Optionally align each frame in your trajectory to the first frame.\n",
        "Construct a 3N x 3N covariance for the N atoms in your trajectory. Optionally, you can provide a mean; otherwise the covariance is to the averaged structure over the trajectory.\n",
        "Diagonalise the covariance matrix. The eigenvectors are the principal components, and their eigenvalues are the associated variance.\n",
        "Sort the eigenvalues so that the principal components are ordered by variance.\n",
        "\n"
      ]
    },
    {
      "cell_type": "code",
      "metadata": {
        "id": "W90-_7ugbZ3t"
      },
      "source": [
        "import MDAnalysis as mda\n",
        "import MDAnalysis.analysis.pca as pca\n",
        "from MDAnalysis.coordinates.base import Timestep\n",
        "\n",
        "import numpy as np\n",
        "import os\n",
        "import glob\n",
        "\n",
        "import pandas as pd\n",
        "import seaborn as sns\n",
        "\n",
        "import matplotlib.pyplot as plt\n",
        "import matplotlib.cm\n",
        "import matplotlib.ticker as ticker\n",
        "%matplotlib inline"
      ],
      "execution_count": null,
      "outputs": []
    },
    {
      "cell_type": "markdown",
      "metadata": {
        "id": "v93A5EeHvpEE"
      },
      "source": [
        "#### Call the PCA function\n",
        "You can choose how many principal components to save from the analysis with n_components. The default value is None, which saves all of them. You can also pass a mean reference structure to be used in calculating the covariance matrix. With the default value of None, the covariance uses the mean coordinates of the trajectory."
      ]
    },
    {
      "cell_type": "code",
      "metadata": {
        "id": "mKFPVAQ0vOfB"
      },
      "source": [
        "pcu2 = pca.PCA(dimer_mobile, select='protein and backbone',\n",
        "             align=True, mean=None,\n",
        "             n_components=None).run()\n"
      ],
      "execution_count": null,
      "outputs": []
    },
    {
      "cell_type": "markdown",
      "metadata": {
        "id": "DdFOUyGFvaQO"
      },
      "source": [
        "#### The principal components are saved in pc.p_components.\n",
        "If you kept all the components, you should have an array of shape (natoms×3,natoms×3)\n"
      ]
    },
    {
      "cell_type": "code",
      "metadata": {
        "id": "F79tsnHVvRAM"
      },
      "source": [
        "backbone2 = dimer_mobile.select_atoms('protein and backbone')\n",
        "n_bb2 = len(backbone2)\n",
        "print('There are {} backbone atoms in the analysis'.format(n_bb2))\n",
        "print(pcu2.results.p_components.shape)"
      ],
      "execution_count": null,
      "outputs": []
    },
    {
      "cell_type": "markdown",
      "metadata": {
        "id": "OvA3H3sYvVrb"
      },
      "source": [
        "#### Get the variance of the first component"
      ]
    },
    {
      "cell_type": "code",
      "metadata": {
        "id": "perlwGt7vYqh"
      },
      "source": [
        "pcu2.results.variance[0]"
      ],
      "execution_count": null,
      "outputs": []
    },
    {
      "cell_type": "markdown",
      "metadata": {
        "id": "2y-4zRz-v2M9"
      },
      "source": [
        "This variance is somewhat meaningless by itself. It is much more intuitive to consider the variance of a principal component as a percentage of the total variance in the data. MDAnalysis also tracks the percentage cumulative variance in pc.cumulated_variance. As shown below, the first principal component contains 21.7% the total trajectory variance. The first four components combined account for 59.3% of the total variance."
      ]
    },
    {
      "cell_type": "code",
      "metadata": {
        "id": "GPW4qy_dv5jg"
      },
      "source": [
        "print(pcu2.results.cumulated_variance[0])\n",
        "print(pcu2.results.cumulated_variance[1])\n",
        "print(pcu2.results.cumulated_variance[2])\n",
        "print(pcu2.results.cumulated_variance[3])"
      ],
      "execution_count": null,
      "outputs": []
    },
    {
      "cell_type": "code",
      "metadata": {
        "id": "MufHaeATv8E8"
      },
      "source": [
        "plt.plot(pcu2.results.cumulated_variance[:10])\n",
        "plt.xlabel('Principal component')\n",
        "plt.ylabel('Cumulative variance');"
      ],
      "execution_count": null,
      "outputs": []
    },
    {
      "cell_type": "markdown",
      "source": [
        "QUESTION: how many component you need to capture 90% of the motion variability? The answer would allow you to say that most of the motion in your trajectory can be described using X numbers instead than the thousands of coordinates of the atoms in the system"
      ],
      "metadata": {
        "id": "3wHQ5iI6TcsZ"
      }
    },
    {
      "cell_type": "markdown",
      "metadata": {
        "id": "ZX09IPDUv-hj"
      },
      "source": [
        "#### Visualising projections into a reduced dimensional space"
      ]
    },
    {
      "cell_type": "markdown",
      "metadata": {
        "id": "X3htP5eVwC2X"
      },
      "source": [
        "The pc.transform() method transforms a given atom group into weights $w_i$\n",
        " over each principal component $i$\n",
        ".\n",
        "\n",
        "$w_i(t)=(r(t)−r⎯⎯⎯)⋅u_i$\n",
        "\n",
        "$r(t)$\n",
        " are the atom group coordinates at time t\n",
        ", r⎯⎯⎯\n",
        " are the mean coordinates used in the PCA, and ui\n",
        " is the i\n",
        "th principal component eigenvector u\n",
        ".\n",
        "\n",
        "While the given atom group must have the same number of atoms that the principal components were calculated over, it does not have to be the same group.\n",
        "\n",
        "Again, passing n_components=None will tranform your atom group over every component. Below, we limit the output to projections over 5 principal components only."
      ]
    },
    {
      "cell_type": "code",
      "metadata": {
        "id": "YLCfXA2qv_7s"
      },
      "source": [
        "transformed2 = pcu2.transform(backbone2, n_components=2)\n",
        "transformed2.shape"
      ],
      "execution_count": null,
      "outputs": []
    },
    {
      "cell_type": "markdown",
      "metadata": {
        "id": "syXNAaomwIHP"
      },
      "source": [
        "The output has the shape (n_frames, n_components). For easier analysis and plotting we can turn the array into a DataFrame."
      ]
    },
    {
      "cell_type": "code",
      "metadata": {
        "id": "AghKaAoLwFbk"
      },
      "source": [
        "df2 = pd.DataFrame(transformed2,\n",
        "                  columns=['PC{}'.format(i+1) for i in range(2)])\n",
        "df2['Time (ns)'] = df2.index * dimer_mobile.trajectory.dt\n",
        "df2.head()"
      ],
      "execution_count": null,
      "outputs": []
    },
    {
      "cell_type": "markdown",
      "metadata": {
        "id": "GQxf4vMQwTuM"
      },
      "source": [
        "A way to investigate the essential motions of the trajectory is to project the original trajectory onto each of the principal components, to visualise the motion of the principal component. The product of the weights $w_i(t)$\n",
        " for principal component $_i$\n",
        " with the eigenvector $u_i$\n",
        " describes fluctuations around the mean on that axis, so the projected trajectory $r_i(t)$\n",
        " is simply the fluctuations added onto the mean positions r⎯⎯⎯\n",
        ".\n",
        "\n",
        "$r_i(t)=w_i(t)×u_i+r$\n",
        "Below, we generate the projected coordinates of the first principal component. The mean positions are stored at pc.mean."
      ]
    },
    {
      "cell_type": "code",
      "metadata": {
        "id": "aFBtIMwQwbG4"
      },
      "source": [
        "pc1u2 = pcu2.results.p_components[:, 0]\n",
        "trans1u2 = transformed2[:, 0]\n",
        "projectedu2 = np.outer(trans1u2, pc1u2)\n",
        "coordinatesu2 = projectedu2.reshape(len(trans1u2), -1, 3) - pcu2.mean"
      ],
      "execution_count": null,
      "outputs": []
    },
    {
      "cell_type": "markdown",
      "metadata": {
        "id": "m15lNZUvwc55"
      },
      "source": [
        "We can create a new universe from this to visualise the movement over the first principal component."
      ]
    },
    {
      "cell_type": "code",
      "metadata": {
        "id": "9Rmitdxawdeo"
      },
      "source": [
        "proj1 = mda.Merge(backbone2)\n",
        "proj1.load_new(coordinatesu2, order=\"fac\")"
      ],
      "execution_count": null,
      "outputs": []
    },
    {
      "cell_type": "code",
      "source": [
        "from google.colab import output\n",
        "output.enable_custom_widget_manager()\n",
        "import nglview as nv\n",
        "view = nv.show_mdanalysis(proj1.atoms)\n",
        "view"
      ],
      "metadata": {
        "id": "oaRyUmXbUBVP"
      },
      "execution_count": null,
      "outputs": []
    },
    {
      "cell_type": "code",
      "source": [],
      "metadata": {
        "id": "clSVZY99WeCF"
      },
      "execution_count": null,
      "outputs": []
    }
  ]
}