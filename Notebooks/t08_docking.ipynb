{
  "nbformat": 4,
  "nbformat_minor": 0,
  "metadata": {
    "colab": {
      "name": "t08_docking.ipynb",
      "provenance": [],
      "include_colab_link": true
    },
    "kernelspec": {
      "name": "python3",
      "display_name": "Python 3"
    }
  },
  "cells": [
    {
      "cell_type": "markdown",
      "metadata": {
        "id": "view-in-github",
        "colab_type": "text"
      },
      "source": [
        "<a href=\"https://colab.research.google.com/github/carlocamilloni/Structural-Bioinformatics/blob/main/Notebooks/t08_docking.ipynb\" target=\"_parent\"><img src=\"https://colab.research.google.com/assets/colab-badge.svg\" alt=\"Open In Colab\"/></a>"
      ]
    },
    {
      "cell_type": "markdown",
      "metadata": {
        "id": "WutUwTFo2e4j"
      },
      "source": [
        "# Molecular Docking using AutoDock VINA"
      ]
    },
    {
      "cell_type": "markdown",
      "source": [
        "The aim of these exercises is to familiarise with tools to perform the target or blid docking of small molecules onto protein targets. The reference theory is that of Lecture 8:\n",
        "\n",
        "*   https://github.com/carlocamilloni/Structural-Bioinformatics/blob/main/Notes/08_StructurePredictionDocking.pdf"
      ],
      "metadata": {
        "id": "gyainDgR9Zfj"
      }
    },
    {
      "cell_type": "markdown",
      "source": [
        "## Introduction"
      ],
      "metadata": {
        "id": "qckvTK61RwC1"
      }
    },
    {
      "cell_type": "markdown",
      "metadata": {
        "id": "FQMdCpigVK-X"
      },
      "source": [
        "**Molecular docking simulations** explore the potential binding poses of small molecules on the **binding site** of a target protein for which an experimentally determined or predicted structure is available.\n",
        "\n",
        "Thus, the **_druggability_** of different compounds and their binding affinity on a given protein target can be calculated for further lead optimization processes."
      ]
    },
    {
      "cell_type": "markdown",
      "metadata": {
        "id": "mD5dj8UMSqEC"
      },
      "source": [
        "<figure>\n",
        "<center>\n",
        "<img src='https://raw.githubusercontent.com/pb3lab/ibm3202/master/images/docking_01.png'/>\n",
        "<figcaption>FIGURE 1. In molecular docking, binding is evaluated in two steps: A) Energetics of the transition of the unbound states of ligand and target towards the conformations of the bound complex; and B) energetics of protein-ligand binding in these conformations. <br> Huey R et al (2007) <i>J Comput Chem 28(6), 1145-1152.</i></figcaption></center>\n",
        "</figure>"
      ]
    },
    {
      "cell_type": "markdown",
      "metadata": {
        "id": "A8w7VY84UDOc"
      },
      "source": [
        "Molecular docking programs perform a **search algorithm** in which varying conformations of a given ligand, typically generated using Monte Carlo or Genetic algorithms, are recursively evaluated until convergence to an energy minimum is reached. Finally, through an **affinity scoring function**, a ΔG [binding free energy in kcal/mol] is estimated and employed to rank the candidate poses as the sum of several energetic contributions (electrostatics, van der Waals, desolvation, etc)."
      ]
    },
    {
      "cell_type": "markdown",
      "metadata": {
        "id": "eiopP7EdVjqt"
      },
      "source": [
        "###Experimental Overview"
      ]
    },
    {
      "cell_type": "markdown",
      "metadata": {
        "id": "4CMeTYlZVo6P"
      },
      "source": [
        "In this task you will perfom a docking assay of **indinavir**, an active component of the **antiretroviral therapy to treat HIV**, onto the binding site of its target protein, **HIV-2 protease**.\n",
        "\n",
        "For our laboratory session, we will install and use **MGLtools** (and alternatively **pdb2pqr**) to prepare the target protein files, **OpenBabel** to prepare the ligand files, **AutoDock Vina** for the docking procedure and **py3Dmol** to establish the appropriate search grid configuration and analyze the results."
      ]
    },
    {
      "cell_type": "markdown",
      "metadata": {
        "id": "xkpCp93eQsUS"
      },
      "source": [
        "<figure>\n",
        "<center>\n",
        "<img src='https://raw.githubusercontent.com/pb3lab/ibm3202/master/images/docking_02.png' />\n",
        "<figcaption>FIGURE 2. General steps of molecular docking. First, the target protein and ligand or ligands are parameterized. Then, the system is prepared by setting up the search grid. Once the docking calculation is performed, ligand poses are scored based on a given energy function. Lastly, the computational search is processed and compared against experimental data for validation <br><i>Taken from Pars Silico (en.parssilico.com).</i></figcaption></center>\n",
        "</figure>"
      ]
    },
    {
      "cell_type": "markdown",
      "metadata": {
        "id": "buTRd47h4QfK"
      },
      "source": [
        "## Part 0 – Downloading and Installing the required software"
      ]
    },
    {
      "cell_type": "markdown",
      "metadata": {
        "id": "KSAoowL_4XIV"
      },
      "source": [
        "Before we start, you must first **remember to start the hosted runtime in Google Colab**.\n",
        "\n",
        "Then, we must install several pieces of software to perform this tutorial. Namely:\n",
        "- **py3Dmol** for visualization of the protein structure and setting up the search grid.\n",
        "- **miniconda**, a free minimal installer of **conda** for software package and environment management.\n",
        "- **OpenBabel** for parameterization of our ligand(s).\n",
        "- **MGLtools** for parameterization of our target protein using Gasteiger charges.\n",
        "- **pdb2pqr** for parameterization of our protein using the AMBER ff99 forcefield.\n",
        "- **Autodock Vina** for the docking process"
      ]
    },
    {
      "cell_type": "markdown",
      "source": [
        "**WARNING** run the next cell and wait for it to finish before going to next"
      ],
      "metadata": {
        "id": "f57I4qGocFeV"
      }
    },
    {
      "cell_type": "code",
      "metadata": {
        "id": "flYkISi4RpqN"
      },
      "source": [
        "#Install conda using the new conda-colab library\n",
        "!pip install -q condacolab\n",
        "import condacolab\n",
        "condacolab.install()"
      ],
      "execution_count": null,
      "outputs": []
    },
    {
      "cell_type": "markdown",
      "source": [
        "**WARNING** run the above cell and wait for it to finish before going to next"
      ],
      "metadata": {
        "id": "SVJRueiOcNbc"
      }
    },
    {
      "cell_type": "code",
      "source": [
        "!pip install -q py3Dmol kora pdb2pqr"
      ],
      "metadata": {
        "id": "cUEi9Ozmd2IG"
      },
      "execution_count": null,
      "outputs": []
    },
    {
      "cell_type": "code",
      "source": [
        "#Install MGLtools and OpenBabel from the bioconda repository\n",
        "!conda install -q -c conda-forge rdkit zlib --yes\n",
        "!conda install -q -c bioconda mgltools openbabel"
      ],
      "metadata": {
        "id": "3LrXX0HoUp4w"
      },
      "execution_count": null,
      "outputs": []
    },
    {
      "cell_type": "markdown",
      "metadata": {
        "id": "sHLis6QRm0lD"
      },
      "source": [
        "Make a Task8 folder for the task in you google drive and copy  the notebook there. Then mount google drive on Colab"
      ]
    },
    {
      "cell_type": "code",
      "metadata": {
        "id": "gYhjS-ummpyn"
      },
      "source": [
        "from google.colab import drive\n",
        "drive.mount('/content/drive')"
      ],
      "execution_count": null,
      "outputs": []
    },
    {
      "cell_type": "markdown",
      "metadata": {
        "id": "mac-A24aoHzI"
      },
      "source": [
        "Set your working path"
      ]
    },
    {
      "cell_type": "code",
      "metadata": {
        "id": "eZ0HnfqfoJ9T"
      },
      "source": [
        "local_path='/content/drive/MyDrive/Structural_Bioinformatics/Task8'   # PASTE YOUR LOCAL PATH IN PLACE OF /content\n",
        "%cd {local_path}"
      ],
      "execution_count": null,
      "outputs": []
    },
    {
      "cell_type": "code",
      "metadata": {
        "id": "BPObwIbRnGJI"
      },
      "source": [
        "#Checking that pdb2pqr was properly installed\n",
        "!pdb2pqr -h"
      ],
      "execution_count": null,
      "outputs": []
    },
    {
      "cell_type": "markdown",
      "metadata": {
        "id": "1poPd39lTsPv"
      },
      "source": [
        "3. And then we will install conda to be able to install MGLtools and OpenBabel"
      ]
    },
    {
      "cell_type": "markdown",
      "metadata": {
        "id": "T8Mbw9KE6Xss"
      },
      "source": [
        "4. Finally, we will download the Autodock Vina program from the Scripps website and make an alias to use it during this session"
      ]
    },
    {
      "cell_type": "code",
      "metadata": {
        "id": "k4UpudGkCUYn"
      },
      "source": [
        "%cd {local_path}\n",
        "#Download and extract Autodock Vina from SCRIPPS\n",
        "#Then, we set up an alias for vina to be treated as a native binary\n",
        "!wget --no-check-certificate https://github.com/ccsb-scripps/AutoDock-Vina/releases/download/v1.2.5/vina_1.2.5_linux_x86_64\n",
        "!chmod +x vina_1.2.5_linux_x86_64"
      ],
      "execution_count": null,
      "outputs": []
    },
    {
      "cell_type": "code",
      "metadata": {
        "id": "s-4Jw2Om7GEn"
      },
      "source": [
        "%alias vina '{local_path}'/vina_1.2.5_linux_x86_64"
      ],
      "execution_count": null,
      "outputs": []
    },
    {
      "cell_type": "markdown",
      "metadata": {
        "id": "5j24YCyD7Zlf"
      },
      "source": [
        "Once these software installation processes are completed, we are ready to perform our experiments"
      ]
    },
    {
      "cell_type": "markdown",
      "metadata": {
        "id": "bMaDj9PdZNlL"
      },
      "source": [
        "## Part 1 – Downloading and Preparing the Receptor for AutoDock Vina"
      ]
    },
    {
      "cell_type": "markdown",
      "metadata": {
        "id": "NGNLlfnU748_"
      },
      "source": [
        "1. The first step in a molecular docking procedure is to have a structure of a given target protein. While in some cases a high-quality comparative model will be used, most cases start with an experimentally (X-ray, NMR, cryoEM) solved three-dimensional structure.\n",
        "\n",
        "  In such cases, a given target protein structure is downloaded from the **Protein Data Bank (PDB)** (https://www.rcsb.org/pdb) using a given accession ID. For example, the PET hydrolase solved by our lab has the accession ID 6ANE.\n",
        "\n",
        "  For this tutorial, we will use the structure of the HIV-2 protease, solved using X-ray crystallography and deposited in the PDB with the accession ID 1HSG. We can directly download this structure from the PDB using *wget* and extracting it using *gzip*:"
      ]
    },
    {
      "cell_type": "code",
      "metadata": {
        "id": "9j_NvhBRhVA0"
      },
      "source": [
        "#Download a protein structure from PDB using and extract it\n",
        "#!wget http://www.rcsb.org/pdb/files/[PDB_ID].pdb.gz\n",
        "#!gzip -d [PDB_ID].pdb.gz\n",
        "!wget http://www.rcsb.org/pdb/files/1HSG.pdb.gz\n",
        "!gzip -d 1HSG.pdb.gz"
      ],
      "execution_count": null,
      "outputs": []
    },
    {
      "cell_type": "markdown",
      "metadata": {
        "id": "rGxSfayJ9OCP"
      },
      "source": [
        "2. In the case of X-ray diffraction, this experimental strategy does not discriminate between electron density coming from static protein atoms or water molecules, meaning that most protein structures solved by X-ray diffraction also include so-called **crystallographic waters** (check the non-bonded red dots on the protein structure below). These molecules are not important for our particular docking simulation, and we also have to remove them.\n",
        "<figure>\n",
        "<center>\n",
        "<img src='https://raw.githubusercontent.com/pb3lab/ibm3202/master/images/docking_03.png' />\n",
        "<figcaption>FIGURE 3. Cartoon representation of HIV-2 protease dimer (PDB accession ID 1HSG), with its N-to-C-terminal residues colored from blue to red in rainbow spectrum, showing the crystallographic waters as red spheres.</i></figcaption></center>\n",
        "</figure>\n",
        "\n",
        "  Typically, this can be easily done by extracting all of the lines from the PDB file that start with **\"ATOM\"**, as this is how all of the atoms that belong to amino and nucleic acid residues are termed. In contrasts, the atoms from ligands, water molecules and other non-protein/non-nucleic residues are commonly referred to as **\"HETATM\"**. Also, the different chains of an oligomer are separated by a **\"TER\"** string, which is important to keep in our case.\n",
        "\n",
        "  The following **python script** will first create a folder in which we will store all data related to our molecular docking experiment. Then, it will extract all lines matching the string \"ATOM\" (for the protein atoms) or \"TER\" (for the chain separations) into a separate PDB file for further processing. Please take a good look at it."
      ]
    },
    {
      "cell_type": "code",
      "metadata": {
        "id": "_iZeeP0_BrpV"
      },
      "source": [
        "#This script will create a folder called \"single-docking\" for our experiment\n",
        "#Then, it will print all \"ATOM\" and \"TER\" lines from a given PDB into a new file\n",
        "\n",
        "#Let's make a folder first. We need to import the os and path library\n",
        "import os\n",
        "from pathlib import Path\n",
        "\n",
        "#Then, we define the path of the folder we want to create.\n",
        "#ADAPT TO YOUR GOOGLE DRIVE ORGANIZATION\n",
        "singlepath = Path(\"single-dock/\")\n",
        "\n",
        "#Now, we create the folder using the os.mkdir() command\n",
        "#The if conditional is just to check whether the folder already exists\n",
        "#In which case, python returns an error\n",
        "if os.path.exists(singlepath):\n",
        "  print(\"path already exists\")\n",
        "if not os.path.exists(singlepath):\n",
        "  os.mkdir(singlepath)\n",
        "  print(\"path was succesfully created\")\n",
        "\n",
        "#Now we assign a variable \"protein\" with the name and extension of our pdb\n",
        "protein = \"1HSG.pdb\"\n",
        "\n",
        "#And we use the following script to selectively print the lines that contain the\n",
        "#string \"ATOM\" and \"TER\" into a new file inside our recently created folder\n",
        "with open(singlepath / \"1HSG_prot.pdb\",\"w\") as g:\n",
        "  f = open(protein,'r')\n",
        "  for line in f:\n",
        "    row = line.split()\n",
        "    if row[0] == \"ATOM\":\n",
        "      g.write(line)\n",
        "    elif row[0] == \"TER\":\n",
        "      g.write(\"TER\\n\")\n",
        "  g.write(\"END\")\n",
        "  print(\"file successfully created\")"
      ],
      "execution_count": null,
      "outputs": []
    },
    {
      "cell_type": "markdown",
      "metadata": {
        "id": "Qzw3p0A04Yol"
      },
      "source": [
        "3. Once we printed out the \"ATOM\" lines of the parent PDB file, we have a new file that contains  the coordinates of our protein target.\n",
        "\n",
        "  However, for AutoDock to perform a molecular docking experiment, the protein target must contain information about the partial charges of each atom and atom types that are compatible with AutoDock. Such format is referred to as **PDBQT**, a modification of the PDB format that also includes **charges (q)** and **AutoDock-specific atom types (t)** in two extra columns at the end of the now PDBQT file.\n",
        "\n",
        "  Lastly, the protein target must contain **all polar hydrogens**. Most protein structures have no hydrogens included, meaning that we must add them.\n",
        "\n",
        "  This is the part of the tutorial where you have **two different options** to proceed with your experiment!"
      ]
    },
    {
      "cell_type": "markdown",
      "metadata": {
        "id": "dZzmg5Vt8YBe"
      },
      "source": [
        "3. a) Add the polar hydrogens of your protein and parameterize it with **Gasteiger** charges and atom types using **MGLtools** (this is the canonical option for the majority of AutoDock users)"
      ]
    },
    {
      "cell_type": "code",
      "metadata": {
        "id": "2CdkBcwcQxk8"
      },
      "source": [
        "#Parameterizing and adding Gasteiger charges into our protein using MGLtools\n",
        "!prepare_receptor4.py -r single-dock/1HSG_prot.pdb -o single-dock/1HSG_prot.pdbqt -A hydrogens -U nphs_lps -v"
      ],
      "execution_count": null,
      "outputs": []
    },
    {
      "cell_type": "markdown",
      "metadata": {
        "id": "Mg5oSpCb_9AO"
      },
      "source": [
        "3. b) Add the polar hydrogens of your protein and parameterize it based on the pKa of each aminoacid at pH 7.4 with the **AMBER99ff** force field using **pdb2pqr**, followed by deletion of non-polar hydrogens and conversion into **PDBQT** file using **MGLtools**.\n",
        "\n",
        "  In this case, pdb2pqr generates an intermediate **PQR** file, a modification of the PDB format which allows users to add charge and radius parameters to existing PDB data. This information is then unaltered during the use of **MGLtools**."
      ]
    },
    {
      "cell_type": "code",
      "metadata": {
        "id": "Gvq9H_C6DJvU"
      },
      "source": [
        "#First, using pdb2pqr to parameterize our receptor with AMBER99ff, maintaining\n",
        "#the chain IDs and setting up the receptor at a pH of 7.4\n",
        "!pdb2pqr --ff=AMBER --keep-chain --with-ph=7.4 single-dock/1HSG_prot.pdb single-dock/1HSG_prot.pqr\n",
        "\n",
        "#Then, convert the .pqr file into a .pdbqt file while deleting non-polar\n",
        "#hydrogens but without changing the AMBER parameters added to the protein\n",
        "!prepare_receptor4.py -r single-dock/1HSG_prot.pqr -o single-dock/1HSG_prot.pdbqt -C -U nphs_lps -v"
      ],
      "execution_count": null,
      "outputs": []
    },
    {
      "cell_type": "markdown",
      "metadata": {
        "id": "6GCejhZNGjcV"
      },
      "source": [
        "**You are all set with your target protein!**\n",
        "\n",
        ">Before we move onto preparing the ligand for molecular docking, please consider the following questions:\n",
        "- Why is it important to add hydrogens for the purposes of our docking simulations?\n",
        "- Why are we only adding polar hydrogens?\n",
        "- Do you believe that using different force fields could have an effect on your docking results? (this is something you can actually test!)\n",
        "\n"
      ]
    },
    {
      "cell_type": "markdown",
      "metadata": {
        "id": "B4j--lVNGsDg"
      },
      "source": [
        "## Part 2 – Downloading and Preparing the Ligand for AutoDock Vina"
      ]
    },
    {
      "cell_type": "markdown",
      "metadata": {
        "id": "Feav4RTWH3Ol"
      },
      "source": [
        "1. We now need to prepare the ligand that we will use for our docking analysis. In our case, we will use **Indinavir**. This drug is a protease inhibitor used as a component of the antiretroviral therapy to treat HIV/AIDS, aiding in decreasing the viral load. In this opportunity, we will attempt to predict the docking pose of indinavir onto the binding site of the HIV-2 protease.\n",
        "\n",
        "  We will first start by creating a folder in which we will store our ligands for molecular docking."
      ]
    },
    {
      "cell_type": "code",
      "metadata": {
        "id": "LX_ojmvdBTd4"
      },
      "source": [
        "%cd {local_path}\n",
        "#Let's make a folder first. We need to import the os and path library\n",
        "import os\n",
        "from pathlib import Path\n",
        "\n",
        "#We will first create a path for all ligands that we will use in this tutorial\n",
        "#Notice that the HOME folder for a hosted runtime in colab is /content/\n",
        "ligandpath = Path(\"ligands/\")\n",
        "\n",
        "#Now, we create the folder using the os.mkdir() command\n",
        "#The if conditional is just to check whether the folder already exists\n",
        "#In which case, python returns an error\n",
        "if os.path.exists(ligandpath):\n",
        "  print(\"ligand path already exists\")\n",
        "if not os.path.exists(ligandpath):\n",
        "  os.mkdir(ligandpath)\n",
        "  print(\"ligand path was succesfully created\")"
      ],
      "execution_count": null,
      "outputs": []
    },
    {
      "cell_type": "markdown",
      "metadata": {
        "id": "tLanf4sTChrO"
      },
      "source": [
        "2. Now, we will download indinavir from the **DrugBank** database (*Nucleic Acids Res\n",
        ". 2006; 34, D668-72*). This is comprehensive, freely accessible, online database containing information on drugs and drug targets. You can actually check the detailed chemical, pharmacological and pharmaceutical information on Indinavir [in this DrugBank link](https://www.drugbank.ca/drugs/DB00224).\n",
        "\n",
        "  We will download this ligand in SMILES format to continue with its preparation for molecular docking\n",
        "\n"
      ]
    },
    {
      "cell_type": "code",
      "metadata": {
        "id": "iuI8pBj7aryA"
      },
      "source": [
        "#Downloading Indinavir from the DrugBank database in SMILES format\n",
        "!wget https://www.drugbank.ca/structures/small_molecule_drugs/DB00224.smiles -P ligands/"
      ],
      "execution_count": null,
      "outputs": []
    },
    {
      "cell_type": "markdown",
      "metadata": {
        "id": "NEM5fwsTFcXd"
      },
      "source": [
        "3. Hey! But what is a SMILES format? Well, the **Simplified Molecular-Input Line-Entry System** (SMILES) is a text notation that allows a user to represent a chemical structure in a way that can be used by the computer. The elemental notation for different types of bonds between different atoms is as follows:\n",
        "\n",
        "  \\-\tfor single bonds (eg. C-C or CC is CH3CH3)\n",
        "\n",
        "  \\=\tfor double bonds (eg. C=C for CH2CH2)\n",
        "\n",
        "  \\#\tfor triple bonds (eg. C#N for C≡N)\n",
        "\n",
        "  \\\tfor aromatic bond (eg. C\\*1\\*C\\*C\\*C\\*C\\*C1 or c1ccccc1 for benzene)\n",
        "\n",
        "  \\. for disconnected structures (eg. Na.Cl for NaCl)\n",
        "\n",
        "  / and \\ for double bond stereoisomers (eg. F/C=C/F for trans-1,2-difluoroethylene and F/C=C\\F for cis-1,2-difluoroethylene)\n",
        "\n",
        "  @ and @@ for enantiomers (eg. N\\[C@@H](C)C(=O)O for L-alanine and N\\[C@H](C)C(=O)O for D-alanine)\n",
        "\n",
        "  **Let's take a look at the SMILES of Indinavir!**"
      ]
    },
    {
      "cell_type": "code",
      "metadata": {
        "id": "DWW3DTsY_J4F"
      },
      "source": [
        "#Print the SMILES of indinavir to see what it is all about\n",
        "print((ligandpath / \"DB00224.smiles\").read_text())"
      ],
      "execution_count": null,
      "outputs": []
    },
    {
      "cell_type": "code",
      "metadata": {
        "id": "PjvRbRRMHrw_"
      },
      "source": [
        "#Use the following viewer to load your SMILES as a 3D molecule\n",
        "import py3Dmol\n",
        "import kora.install.rdkit\n",
        "from rdkit import Chem\n",
        "from rdkit.Chem import AllChem\n",
        "\n",
        "def MolTo3DView(mol, size=(300, 300), style=\"stick\", surface=False, opacity=0.5):\n",
        "    assert style in ('line', 'stick', 'sphere', 'carton')\n",
        "    mblock = Chem.MolToMolBlock(mol)\n",
        "    viewer = py3Dmol.view()\n",
        "    viewer.addModel(mblock, 'mol')\n",
        "    viewer.setStyle({style:{}})\n",
        "    if surface:\n",
        "        viewer.addSurface(py3Dmol.SAS, {'opacity': opacity})\n",
        "    viewer.zoomTo()\n",
        "    return viewer\n",
        "\n",
        "from ipywidgets import interact,fixed,IntSlider\n",
        "import ipywidgets\n",
        "\n",
        "def smi2conf(smiles):\n",
        "    '''Convert SMILES to rdkit.Mol with 3D coordinates'''\n",
        "    mol = Chem.MolFromSmiles(smiles)\n",
        "    if mol is not None:\n",
        "        mol = Chem.AddHs(mol)\n",
        "        AllChem.EmbedMolecule(mol)\n",
        "        AllChem.MMFFOptimizeMolecule(mol, maxIters=200)\n",
        "        return mol\n",
        "    else:\n",
        "        return None\n",
        "\n",
        "@interact\n",
        "def smi2viewer(smi='PASTE HERE YOUR SMILE'):\n",
        "    try:\n",
        "        conf = smi2conf(smi)\n",
        "        return MolTo3DView(conf).show()\n",
        "    except:\n",
        "        return None"
      ],
      "execution_count": null,
      "outputs": []
    },
    {
      "cell_type": "markdown",
      "metadata": {
        "id": "jYkw6q2gkGDH"
      },
      "source": [
        "4. Now, we will take this SMILES format and use it to construct and parameterize a three-dimensional structure of Indinavir in **PDBQT** format for its use in molecular docking. As with the receptor, we also have different options to prepare our ligand for molecular docking:"
      ]
    },
    {
      "cell_type": "markdown",
      "metadata": {
        "id": "OkjbrWHeooc_"
      },
      "source": [
        "4. a) Use the program **babel** to convert the SMILES into a **MOL2** file without any extra work (such as searching for best conformers) except for setting the protonation state to pH 7.4, and then use **MGLtools** to parameterize the ligand using **Gasteiger** partial charges (this is the canonical option for the majority of AutoDock users).\n",
        "\n",
        "  Please note that we are generating a ligand in which **all torsions are active** during the docking procedure."
      ]
    },
    {
      "cell_type": "code",
      "source": [
        "!which obabel"
      ],
      "metadata": {
        "id": "YuQxnskzhqHx"
      },
      "execution_count": null,
      "outputs": []
    },
    {
      "cell_type": "code",
      "metadata": {
        "id": "sGUHorvYnJ9k"
      },
      "source": [
        "%cd {local_path}/ligands\n",
        "#Converting Indinavir from SMILES into a 3D PDB format\n",
        "!obabel DB00224.smiles -O indinavir.mol2 --gen3d best -p 7.4 --canonical\n",
        "#Parameterizing and adding Gasteiger charges into our protein using MGLtools\n",
        "#Adding -z leads to a rigid ligand without any torsions\n",
        "!prepare_ligand4.py -l indinavir.mol2 -o ../single-dock/indinavir.pdbqt -U nphs_lps -v\n",
        "#NOTE: for some reason, MGLtools does not recognize the ligand when inside a different folder\n",
        "#Here we are deleting the temporary PDB file required for generating the PDBQT file\n",
        "import os\n",
        "os.remove(\"indinavir.mol2\")"
      ],
      "execution_count": null,
      "outputs": []
    },
    {
      "cell_type": "markdown",
      "metadata": {
        "id": "j9aZXCeVnJlv"
      },
      "source": [
        "4. b) Use the program **babel** to  convert the SMILES into a 3D **MOL2** file while simultaneously performing and energy minimization using the Generalized Amber Force Field (**GAFF**). Then, use **MGLtools** to parameterize the ligand using **Gasteiger** partial charges.\n",
        "\n",
        "  Please note that we are generating a ligand in which **all torsions are active** during the docking procedure."
      ]
    },
    {
      "cell_type": "code",
      "metadata": {
        "id": "RG6kDCBobRlT"
      },
      "source": [
        "%cd {local_path}\n",
        "#Converting Indinavir from SMILES into a 3D MOL2 format and perform an energy minimization of the conformer using the GAFF forcefield\n",
        "#Then, prepare ligand for docking using the Autodock script\n",
        "!obabel ligands//DB00224.smiles -O indinavir.mol2 --gen3d --best --canonical --minimize --ff GAFF --steps 10000 --sd\n",
        "!prepare_ligand4.py -l indinavir.mol2 -o single-dock/indinavir.pdbqt -U nphs_lps -v\n",
        "import os\n",
        "os.remove(\"indinavir.mol2\")"
      ],
      "execution_count": null,
      "outputs": []
    },
    {
      "cell_type": "markdown",
      "metadata": {
        "id": "PWxOC9h7qMVE"
      },
      "source": [
        "4. c) Use the program **babel** to  convert the SMILES into a 3D **MOL2** file while simultaneously performing a weighted rotor search for the lowest energy conformer using the Generalized Amber Force Field (**GAFF**). Then, use **MGLtools** to parameterize the ligand using **Gasteiger** partial charges.\n",
        "\n",
        "  Please note that we are generating a ligand in which **all torsions are active** during the docking procedure."
      ]
    },
    {
      "cell_type": "code",
      "metadata": {
        "id": "Zo0K2pO0o6LP"
      },
      "source": [
        "#Converting Indinavir from SMILES into a 3D MOL2 format and perform a weighted rotor search for lowest energy conformer\n",
        "#Then, prepare ligand for docking using the Autodock script\n",
        "!obabel ligands/DB00224.smiles -O indinavir.mol2 --gen3d --best --canonical --conformers --weighted --nconf 50 --ff GAFF\n",
        "!prepare_ligand4.py -l indinavir.mol2 -o single-dock/indinavir.pdbqt -U nphs_lps -v\n",
        "import os\n",
        "os.remove(\"indinavir.mol2\")"
      ],
      "execution_count": null,
      "outputs": []
    },
    {
      "cell_type": "markdown",
      "metadata": {
        "id": "83g5ZTtGTANG"
      },
      "source": [
        "**You are all set with your ligand!** Now, we move onto setting up the molecular docking experiment"
      ]
    },
    {
      "cell_type": "markdown",
      "metadata": {
        "id": "vZxnFIB-TW8X"
      },
      "source": [
        "## Part 3 – Setting up and Performing Molecular Docking with AutoDock Vina"
      ]
    },
    {
      "cell_type": "markdown",
      "metadata": {
        "id": "ltabEnTrWzdT"
      },
      "source": [
        "1. As explained in the lectures, it is necessary to define the search space for molecular docking on a given target protein through the use of a **grid box**. This grid box is usually centered within the binding, active or allosteric site of the target protein and its size will be sufficiently large such that **all binding residues are placed inside the grid box**.\n",
        "\n",
        "  Here, we will make use of **py3Dmol** to visually inspect the protein structure in cartoon representation and to draw a grid box. The position and size of the grid box will be defined by the coordinates of its centroid and by its dimensions in x, y and z.\n",
        "\n",
        "  To better guide the search for the optimal dimensions and coordinates of the grid box, we will also show the residues Val32, Ile47 and Val82 of HIV-2 protease.\n",
        "\n",
        "  The script that defines the visualizer, which we called **ViewProtGrid**, is first loaded into **Colab** with the following lines of code"
      ]
    },
    {
      "cell_type": "code",
      "metadata": {
        "id": "eyqcfX1ebPcg"
      },
      "source": [
        "#These definitions will enable loading our protein and then\n",
        "#drawing a box with a given size and centroid on the cartesian space\n",
        "#This box will enable us to set up the system coordinates for the simulation\n",
        "#\n",
        "#HINT: The active site of the HIV-2 protease is near the beta strands in green\n",
        "#\n",
        "#ACKNOWLEDGE: This script is largely based on the one created by Jose Manuel\n",
        "#Napoles Duarte, Physics Teacher at the Chemical Sciences Faculty of the\n",
        "#Autonomous University of Chihuahua (https://github.com/napoles-uach)\n",
        "#\n",
        "#First, we define the grid box\n",
        "def definegrid(object,bxi,byi,bzi,bxf,byf,bzf):\n",
        "  object.addBox({'center':{'x':bxi,'y':byi,'z':bzi},'dimensions': {'w':bxf,'h':byf,'d':bzf},'color':'blue','opacity': 0.6})\n",
        "\n",
        "#Next, we define how the protein will be shown in py3Dmol\n",
        "#Note that we are also adding a style representation for active site residues\n",
        "def viewprot(object,prot_PDBfile,resids):\n",
        "  mol1 = open(prot_PDBfile, 'r').read()\n",
        "  object.addModel(mol1,'pdb')\n",
        "  object.setStyle({'cartoon': {'color':'spectrum'}})\n",
        "  object.addStyle({'resi':resids},{'stick':{'colorscheme':'greenCarbon'}})\n",
        "\n",
        "#Lastly, we combine the box grid and protein into a single viewer\n",
        "def viewprotgrid(prot_PDBfile,resids,bxi,byi,bzi,bxf=10,byf=10,bzf=10):\n",
        "  mol_view = py3Dmol.view(1000,600)\n",
        "  definegrid(mol_view,bxi,byi,bzi,bxf,byf,bzf)\n",
        "  viewprot(mol_view,prot_PDBfile,resids)\n",
        "  mol_view.setBackgroundColor('0xffffff')\n",
        "  mol_view.zoomTo()\n",
        "  mol_view.show()\n"
      ],
      "execution_count": null,
      "outputs": []
    },
    {
      "cell_type": "markdown",
      "metadata": {
        "id": "22cz8leUL6P5"
      },
      "source": [
        "2. Now, we will use our ViewProtGrid to visualize the protein, binding site residues and a grid box of variable size and position that we can manipulate using a slider through *ipywidgets*. You have to edit this viewer by indicating the location of the PDB file in the *prot_PDBfile* variable (e.g. singlepath/'1HSG_prot.pdb') and the residues that you want to show from the PDB in the *resids* variable.\n",
        "\n",
        "\n",
        "Examples of how to use the *protein_PDBfile* variable\n",
        ">prot_PDBfile = ['1HSG_prot.pdb'] (if the PDB file is in the current path)\n",
        "\n",
        ">prot_PDBfile = [singlepath/'1HSG_prot.pdb'] (if the PDB file is in a path defined as singlepath)\n",
        "\n",
        "\n",
        "Examples of how to use the *resids* variable\n",
        "\n",
        ">resids = [82] shows a single residue in position 82)\n",
        "\n",
        ">resids = [82,83,84] shows residues 82, 83 or 84 separately, which you can select in the viewer\n",
        "\n",
        ">resids = [(82,83,84)] shows residue 82, 83 and 84 in the same visualization\n",
        "\n",
        ">resids = ['82-84'] shows residue range 82-84 in the same visualization\n",
        "\n",
        "**NOTE:** This code fails when attempting to show two non-consecutive residues in the same visualization.\n"
      ]
    },
    {
      "cell_type": "code",
      "metadata": {
        "id": "eLphxzcKKbcf"
      },
      "source": [
        "#Importing py3Dmol for safety\n",
        "import py3Dmol\n",
        "from ipywidgets import interact,fixed,IntSlider\n",
        "import ipywidgets\n",
        "interact(viewprotgrid,\n",
        "#ADD YOUR PDB LOCATION AND FILENAME HERE\n",
        "         prot_PDBfile =  '/content/drive/MyDrive/Structural_Bioinformatics/Task8/single-dock/1HSG_prot.pdb',\n",
        "#ADD THE RESIDUES YOU WANT TO VISUALIZE HERE\n",
        "         resids = ['32,47,82-84'],\n",
        "         bxi=ipywidgets.IntSlider(min=-40,max=40, step=1, value=15),\n",
        "         byi=ipywidgets.IntSlider(min=-40,max=40, step=1, value=29),\n",
        "         bzi=ipywidgets.IntSlider(min=-40,max=40, step=1, value=4),\n",
        "         bxf=ipywidgets.IntSlider(min=1,max=40, step=1, value=20),\n",
        "         byf=ipywidgets.IntSlider(min=1,max=40, step=1, value=20),\n",
        "         bzf=ipywidgets.IntSlider(min=1,max=40, step=1, value=20))"
      ],
      "execution_count": null,
      "outputs": []
    },
    {
      "cell_type": "markdown",
      "metadata": {
        "id": "75yCJ-eNS7Ia"
      },
      "source": [
        "3. Now, we will generate a configuration file for **Autodock**. As expected, the configuration file contains information about the target protein and ligand, as well as the position and dimensions of the grid box that defines the search space.\n",
        "\n",
        "  For defining the grid box, you will use the  box origin and size coordinates that you defined manually in the previous step.\n",
        "\n",
        "  The following is an example file of a standard **Autodock configuration file**, including all possible variables that can be edited:\n",
        "\n",
        "\n",
        "```\n",
        "#CONFIGURATION FILE\n",
        "\n",
        "#INPUT OPTIONS\n",
        "receptor = [target protein pdbqt file]\n",
        "ligand = [ligand pdbqt file]\n",
        "flex = [flexible residues in receptor in pdbqt format]\n",
        "\n",
        "#SEARCH SPACE CONFIGURATIONS\n",
        "#Center of the box (coordinates x, y and z\n",
        "center_x = [value]\n",
        "center_y = [value]\n",
        "center_z = [value]\n",
        "#Size of the box (dimensions in x, y and z)\n",
        "size_x = [value]\n",
        "size_y = [value]\n",
        "size_z = [value]\n",
        "\n",
        "#OUTPUT OPTIONS\n",
        "#out = [output pdbqt file for all conformations]\n",
        "#log = [output log file for binding energies]\n",
        "\n",
        "#OTHER OPTIONS\n",
        "cpu = [value] # more cpus reduces the computation time\n",
        "exhaustiveness = [value] # search time for finding the global minimum, default is 8\n",
        "num_modes = [value] # maximum number of binding modes to generate, default is 9\n",
        "energy_range = [value] # maximum energy difference between the best binding mode and the worst one displayed (kcal/mol), default is 3\n",
        "seed = [value] # explicit random seed, not required\n",
        "```\n",
        "\n",
        "The following script will create this file for our docking procedure. **You will need to add the position and dimensions of your grid box**\n"
      ]
    },
    {
      "cell_type": "code",
      "source": [
        "%cd {local_path}"
      ],
      "metadata": {
        "id": "y4f9I1MEiK04"
      },
      "execution_count": null,
      "outputs": []
    },
    {
      "cell_type": "code",
      "metadata": {
        "id": "Q8g2JIgB5fna"
      },
      "source": [
        "# You will need to add the position and dimensions of your grid box in CHANGEME places\n",
        "with open(singlepath / \"config_singledock\",\"w\") as f:\n",
        "  f.write(\"#CONFIGURATION FILE (options not used are commented) \\n\")\n",
        "  f.write(\"\\n\")\n",
        "  f.write(\"#INPUT OPTIONS \\n\")\n",
        "  f.write(\"receptor = 1HSG_prot.pdbqt \\n\")\n",
        "  f.write(\"ligand = indinavir.pdbqt \\n\")\n",
        "  f.write(\"#flex = [flexible residues in receptor in pdbqt format] \\n\")\n",
        "  f.write(\"#SEARCH SPACE CONFIGURATIONS \\n\")\n",
        "  f.write(\"#Center of the box (values bxi, byi and bzi) \\n\")\n",
        "#CHANGE THE FOLLOWING DATA WITH YOUR BOX CENTER COORDINATES\n",
        "  f.write(\"center_x = 14 \\n\")\n",
        "  f.write(\"center_y = 29 \\n\")\n",
        "  f.write(\"center_z = 5 \\n\")\n",
        "#CHANGE THE FOLLOWING DATA WITH YOUR BOX DIMENSIONS\n",
        "  f.write(\"#Size of the box (values bxf, byf and bzf) \\n\")\n",
        "  f.write(\"size_x = CHANGEME \\n\")\n",
        "  f.write(\"size_y = CHANGEME \\n\")\n",
        "  f.write(\"size_z = CHANGEME \\n\")\n",
        "  f.write(\"#OUTPUT OPTIONS \\n\")\n",
        "  f.write(\"#out = \\n\")\n",
        "  f.write(\"#log = \\n\")\n",
        "  f.write(\"\\n\")\n",
        "  f.write(\"#OTHER OPTIONS \\n\")\n",
        "  f.write(\"#cpu =  \\n\")\n",
        "  f.write(\"#exhaustiveness = \\n\")\n",
        "  f.write(\"#num_modes = \\n\")\n",
        "  f.write(\"#energy_range = \\n\")\n",
        "  f.write(\"#seed = \")"
      ],
      "execution_count": null,
      "outputs": []
    },
    {
      "cell_type": "markdown",
      "metadata": {
        "id": "cfxxqcf-XdU3"
      },
      "source": [
        "4. Lastly, we will enter into the folder that we created for the docking experiment and **perform our first molecular docking with Autodock**.\n",
        "\n",
        "  Once you execute the lines of code shown below, Autodock will show you a progress bar (if running as expected). **This simulation should not take longer than 5 min**.\n",
        "\n",
        "  Note that we are defining the filenames of the output and log file outside the configuration file."
      ]
    },
    {
      "cell_type": "code",
      "metadata": {
        "id": "LRlv9MqoCC19"
      },
      "source": [
        "%cd {local_path}/single-dock\n",
        "#Executing AutoDock Vina with our configuration file\n",
        "%vina --config config_singledock"
      ],
      "execution_count": null,
      "outputs": []
    },
    {
      "cell_type": "markdown",
      "source": [
        "Now you should assess the quality of your docking exercise. In general the first question is about convergence of the prediction. Above you should see something like is shown in the following figure: a list of 9 binding modes with their scoring (affinity, the lower is the better) and a lower/upper bound RMSD value calculated with respect to the best scoring pose. The lower bound is calculated using equivalent atom types, while the upper bound RMSD is calculated as a 1:1 superposition (so is more reliable).\n",
        "\n",
        "**Ideally** if the program was super confident about the pose you should see all the nine pose with comparable score and very low upper bound RMSD. This would mean that all poses are very similar and with very similar scores.\n",
        "\n",
        "In the **worse case** you have many modes with very similar scores but with very different poses (i.e. high upper bound RMSD). In the figure shown below we are close to such situation. This may mean that\n",
        "\n",
        "1.   the box is TOO SMALL (i.e the program does not really know how to put the ligand)\n",
        "2.   the box is TOO LARGE (i.e. the program is too free to put the ligand everywhere)\n",
        "3.   the protein/ligand do not like to interact.\n",
        "\n",
        "**At this point you can try to improve your box choice to see if you can get a more confident predition.**"
      ],
      "metadata": {
        "id": "L-cUbx4sCHtb"
      }
    },
    {
      "cell_type": "markdown",
      "source": [
        "![Screenshot 2024-10-29 at 17.11.13.png](data:image/png;base64,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)"
      ],
      "metadata": {
        "id": "XPGbzAQjCR65"
      }
    },
    {
      "cell_type": "code",
      "metadata": {
        "id": "mR2lXub9aLPj"
      },
      "source": [
        "%cd {local_path}"
      ],
      "execution_count": null,
      "outputs": []
    },
    {
      "cell_type": "markdown",
      "metadata": {
        "id": "If6YK_XVYPmB"
      },
      "source": [
        "5. Once the molecular docking has finished running and you are happy about the results, we will compare the docking poses with the experimentally solved pose for indinavir. In fact, the structure of HIV-2 protease that you downloaded at the beginning of this tutorial was solved with indinavir bound to it.\n",
        "\n",
        "  The following lines of code are similar to what we did with extracting the 'ATOM' lines of the PDB file, but now we are extracting the lines containing **'MK1'**, the name of the ligand in this PDB file."
      ]
    },
    {
      "cell_type": "code",
      "metadata": {
        "id": "P1P1XSGWv9pe"
      },
      "source": [
        "#Here, we will be extracting Indinavir, which is present in the structure of\n",
        "#HIV-2 protease (yes! this is a simulation with experimental validation!)\n",
        "#The approach is similar to printing the ATOM and TER lines, but we are using\n",
        "#the residue name given to the ligand in the experimentally solved structure: MK1\n",
        "protein = \"1HSG.pdb\"\n",
        "\n",
        "with open(\"single-dock/xtal_ligand.pdb\",\"w\") as g:\n",
        "  f = open(protein,'r')\n",
        "  for line in f:\n",
        "    row = line.split()\n",
        "    if \"MK1\" in row:\n",
        "      g.write(line)\n",
        "  g.write(\"END\")"
      ],
      "execution_count": null,
      "outputs": []
    },
    {
      "cell_type": "markdown",
      "metadata": {
        "id": "tGnWy5aVaFOP"
      },
      "source": [
        "6. We also need the different docking poses generated as a result of the molecular docking simulation. We will split these poses into separate PDB files using **babel**, starting with file numbered as 1 corresponding to the lowest-energy pose."
      ]
    },
    {
      "cell_type": "code",
      "metadata": {
        "id": "JDkf9pyuZdd2"
      },
      "source": [
        "#We need to convert our Autodock Vina results from pdbqt into pdb\n",
        "#For this, we use babel\n",
        "!obabel -ipdbqt single-dock/indinavir_out.pdbqt -opdb -O single-dock/indinavir_dock.pdb -m"
      ],
      "execution_count": null,
      "outputs": []
    },
    {
      "cell_type": "markdown",
      "metadata": {
        "id": "MFq6k5RofGAm"
      },
      "source": [
        "7. Finally, we create another visualizer (**ViewDocking**) to load our protein, any docking pose of our choice and the experimentally solved binding pose of indinavir."
      ]
    },
    {
      "cell_type": "code",
      "metadata": {
        "id": "OfdbNwTaZU2r"
      },
      "source": [
        "#We finally create a visualization of the protein as cartoon,\n",
        "#the lowest-energy docking pose with its carbons in green\n",
        "#and the experimental binding pose with its carbons in gray\n",
        "def viewdocking(protein_name,ligand_name,exp_name):\n",
        "  mview = py3Dmol.view(800, 400)\n",
        "  mol1 = open(protein_name, 'r').read()\n",
        "  mol2 = open(ligand_name, 'r').read()\n",
        "  mol3 = open(exp_name, 'r').read()\n",
        "  mview.addModel(mol1,'pdb')\n",
        "  mview.setStyle({'model':1},{'cartoon': {'color':'spectrum'}})\n",
        "  mview.addModel(mol2,'pdb')\n",
        "  mview.setStyle({'model':2},{'stick':{'colorscheme':'greenCarbon'}})\n",
        "  mview.addModel(mol3,'pdb')\n",
        "  mview.setStyle({'resn':'MK1'},{'stick':{}})\n",
        "  mview.setBackgroundColor('0xffffff')\n",
        "  mview.zoomTo()\n",
        "  mview.show()"
      ],
      "execution_count": null,
      "outputs": []
    },
    {
      "cell_type": "markdown",
      "metadata": {
        "id": "9qOWn5srwvOU"
      },
      "source": [
        "8. The ViewDocking visualizer can then be used as indicated below."
      ]
    },
    {
      "cell_type": "code",
      "metadata": {
        "id": "J4l1PJsfeeek"
      },
      "source": [
        "#View docking results\n",
        "viewdocking('single-dock/1HSG_prot.pdb','single-dock/indinavir_dock1.pdb','single-dock/xtal_ligand.pdb')\n",
        "#where in green you have the molecule docked by VINA while in gray the experimental pose\n"
      ],
      "execution_count": null,
      "outputs": []
    },
    {
      "cell_type": "markdown",
      "metadata": {
        "id": "3LNYkT95hmRf"
      },
      "source": [
        "You can also visualize the results using VMD"
      ]
    },
    {
      "cell_type": "markdown",
      "source": [
        "## Part 4 – Repeat the docking using the AI based tool DiffDock"
      ],
      "metadata": {
        "id": "8vquYaJm4MIX"
      }
    },
    {
      "cell_type": "markdown",
      "source": [
        "To run DiffDock you need to upload your `single-dock/1HSG_prot.pdb` and paste the smile of the ligand on their server: https://huggingface.co/spaces/simonduerr/diffdock"
      ],
      "metadata": {
        "id": "vQ0FIXlg6tnh"
      }
    },
    {
      "cell_type": "markdown",
      "source": [
        "You can visualise the resulting poses on the webserver and download the resulting ZIP file to visualise it locally using `VMD`.\n",
        "\n",
        "To use VMD you need to open the protein structure PDB file and one of the PDB files of the ligand. This latter one is made of multiple frames that show a diffusion process towards the bound state predicted. It may work better to visualise the ligand using the **\"DynamicsBonds\"** representation."
      ],
      "metadata": {
        "id": "GkNI_KebHZxe"
      }
    },
    {
      "cell_type": "code",
      "source": [],
      "metadata": {
        "id": "QCa44Sp4HwOI"
      },
      "execution_count": null,
      "outputs": []
    }
  ]
}